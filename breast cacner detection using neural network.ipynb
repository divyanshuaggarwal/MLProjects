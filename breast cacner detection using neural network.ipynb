{
  "nbformat": 4,
  "nbformat_minor": 0,
  "metadata": {
    "colab": {
      "name": "Untitled3.ipynb",
      "version": "0.3.2",
      "provenance": []
    },
    "kernelspec": {
      "name": "python3",
      "display_name": "Python 3"
    }
  },
  "cells": [
    {
      "metadata": {
        "id": "TQplusm8yHJR",
        "colab_type": "code",
        "colab": {}
      },
      "cell_type": "code",
      "source": [
        "import tensorflow as tf"
      ],
      "execution_count": 0,
      "outputs": []
    },
    {
      "metadata": {
        "id": "uUtdQpNdyTFr",
        "colab_type": "code",
        "colab": {}
      },
      "cell_type": "code",
      "source": [
        "import numpy as np\n",
        "import matplotlib.pyplot as plt\n",
        "from sklearn.model_selection import train_test_split\n",
        "from sklearn import preprocessing"
      ],
      "execution_count": 0,
      "outputs": []
    },
    {
      "metadata": {
        "id": "cKzx5Q4syVWL",
        "colab_type": "code",
        "colab": {}
      },
      "cell_type": "code",
      "source": [
        "from sklearn.datasets import load_breast_cancer"
      ],
      "execution_count": 0,
      "outputs": []
    },
    {
      "metadata": {
        "id": "GX2UPAh4yxi0",
        "colab_type": "code",
        "colab": {}
      },
      "cell_type": "code",
      "source": [
        "data = load_breast_cancer()"
      ],
      "execution_count": 0,
      "outputs": []
    },
    {
      "metadata": {
        "id": "N0hQcpDdy3L0",
        "colab_type": "code",
        "colab": {
          "base_uri": "https://localhost:8080/",
          "height": 34
        },
        "outputId": "98d20114-acd3-4ad5-eeb5-b9a84043e1c6"
      },
      "cell_type": "code",
      "source": [
        "print(data.data.shape,data.target.shape)"
      ],
      "execution_count": 34,
      "outputs": [
        {
          "output_type": "stream",
          "text": [
            "(569, 30) (569,)\n"
          ],
          "name": "stdout"
        }
      ]
    },
    {
      "metadata": {
        "id": "78VyCIT7y4cn",
        "colab_type": "code",
        "colab": {}
      },
      "cell_type": "code",
      "source": [
        "from keras.models import Sequential\n",
        "from keras.layers import Dense"
      ],
      "execution_count": 0,
      "outputs": []
    },
    {
      "metadata": {
        "id": "2idm4ipMzjtR",
        "colab_type": "code",
        "colab": {}
      },
      "cell_type": "code",
      "source": [
        "model = Sequential()"
      ],
      "execution_count": 0,
      "outputs": []
    },
    {
      "metadata": {
        "id": "JPOVFsENzvFC",
        "colab_type": "code",
        "colab": {}
      },
      "cell_type": "code",
      "source": [
        "layer1 = Dense(units=32, activation = 'relu', input_dim = 30)\n",
        "model.add(layer1)\n",
        "model.add(Dense(units=16, activation = 'relu'))\n",
        "model.add(Dense(units = 64, activation = 'relu'))\n",
        "model.add(Dense(units = 128, activation = 'relu'))\n",
        "model.add(Dense(units = 64, activation = 'relu'))\n",
        "model.add(Dense(units=1, activation = 'sigmoid'))"
      ],
      "execution_count": 0,
      "outputs": []
    },
    {
      "metadata": {
        "id": "2HX04BvHz8sg",
        "colab_type": "code",
        "colab": {}
      },
      "cell_type": "code",
      "source": [
        "model.compile(optimizer='adam', loss='binary_crossentropy', metrics=['accuracy'])"
      ],
      "execution_count": 0,
      "outputs": []
    },
    {
      "metadata": {
        "id": "pwYjKet-z-kW",
        "colab_type": "code",
        "colab": {}
      },
      "cell_type": "code",
      "source": [
        "from sklearn import datasets\n",
        "cancer = datasets.load_breast_cancer()\n",
        "from sklearn.model_selection import train_test_split\n",
        "\n",
        "x_train, x_test, y_train, y_test = train_test_split(cancer.data, cancer.target, test_size = 0.2, random_state = 0)\n",
        "\n",
        "from sklearn.preprocessing import StandardScaler\n",
        "\n",
        "sc = StandardScaler()\n",
        "x_train = sc.fit_transform(x_train)\n",
        "x_test = sc.transform(x_test)"
      ],
      "execution_count": 0,
      "outputs": []
    },
    {
      "metadata": {
        "id": "TTcHVO6O0BtT",
        "colab_type": "code",
        "colab": {
          "base_uri": "https://localhost:8080/",
          "height": 731
        },
        "outputId": "a264e186-e5de-4398-cc93-f76119617a89"
      },
      "cell_type": "code",
      "source": [
        "model.fit(x_train, y_train, epochs=20, batch_size = 50, validation_data=(x_test, y_test))"
      ],
      "execution_count": 45,
      "outputs": [
        {
          "output_type": "stream",
          "text": [
            "Train on 455 samples, validate on 114 samples\n",
            "Epoch 1/20\n",
            "455/455 [==============================] - 1s 2ms/step - loss: 0.6735 - acc: 0.6462 - val_loss: 0.6555 - val_acc: 0.5877\n",
            "Epoch 2/20\n",
            "455/455 [==============================] - 0s 80us/step - loss: 0.6282 - acc: 0.6374 - val_loss: 0.5983 - val_acc: 0.5877\n",
            "Epoch 3/20\n",
            "455/455 [==============================] - 0s 69us/step - loss: 0.5445 - acc: 0.6374 - val_loss: 0.5003 - val_acc: 0.5877\n",
            "Epoch 4/20\n",
            "455/455 [==============================] - 0s 66us/step - loss: 0.4216 - acc: 0.6396 - val_loss: 0.3751 - val_acc: 0.9737\n",
            "Epoch 5/20\n",
            "455/455 [==============================] - 0s 69us/step - loss: 0.2959 - acc: 0.9934 - val_loss: 0.2855 - val_acc: 0.9912\n",
            "Epoch 6/20\n",
            "455/455 [==============================] - 0s 77us/step - loss: 0.2267 - acc: 0.9934 - val_loss: 0.2449 - val_acc: 0.9825\n",
            "Epoch 7/20\n",
            "455/455 [==============================] - 0s 68us/step - loss: 0.1785 - acc: 0.9956 - val_loss: 0.1898 - val_acc: 0.9825\n",
            "Epoch 8/20\n",
            "455/455 [==============================] - 0s 67us/step - loss: 0.1208 - acc: 0.9956 - val_loss: 0.1255 - val_acc: 0.9825\n",
            "Epoch 9/20\n",
            "455/455 [==============================] - 0s 78us/step - loss: 0.0814 - acc: 0.9978 - val_loss: 0.0862 - val_acc: 0.9912\n",
            "Epoch 10/20\n",
            "455/455 [==============================] - 0s 66us/step - loss: 0.0523 - acc: 0.9956 - val_loss: 0.0479 - val_acc: 0.9912\n",
            "Epoch 11/20\n",
            "455/455 [==============================] - 0s 63us/step - loss: 0.0331 - acc: 0.9956 - val_loss: 0.0216 - val_acc: 0.9912\n",
            "Epoch 12/20\n",
            "455/455 [==============================] - 0s 67us/step - loss: 0.0324 - acc: 0.9956 - val_loss: 0.0257 - val_acc: 0.9912\n",
            "Epoch 13/20\n",
            "455/455 [==============================] - 0s 84us/step - loss: 0.0243 - acc: 0.9956 - val_loss: 0.0445 - val_acc: 0.9912\n",
            "Epoch 14/20\n",
            "455/455 [==============================] - 0s 64us/step - loss: 0.0212 - acc: 0.9956 - val_loss: 0.0162 - val_acc: 0.9912\n",
            "Epoch 15/20\n",
            "455/455 [==============================] - 0s 69us/step - loss: 0.0174 - acc: 0.9978 - val_loss: 0.0086 - val_acc: 1.0000\n",
            "Epoch 16/20\n",
            "455/455 [==============================] - 0s 60us/step - loss: 0.0168 - acc: 0.9978 - val_loss: 0.0146 - val_acc: 0.9912\n",
            "Epoch 17/20\n",
            "455/455 [==============================] - 0s 57us/step - loss: 0.0162 - acc: 0.9978 - val_loss: 0.0175 - val_acc: 0.9912\n",
            "Epoch 18/20\n",
            "455/455 [==============================] - 0s 67us/step - loss: 0.0162 - acc: 0.9978 - val_loss: 0.0203 - val_acc: 0.9912\n",
            "Epoch 19/20\n",
            "455/455 [==============================] - 0s 67us/step - loss: 0.0160 - acc: 0.9978 - val_loss: 0.0254 - val_acc: 0.9912\n",
            "Epoch 20/20\n",
            "455/455 [==============================] - 0s 67us/step - loss: 0.0163 - acc: 0.9978 - val_loss: 0.0205 - val_acc: 0.9912\n"
          ],
          "name": "stdout"
        },
        {
          "output_type": "execute_result",
          "data": {
            "text/plain": [
              "<keras.callbacks.History at 0x7fc716925a20>"
            ]
          },
          "metadata": {
            "tags": []
          },
          "execution_count": 45
        }
      ]
    },
    {
      "metadata": {
        "id": "wLs2xSoG0DiR",
        "colab_type": "code",
        "colab": {
          "base_uri": "https://localhost:8080/",
          "height": 51
        },
        "outputId": "9d9fd166-0ed6-4137-f22c-679201829d31"
      },
      "cell_type": "code",
      "source": [
        "predictions = model.predict(x_test)\n",
        "score = model.evaluate(x_test, y_test)\n",
        "score"
      ],
      "execution_count": 46,
      "outputs": [
        {
          "output_type": "stream",
          "text": [
            "114/114 [==============================] - 0s 75us/step\n"
          ],
          "name": "stdout"
        },
        {
          "output_type": "execute_result",
          "data": {
            "text/plain": [
              "[0.020524120468875032, 0.9912280701754386]"
            ]
          },
          "metadata": {
            "tags": []
          },
          "execution_count": 46
        }
      ]
    },
    {
      "metadata": {
        "id": "x5PB9tUO0Fzo",
        "colab_type": "code",
        "colab": {}
      },
      "cell_type": "code",
      "source": [
        ""
      ],
      "execution_count": 0,
      "outputs": []
    }
  ]
}
