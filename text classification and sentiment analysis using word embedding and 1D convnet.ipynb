{
 "cells": [
  {
   "cell_type": "code",
   "execution_count": 1,
   "metadata": {},
   "outputs": [
    {
     "name": "stderr",
     "output_type": "stream",
     "text": [
      "Using TensorFlow backend.\n"
     ]
    },
    {
     "data": {
      "text/plain": [
       "'2.2.4'"
      ]
     },
     "execution_count": 1,
     "metadata": {},
     "output_type": "execute_result"
    }
   ],
   "source": [
    "import numpy as np\n",
    "import keras\n",
    "import matplotlib.pyplot as plt\n",
    "%matplotlib inline\n",
    "keras.__version__"
   ]
  },
  {
   "cell_type": "code",
   "execution_count": 2,
   "metadata": {},
   "outputs": [
    {
     "name": "stdout",
     "output_type": "stream",
     "text": [
      "Loading data...\n",
      "25000 test sequences\n",
      "Pad sequences (samples x time)\n",
      "x_train shape: (25000, 500)\n",
      "x_test shape: (25000, 500)\n"
     ]
    }
   ],
   "source": [
    "from keras.datasets import imdb\n",
    "from keras.preprocessing import sequence\n",
    "\n",
    "max_features = 10000  # number of words to consider as features\n",
    "max_len = 500  # cut texts after this number of words (among top max_features most common words)\n",
    "\n",
    "print('Loading data...')\n",
    "np_load_old = np.load\n",
    "\n",
    "# modify the default parameters of np.load\n",
    "np.load = lambda *a,**k: np_load_old(*a, allow_pickle=True, **k)\n",
    "\n",
    "\n",
    "\n",
    "(x_train, y_train), (x_test, y_test) = imdb.load_data(num_words=max_features)\n",
    "\n",
    "# restore np.load for future normal usage\n",
    "np.load = np_load_old\n",
    "\n",
    "print(len(x_test), 'test sequences')\n",
    "\n",
    "print('Pad sequences (samples x time)')\n",
    "x_train = sequence.pad_sequences(x_train, maxlen=max_len)\n",
    "x_test = sequence.pad_sequences(x_test, maxlen=max_len)\n",
    "print('x_train shape:', x_train.shape)\n",
    "print('x_test shape:', x_test.shape)\n"
   ]
  },
  {
   "cell_type": "code",
   "execution_count": 3,
   "metadata": {},
   "outputs": [
    {
     "name": "stdout",
     "output_type": "stream",
     "text": [
      "WARNING:tensorflow:From /usr/local/anaconda3/lib/python3.7/site-packages/tensorflow/python/framework/op_def_library.py:263: colocate_with (from tensorflow.python.framework.ops) is deprecated and will be removed in a future version.\n",
      "Instructions for updating:\n",
      "Colocations handled automatically by placer.\n",
      "_________________________________________________________________\n",
      "Layer (type)                 Output Shape              Param #   \n",
      "=================================================================\n",
      "embedding_1 (Embedding)      (None, 500, 128)          1280000   \n",
      "_________________________________________________________________\n",
      "conv1d_1 (Conv1D)            (None, 494, 32)           28704     \n",
      "_________________________________________________________________\n",
      "max_pooling1d_1 (MaxPooling1 (None, 98, 32)            0         \n",
      "_________________________________________________________________\n",
      "conv1d_2 (Conv1D)            (None, 92, 32)            7200      \n",
      "_________________________________________________________________\n",
      "global_max_pooling1d_1 (Glob (None, 32)                0         \n",
      "_________________________________________________________________\n",
      "dense_1 (Dense)              (None, 1)                 33        \n",
      "=================================================================\n",
      "Total params: 1,315,937\n",
      "Trainable params: 1,315,937\n",
      "Non-trainable params: 0\n",
      "_________________________________________________________________\n",
      "WARNING:tensorflow:From /usr/local/anaconda3/lib/python3.7/site-packages/tensorflow/python/ops/math_ops.py:3066: to_int32 (from tensorflow.python.ops.math_ops) is deprecated and will be removed in a future version.\n",
      "Instructions for updating:\n",
      "Use tf.cast instead.\n",
      "WARNING:tensorflow:From /usr/local/anaconda3/lib/python3.7/site-packages/tensorflow/python/ops/math_grad.py:102: div (from tensorflow.python.ops.math_ops) is deprecated and will be removed in a future version.\n",
      "Instructions for updating:\n",
      "Deprecated in favor of operator or tf.math.divide.\n",
      "Train on 20000 samples, validate on 5000 samples\n",
      "Epoch 1/10\n",
      "20000/20000 [==============================] - 35s 2ms/step - loss: 0.8337 - acc: 0.5092 - val_loss: 0.6874 - val_acc: 0.5650\n",
      "Epoch 2/10\n",
      "20000/20000 [==============================] - 38s 2ms/step - loss: 0.6700 - acc: 0.6386 - val_loss: 0.6641 - val_acc: 0.6590\n",
      "Epoch 3/10\n",
      "20000/20000 [==============================] - 37s 2ms/step - loss: 0.6235 - acc: 0.7528 - val_loss: 0.6077 - val_acc: 0.7432\n",
      "Epoch 4/10\n",
      "20000/20000 [==============================] - 38s 2ms/step - loss: 0.5253 - acc: 0.8082 - val_loss: 0.4838 - val_acc: 0.8068\n",
      "Epoch 5/10\n",
      "20000/20000 [==============================] - 38s 2ms/step - loss: 0.4130 - acc: 0.8479 - val_loss: 0.4295 - val_acc: 0.8288\n",
      "Epoch 6/10\n",
      "20000/20000 [==============================] - 36s 2ms/step - loss: 0.3486 - acc: 0.8696 - val_loss: 0.4040 - val_acc: 0.8414\n",
      "Epoch 7/10\n",
      "20000/20000 [==============================] - 37s 2ms/step - loss: 0.3101 - acc: 0.8720 - val_loss: 0.4306 - val_acc: 0.8256\n",
      "Epoch 8/10\n",
      "20000/20000 [==============================] - 36s 2ms/step - loss: 0.2818 - acc: 0.8632 - val_loss: 0.4254 - val_acc: 0.8104\n",
      "Epoch 9/10\n",
      "20000/20000 [==============================] - 41s 2ms/step - loss: 0.2556 - acc: 0.8415 - val_loss: 0.4462 - val_acc: 0.7950\n",
      "Epoch 10/10\n",
      "20000/20000 [==============================] - 41s 2ms/step - loss: 0.2322 - acc: 0.8230 - val_loss: 0.4773 - val_acc: 0.7672\n"
     ]
    }
   ],
   "source": [
    "from keras.models import Sequential\n",
    "from keras import layers\n",
    "from keras.optimizers import RMSprop\n",
    "\n",
    "model = Sequential()\n",
    "model.add(layers.Embedding(max_features, 128, input_length=max_len))\n",
    "model.add(layers.Conv1D(32, 7, activation='relu'))\n",
    "model.add(layers.MaxPooling1D(5))\n",
    "model.add(layers.Conv1D(32, 7, activation='relu'))\n",
    "model.add(layers.GlobalMaxPooling1D())\n",
    "model.add(layers.Dense(1))\n",
    "\n",
    "model.summary()\n",
    "\n",
    "model.compile(optimizer=RMSprop(lr=1e-4),\n",
    "              loss='binary_crossentropy',\n",
    "              metrics=['acc'])\n",
    "history = model.fit(x_train, y_train,\n",
    "                    epochs=10,\n",
    "                    batch_size=128,\n",
    "                    validation_split=0.2)"
   ]
  },
  {
   "cell_type": "code",
   "execution_count": 4,
   "metadata": {},
   "outputs": [
    {
     "data": {
      "image/png": "[encoded data removed]",
      "text/plain": [
       "<Figure size 432x288 with 1 Axes>"
      ]
     },
     "metadata": {
      "needs_background": "light"
     },
     "output_type": "display_data"
    },
    {
     "data": {
      "image/png": "[encoded data removed]",
      "text/plain": [
       "<Figure size 432x288 with 1 Axes>"
      ]
     },
     "metadata": {
      "needs_background": "light"
     },
     "output_type": "display_data"
    }
   ],
   "source": [
    "import matplotlib.pyplot as plt\n",
    "\n",
    "acc = history.history['acc']\n",
    "val_acc = history.history['val_acc']\n",
    "loss = history.history['loss']\n",
    "val_loss = history.history['val_loss']\n",
    "\n",
    "epochs = range(len(acc))\n",
    "\n",
    "plt.plot(epochs, acc, 'bo', label='Training acc')\n",
    "plt.plot(epochs, val_acc, 'b', label='Validation acc')\n",
    "plt.title('Training and validation accuracy')\n",
    "plt.legend()\n",
    "\n",
    "plt.figure()\n",
    "\n",
    "plt.plot(epochs, loss, 'bo', label='Training loss')\n",
    "plt.plot(epochs, val_loss, 'b', label='Validation loss')\n",
    "plt.title('Training and validation loss')\n",
    "plt.legend()\n",
    "\n",
    "plt.show()"
   ]
  },
  {
   "cell_type": "code",
   "execution_count": 19,
   "metadata": {},
   "outputs": [],
   "source": [
    "from keras.datasets import reuters\n",
    "from keras.preprocessing.sequence import pad_sequences\n",
    "max_len=100\n",
    "vocab_size=1000\n",
    "(x_train, y_train), (x_test, y_test) = reuters.load_data(path=\"reuters.npz\",\n",
    "                                                         num_words=vocab_size, # use top 1000 frequent words\n",
    "                                                         skip_top=5, # skip top frequency word\n",
    "                                                         maxlen=None,\n",
    "                                                         test_split=0.2,\n",
    "                                                         seed=113,\n",
    "                                                         start_char=1,\n",
    "                                                         oov_char=2,\n",
    "                                                         index_from=3)"
   ]
  },
  {
   "cell_type": "code",
   "execution_count": 20,
   "metadata": {},
   "outputs": [],
   "source": [
    "x_train = pad_sequences(x_train, maxlen=max_len)\n",
    "x_test =  pad_sequences(x_test, maxlen=max_len)"
   ]
  },
  {
   "cell_type": "code",
   "execution_count": 21,
   "metadata": {},
   "outputs": [
    {
     "name": "stdout",
     "output_type": "stream",
     "text": [
      "_________________________________________________________________\n",
      "Layer (type)                 Output Shape              Param #   \n",
      "=================================================================\n",
      "embedding_6 (Embedding)      (None, 100, 8)            8000      \n",
      "_________________________________________________________________\n",
      "conv1d_9 (Conv1D)            (None, 100, 32)           800       \n",
      "_________________________________________________________________\n",
      "flatten_3 (Flatten)          (None, 3200)              0         \n",
      "_________________________________________________________________\n",
      "dense_8 (Dense)              (None, 512)               1638912   \n",
      "_________________________________________________________________\n",
      "dropout_3 (Dropout)          (None, 512)               0         \n",
      "_________________________________________________________________\n",
      "dense_9 (Dense)              (None, 46)                23598     \n",
      "=================================================================\n",
      "Total params: 1,671,310\n",
      "Trainable params: 1,671,310\n",
      "Non-trainable params: 0\n",
      "_________________________________________________________________\n"
     ]
    },
    {
     "name": "stderr",
     "output_type": "stream",
     "text": [
      "/usr/local/anaconda3/lib/python3.7/site-packages/ipykernel_launcher.py:6: UserWarning: Update your `Conv1D` call to the Keras 2 API: `Conv1D(activation=\"relu\", filters=32, kernel_size=3, padding=\"same\")`\n",
      "  \n"
     ]
    }
   ],
   "source": [
    "from keras.models import Sequential\n",
    "from keras.layers import Flatten, Dense, Embedding, Dropout\n",
    "from keras.layers.convolutional import Convolution1D, MaxPooling1D\n",
    "model = Sequential()\n",
    "model.add(Embedding(1000, 8, input_length=max_len))\n",
    "model.add(Convolution1D(nb_filter=32, filter_length=3, border_mode='same', activation='relu')) #\n",
    "model.add(Flatten())\n",
    "model.add(Dense(512, activation='relu')) #\n",
    "model.add(Dropout(0.5)) #\n",
    "model.add(Dense(46, activation='softmax'))\n",
    "model.compile(optimizer='adam', loss='categorical_crossentropy', metrics=['acc'])\n",
    "model.summary()"
   ]
  },
  {
   "cell_type": "code",
   "execution_count": 22,
   "metadata": {},
   "outputs": [],
   "source": [
    "from keras.utils import np_utils # one hot encode the y-label\n",
    "y_train = np_utils.to_categorical(y_train, 46)\n",
    "y_test = np_utils.to_categorical(y_test, 46)"
   ]
  },
  {
   "cell_type": "code",
   "execution_count": 23,
   "metadata": {},
   "outputs": [
    {
     "name": "stdout",
     "output_type": "stream",
     "text": [
      "Train on 8083 samples, validate on 899 samples\n",
      "Epoch 1/10\n",
      "8083/8083 [==============================] - 5s 643us/step - loss: 1.9810 - acc: 0.4850 - val_loss: 1.6991 - val_acc: 0.5795\n",
      "Epoch 2/10\n",
      "8083/8083 [==============================] - 5s 589us/step - loss: 1.5644 - acc: 0.5879 - val_loss: 1.5402 - val_acc: 0.6062\n",
      "Epoch 3/10\n",
      "8083/8083 [==============================] - 5s 566us/step - loss: 1.3069 - acc: 0.6613 - val_loss: 1.4475 - val_acc: 0.6507\n",
      "Epoch 4/10\n",
      "8083/8083 [==============================] - 5s 558us/step - loss: 1.1368 - acc: 0.7027 - val_loss: 1.3920 - val_acc: 0.6719\n",
      "Epoch 5/10\n",
      "8083/8083 [==============================] - 5s 591us/step - loss: 0.9858 - acc: 0.7340 - val_loss: 1.3857 - val_acc: 0.6808\n",
      "Epoch 6/10\n",
      "8083/8083 [==============================] - 5s 557us/step - loss: 0.8415 - acc: 0.7691 - val_loss: 1.4476 - val_acc: 0.6752\n",
      "Epoch 7/10\n",
      "8083/8083 [==============================] - 4s 526us/step - loss: 0.6993 - acc: 0.8071 - val_loss: 1.4898 - val_acc: 0.6741\n",
      "Epoch 8/10\n",
      "8083/8083 [==============================] - 4s 526us/step - loss: 0.5513 - acc: 0.8439 - val_loss: 1.5888 - val_acc: 0.6707\n",
      "Epoch 9/10\n",
      "8083/8083 [==============================] - 4s 523us/step - loss: 0.4426 - acc: 0.8749 - val_loss: 1.7165 - val_acc: 0.6719\n",
      "Epoch 10/10\n",
      "8083/8083 [==============================] - 4s 516us/step - loss: 0.3472 - acc: 0.9070 - val_loss: 1.8358 - val_acc: 0.6607\n"
     ]
    }
   ],
   "source": [
    "history = model.fit(x_train, y_train, epochs=10, batch_size=32, validation_split=0.1)"
   ]
  },
  {
   "cell_type": "code",
   "execution_count": 24,
   "metadata": {},
   "outputs": [
    {
     "name": "stdout",
     "output_type": "stream",
     "text": [
      "2246/2246 [==============================] - 0s 52us/step\n"
     ]
    }
   ],
   "source": [
    "score = model.evaluate(x_test, y_test)"
   ]
  },
  {
   "cell_type": "code",
   "execution_count": 25,
   "metadata": {},
   "outputs": [
    {
     "data": {
      "text/plain": [
       "[1.7714343474363494, 0.653606411398041]"
      ]
     },
     "execution_count": 25,
     "metadata": {},
     "output_type": "execute_result"
    }
   ],
   "source": [
    "score"
   ]
  },
  {
   "cell_type": "code",
   "execution_count": 42,
   "metadata": {},
   "outputs": [],
   "source": [
    "from keras.datasets import reuters\n",
    "from keras.preprocessing.sequence import pad_sequences\n",
    "maxlen=1500 # specify the max number of words of each newswire you want\n",
    "vocab_size=1000\n",
    "(x_train, y_train), (x_test, y_test) = reuters.load_data(path=\"reuters.npz\",\n",
    "                                                         num_words=vocab_size, # use top 1000 frequent words\n",
    "                                                         skip_top=5, # skip top frequency word\n",
    "                                                         maxlen=None,\n",
    "                                                         test_split=0.2,\n",
    "                                                         seed=113,\n",
    "                                                         start_char=1,\n",
    "                                                         oov_char=2,\n",
    "                                                         index_from=3)"
   ]
  },
  {
   "cell_type": "code",
   "execution_count": 43,
   "metadata": {},
   "outputs": [],
   "source": [
    "from keras.preprocessing.text import Tokenizer"
   ]
  },
  {
   "cell_type": "code",
   "execution_count": 44,
   "metadata": {},
   "outputs": [],
   "source": [
    "tokenizer = Tokenizer(num_words=maxlen)\n"
   ]
  },
  {
   "cell_type": "code",
   "execution_count": 45,
   "metadata": {},
   "outputs": [],
   "source": [
    "x_train = tokenizer.sequences_to_matrix(x_train, mode='binary')\n",
    "x_test = tokenizer.sequences_to_matrix(x_test, mode='binary')"
   ]
  },
  {
   "cell_type": "code",
   "execution_count": 46,
   "metadata": {},
   "outputs": [],
   "source": [
    "from keras.utils import np_utils # one hot encode the y-label"
   ]
  },
  {
   "cell_type": "code",
   "execution_count": 47,
   "metadata": {},
   "outputs": [],
   "source": [
    "y_train = np_utils.to_categorical(y_train, 46)\n",
    "y_test = np_utils.to_categorical(y_test, 46)"
   ]
  },
  {
   "cell_type": "code",
   "execution_count": 48,
   "metadata": {},
   "outputs": [
    {
     "name": "stdout",
     "output_type": "stream",
     "text": [
      "_________________________________________________________________\n",
      "Layer (type)                 Output Shape              Param #   \n",
      "=================================================================\n",
      "dense_12 (Dense)             (None, 256)               384256    \n",
      "_________________________________________________________________\n",
      "dropout_5 (Dropout)          (None, 256)               0         \n",
      "_________________________________________________________________\n",
      "dense_13 (Dense)             (None, 46)                11822     \n",
      "=================================================================\n",
      "Total params: 396,078\n",
      "Trainable params: 396,078\n",
      "Non-trainable params: 0\n",
      "_________________________________________________________________\n"
     ]
    }
   ],
   "source": [
    "from keras.models import Sequential\n",
    "from keras.layers import Dense, Dropout\n",
    "model = Sequential()\n",
    "model.add(Dense(256, input_shape=(maxlen,), activation='relu')) \n",
    "model.add(Dropout(0.5)) \n",
    "model.add(Dense(46, activation='softmax'))\n",
    "model.compile(optimizer='adam', loss='categorical_crossentropy', metrics=['acc'])\n",
    "model.summary()"
   ]
  },
  {
   "cell_type": "code",
   "execution_count": 54,
   "metadata": {},
   "outputs": [
    {
     "name": "stdout",
     "output_type": "stream",
     "text": [
      "Train on 8083 samples, validate on 899 samples\n",
      "Epoch 1/20\n",
      "8083/8083 [==============================] - 1s 98us/step - loss: 0.1256 - acc: 0.9569 - val_loss: 1.2565 - val_acc: 0.7909\n",
      "Epoch 2/20\n",
      "8083/8083 [==============================] - 1s 91us/step - loss: 0.1358 - acc: 0.9567 - val_loss: 1.2273 - val_acc: 0.7864\n",
      "Epoch 3/20\n",
      "8083/8083 [==============================] - 1s 94us/step - loss: 0.1341 - acc: 0.9592 - val_loss: 1.2507 - val_acc: 0.7898\n",
      "Epoch 4/20\n",
      "8083/8083 [==============================] - 1s 89us/step - loss: 0.1239 - acc: 0.9598 - val_loss: 1.2887 - val_acc: 0.7942\n",
      "Epoch 5/20\n",
      "8083/8083 [==============================] - 1s 91us/step - loss: 0.1183 - acc: 0.9624 - val_loss: 1.3251 - val_acc: 0.7875\n",
      "Epoch 6/20\n",
      "8083/8083 [==============================] - 1s 93us/step - loss: 0.1190 - acc: 0.9607 - val_loss: 1.3003 - val_acc: 0.7875\n",
      "Epoch 7/20\n",
      "8083/8083 [==============================] - 1s 92us/step - loss: 0.1169 - acc: 0.9614 - val_loss: 1.3025 - val_acc: 0.7931\n",
      "Epoch 8/20\n",
      "8083/8083 [==============================] - 1s 90us/step - loss: 0.1240 - acc: 0.9576 - val_loss: 1.3148 - val_acc: 0.7753\n",
      "Epoch 9/20\n",
      "8083/8083 [==============================] - 1s 91us/step - loss: 0.1275 - acc: 0.9563 - val_loss: 1.2976 - val_acc: 0.7853\n",
      "Epoch 10/20\n",
      "8083/8083 [==============================] - 1s 94us/step - loss: 0.1195 - acc: 0.9635 - val_loss: 1.3300 - val_acc: 0.7753\n",
      "Epoch 11/20\n",
      "8083/8083 [==============================] - 1s 101us/step - loss: 0.1152 - acc: 0.9621 - val_loss: 1.3529 - val_acc: 0.7820\n",
      "Epoch 12/20\n",
      "8083/8083 [==============================] - 1s 91us/step - loss: 0.1163 - acc: 0.9595 - val_loss: 1.3325 - val_acc: 0.7753\n",
      "Epoch 13/20\n",
      "8083/8083 [==============================] - 1s 103us/step - loss: 0.1188 - acc: 0.9615 - val_loss: 1.3435 - val_acc: 0.7898\n",
      "Epoch 14/20\n",
      "8083/8083 [==============================] - 1s 101us/step - loss: 0.1126 - acc: 0.9626 - val_loss: 1.3833 - val_acc: 0.7909\n",
      "Epoch 15/20\n",
      "8083/8083 [==============================] - 1s 103us/step - loss: 0.1221 - acc: 0.9593 - val_loss: 1.3723 - val_acc: 0.7786\n",
      "Epoch 16/20\n",
      "8083/8083 [==============================] - 1s 94us/step - loss: 0.1109 - acc: 0.9612 - val_loss: 1.3909 - val_acc: 0.7864\n",
      "Epoch 17/20\n",
      "8083/8083 [==============================] - 1s 93us/step - loss: 0.1159 - acc: 0.9595 - val_loss: 1.3805 - val_acc: 0.7820\n",
      "Epoch 18/20\n",
      "8083/8083 [==============================] - 1s 90us/step - loss: 0.1115 - acc: 0.9616 - val_loss: 1.4163 - val_acc: 0.7887\n",
      "Epoch 19/20\n",
      "8083/8083 [==============================] - 1s 95us/step - loss: 0.1121 - acc: 0.9610 - val_loss: 1.4022 - val_acc: 0.7909\n",
      "Epoch 20/20\n",
      "8083/8083 [==============================] - 1s 96us/step - loss: 0.1090 - acc: 0.9608 - val_loss: 1.4222 - val_acc: 0.7842\n"
     ]
    }
   ],
   "source": [
    "history = model.fit(x_train, y_train, epochs=20, batch_size=32, validation_split=0.1)"
   ]
  },
  {
   "cell_type": "code",
   "execution_count": 52,
   "metadata": {},
   "outputs": [
    {
     "name": "stdout",
     "output_type": "stream",
     "text": [
      "2246/2246 [==============================] - 0s 25us/step\n"
     ]
    }
   ],
   "source": [
    "score = model.evaluate(x_test, y_test)"
   ]
  },
  {
   "cell_type": "code",
   "execution_count": 55,
   "metadata": {},
   "outputs": [
    {
     "data": {
      "text/plain": [
       "[1.2049899294454927, 0.7889581478183437]"
      ]
     },
     "execution_count": 55,
     "metadata": {},
     "output_type": "execute_result"
    }
   ],
   "source": [
    "score"
   ]
  },
  {
   "cell_type": "code",
   "execution_count": 71,
   "metadata": {},
   "outputs": [],
   "source": [
    "from keras.preprocessing.text import Tokenizer\n",
    "from keras.preprocessing.sequence import pad_sequences\n",
    "import numpy as np\n",
    "\n",
    "maxlen = 1500  # We will cut reviews after 100 words\n",
    "training_samples = 200  # We will be training on 200 samples\n",
    "validation_samples = 10000  # We will be validating on 10000 samples\n",
    "max_words = 10000  # We will only consider the top 10,000 words in the dataset"
   ]
  },
  {
   "cell_type": "code",
   "execution_count": 72,
   "metadata": {},
   "outputs": [],
   "source": [
    "word_index = tokenizer.word_index"
   ]
  },
  {
   "cell_type": "code",
   "execution_count": 73,
   "metadata": {},
   "outputs": [
    {
     "name": "stdout",
     "output_type": "stream",
     "text": [
      "Found 400000 word vectors.\n"
     ]
    }
   ],
   "source": [
    "glove_dir = 'glove.6B'\n",
    "\n",
    "embeddings_index = {}\n",
    "f = open(os.path.join(glove_dir, 'glove.6B.100d.txt'))\n",
    "for line in f:\n",
    "    values = line.split()\n",
    "    word = values[0]\n",
    "    coefs = np.asarray(values[1:], dtype='float32')\n",
    "    embeddings_index[word] = coefs\n",
    "f.close()\n",
    "\n",
    "print('Found %s word vectors.' % len(embeddings_index))"
   ]
  },
  {
   "cell_type": "code",
   "execution_count": 74,
   "metadata": {},
   "outputs": [],
   "source": [
    "embedding_dim = 100\n",
    "\n",
    "embedding_matrix = np.zeros((max_words, embedding_dim))\n",
    "for word, i in word_index.items():\n",
    "    embedding_vector = embeddings_index.get(word)\n",
    "    if i < max_words:\n",
    "        if embedding_vector is not None:\n",
    "            # Words not found in embedding index will be all-zeros.\n",
    "            embedding_matrix[i] = embedding_vector"
   ]
  },
  {
   "cell_type": "code",
   "execution_count": 75,
   "metadata": {},
   "outputs": [
    {
     "name": "stdout",
     "output_type": "stream",
     "text": [
      "_________________________________________________________________\n",
      "Layer (type)                 Output Shape              Param #   \n",
      "=================================================================\n",
      "embedding_9 (Embedding)      (None, 1500, 100)         1000000   \n",
      "_________________________________________________________________\n",
      "flatten_6 (Flatten)          (None, 150000)            0         \n",
      "_________________________________________________________________\n",
      "dense_18 (Dense)             (None, 32)                4800032   \n",
      "_________________________________________________________________\n",
      "dense_19 (Dense)             (None, 46)                1518      \n",
      "=================================================================\n",
      "Total params: 5,801,550\n",
      "Trainable params: 5,801,550\n",
      "Non-trainable params: 0\n",
      "_________________________________________________________________\n"
     ]
    }
   ],
   "source": [
    "from keras.models import Sequential\n",
    "from keras.layers import Embedding, Flatten, Dense\n",
    "\n",
    "model = Sequential()\n",
    "model.add(Embedding(max_words, embedding_dim, input_length=maxlen))\n",
    "model.add(Flatten())\n",
    "model.add(Dense(32, activation='relu'))\n",
    "model.add(Dense(46, activation='softmax'))\n",
    "model.summary()"
   ]
  },
  {
   "cell_type": "code",
   "execution_count": 76,
   "metadata": {},
   "outputs": [],
   "source": [
    "model.layers[0].set_weights([embedding_matrix])\n",
    "model.layers[0].trainable = False"
   ]
  },
  {
   "cell_type": "code",
   "execution_count": 77,
   "metadata": {},
   "outputs": [
    {
     "name": "stdout",
     "output_type": "stream",
     "text": [
      "Train on 8083 samples, validate on 899 samples\n",
      "Epoch 1/10\n",
      "8083/8083 [==============================] - 10s 1ms/step - loss: 3.6837 - acc: 0.3481 - val_loss: 3.5551 - val_acc: 0.3315\n",
      "Epoch 2/10\n",
      "8083/8083 [==============================] - 9s 1ms/step - loss: 3.4281 - acc: 0.3540 - val_loss: 3.3198 - val_acc: 0.3315\n",
      "Epoch 3/10\n",
      "8083/8083 [==============================] - 9s 1ms/step - loss: 3.2026 - acc: 0.3540 - val_loss: 3.1140 - val_acc: 0.3315\n",
      "Epoch 4/10\n",
      "8083/8083 [==============================] - 8s 1ms/step - loss: 3.0053 - acc: 0.3540 - val_loss: 2.9370 - val_acc: 0.3315\n",
      "Epoch 5/10\n",
      "8083/8083 [==============================] - 8s 1ms/step - loss: 2.8377 - acc: 0.3540 - val_loss: 2.7910 - val_acc: 0.3315\n",
      "Epoch 6/10\n",
      "8083/8083 [==============================] - 8s 1ms/step - loss: 2.7003 - acc: 0.3540 - val_loss: 2.6760 - val_acc: 0.3315\n",
      "Epoch 7/10\n",
      "8083/8083 [==============================] - 9s 1ms/step - loss: 2.5954 - acc: 0.3540 - val_loss: 2.5922 - val_acc: 0.3315\n",
      "Epoch 8/10\n",
      "8083/8083 [==============================] - 9s 1ms/step - loss: 2.5184 - acc: 0.3540 - val_loss: 2.5349 - val_acc: 0.3315\n",
      "Epoch 9/10\n",
      "8083/8083 [==============================] - 10s 1ms/step - loss: 2.4681 - acc: 0.3540 - val_loss: 2.5006 - val_acc: 0.3315\n",
      "Epoch 10/10\n",
      "8083/8083 [==============================] - 9s 1ms/step - loss: 2.4366 - acc: 0.3540 - val_loss: 2.4826 - val_acc: 0.3315\n"
     ]
    }
   ],
   "source": [
    "model.compile(optimizer='rmsprop',\n",
    "              loss='categorical_crossentropy',\n",
    "              metrics=['acc'])\n",
    "history = model.fit(x_train, y_train,\n",
    "                    epochs=10,\n",
    "                    batch_size=32,\n",
    "                     validation_split=0.1)\n",
    "model.save_weights('pre_trained_glove_model.h5')\n"
   ]
  },
  {
   "cell_type": "code",
   "execution_count": 78,
   "metadata": {},
   "outputs": [
    {
     "data": {
      "image/png": "[encoded data removed]",
      "text/plain": [
       "<Figure size 432x288 with 1 Axes>"
      ]
     },
     "metadata": {
      "needs_background": "light"
     },
     "output_type": "display_data"
    },
    {
     "data": {
      "image/png": "[encoded data removed]",
      "text/plain": [
       "<Figure size 432x288 with 1 Axes>"
      ]
     },
     "metadata": {
      "needs_background": "light"
     },
     "output_type": "display_data"
    }
   ],
   "source": [
    "import matplotlib.pyplot as plt\n",
    "\n",
    "acc = history.history['acc']\n",
    "val_acc = history.history['val_acc']\n",
    "loss = history.history['loss']\n",
    "val_loss = history.history['val_loss']\n",
    "\n",
    "epochs = range(1, len(acc) + 1)\n",
    "\n",
    "plt.plot(epochs, acc, 'bo', label='Training acc')\n",
    "plt.plot(epochs, val_acc, 'b', label='Validation acc')\n",
    "plt.title('Training and validation accuracy')\n",
    "plt.legend()\n",
    "\n",
    "plt.figure()\n",
    "\n",
    "plt.plot(epochs, loss, 'bo', label='Training loss')\n",
    "plt.plot(epochs, val_loss, 'b', label='Validation loss')\n",
    "plt.title('Training and validation loss')\n",
    "plt.legend()\n",
    "\n",
    "plt.show()"
   ]
  },
  {
   "cell_type": "code",
   "execution_count": 87,
   "metadata": {},
   "outputs": [
    {
     "name": "stdout",
     "output_type": "stream",
     "text": [
      "_________________________________________________________________\n",
      "Layer (type)                 Output Shape              Param #   \n",
      "=================================================================\n",
      "embedding_14 (Embedding)     (None, 1500, 100)         1000000   \n",
      "_________________________________________________________________\n",
      "flatten_11 (Flatten)         (None, 150000)            0         \n",
      "_________________________________________________________________\n",
      "dense_30 (Dense)             (None, 32)                4800032   \n",
      "_________________________________________________________________\n",
      "dense_31 (Dense)             (None, 46)                1518      \n",
      "=================================================================\n",
      "Total params: 5,801,550\n",
      "Trainable params: 5,801,550\n",
      "Non-trainable params: 0\n",
      "_________________________________________________________________\n",
      "Train on 8083 samples, validate on 899 samples\n",
      "Epoch 1/10\n",
      "8083/8083 [==============================] - 11s 1ms/step - loss: 1.8345 - acc: 0.6208 - val_loss: 1.2544 - val_acc: 0.7241\n",
      "Epoch 2/10\n",
      "8083/8083 [==============================] - 11s 1ms/step - loss: 0.9292 - acc: 0.7935 - val_loss: 1.0875 - val_acc: 0.7642\n",
      "Epoch 3/10\n",
      "8083/8083 [==============================] - 11s 1ms/step - loss: 0.6640 - acc: 0.8478 - val_loss: 1.1489 - val_acc: 0.7675\n",
      "Epoch 4/10\n",
      "8083/8083 [==============================] - 11s 1ms/step - loss: 0.5043 - acc: 0.8807 - val_loss: 1.2098 - val_acc: 0.7731\n",
      "Epoch 5/10\n",
      "8083/8083 [==============================] - 11s 1ms/step - loss: 0.4123 - acc: 0.9018 - val_loss: 1.2456 - val_acc: 0.7720\n",
      "Epoch 6/10\n",
      "8083/8083 [==============================] - 11s 1ms/step - loss: 0.3497 - acc: 0.9188 - val_loss: 1.3627 - val_acc: 0.7631\n",
      "Epoch 7/10\n",
      "8083/8083 [==============================] - 11s 1ms/step - loss: 0.3154 - acc: 0.9305 - val_loss: 1.4228 - val_acc: 0.7553\n",
      "Epoch 8/10\n",
      "8083/8083 [==============================] - 11s 1ms/step - loss: 0.2752 - acc: 0.9369 - val_loss: 1.4174 - val_acc: 0.7542\n",
      "Epoch 9/10\n",
      "8083/8083 [==============================] - 11s 1ms/step - loss: 0.2547 - acc: 0.9415 - val_loss: 1.5266 - val_acc: 0.7686\n",
      "Epoch 10/10\n",
      "8083/8083 [==============================] - 11s 1ms/step - loss: 0.2438 - acc: 0.9435 - val_loss: 1.6366 - val_acc: 0.7586\n"
     ]
    }
   ],
   "source": [
    "from keras.models import Sequential\n",
    "from keras.layers import Embedding, Flatten, Dense\n",
    "\n",
    "model = Sequential()\n",
    "model.add(Embedding(max_words, embedding_dim, input_length=maxlen))\n",
    "model.add(Flatten())\n",
    "model.add(Dense(32, activation='relu'))\n",
    "model.add(Dense(46, activation='softmax'))\n",
    "model.summary()\n",
    "\n",
    "model.compile(optimizer='rmsprop',\n",
    "              loss='categorical_crossentropy',\n",
    "              metrics=['acc'])\n",
    "history = model.fit(x_train, y_train,\n",
    "                    epochs=10,\n",
    "                    batch_size=32,\n",
    "                    validation_split = 0.1)\n"
   ]
  },
  {
   "cell_type": "code",
   "execution_count": 88,
   "metadata": {},
   "outputs": [
    {
     "data": {
      "image/png": "[encoded data removed]",
      "text/plain": [
       "<Figure size 432x288 with 1 Axes>"
      ]
     },
     "metadata": {
      "needs_background": "light"
     },
     "output_type": "display_data"
    },
    {
     "data": {
      "image/png": "[encoded data removed]",
      "text/plain": [
       "<Figure size 432x288 with 1 Axes>"
      ]
     },
     "metadata": {
      "needs_background": "light"
     },
     "output_type": "display_data"
    }
   ],
   "source": [
    "acc = history.history['acc']\n",
    "val_acc = history.history['val_acc']\n",
    "loss = history.history['loss']\n",
    "val_loss = history.history['val_loss']\n",
    "\n",
    "epochs = range(1, len(acc) + 1)\n",
    "\n",
    "plt.plot(epochs, acc, 'bo', label='Training acc')\n",
    "plt.plot(epochs, val_acc, 'b', label='Validation acc')\n",
    "plt.title('Training and validation accuracy')\n",
    "plt.legend()\n",
    "\n",
    "plt.figure()\n",
    "\n",
    "plt.plot(epochs, loss, 'bo', label='Training loss')\n",
    "plt.plot(epochs, val_loss, 'b', label='Validation loss')\n",
    "plt.title('Training and validation loss')\n",
    "plt.legend()\n",
    "\n",
    "plt.show()"
   ]
  },
  {
   "cell_type": "code",
   "execution_count": 89,
   "metadata": {},
   "outputs": [
    {
     "name": "stdout",
     "output_type": "stream",
     "text": [
      "2246/2246 [==============================] - 0s 183us/step\n"
     ]
    },
    {
     "data": {
      "text/plain": [
       "[2.43911668793601, 0.36197684778237277]"
      ]
     },
     "execution_count": 89,
     "metadata": {},
     "output_type": "execute_result"
    }
   ],
   "source": [
    "model.load_weights('pre_trained_glove_model.h5')\n",
    "model.evaluate(x_test, y_test)"
   ]
  },
  {
   "cell_type": "code",
   "execution_count": null,
   "metadata": {},
   "outputs": [],
   "source": []
  }
 ],
 "metadata": {
  "kernelspec": {
   "display_name": "Python 3",
   "language": "python",
   "name": "python3"
  },
  "language_info": {
   "codemirror_mode": {
    "name": "ipython",
    "version": 3
   },
   "file_extension": ".py",
   "mimetype": "text/x-python",
   "name": "python",
   "nbconvert_exporter": "python",
   "pygments_lexer": "ipython3",
   "version": "3.7.2"
  }
 },
 "nbformat": 4,
 "nbformat_minor": 2
}
