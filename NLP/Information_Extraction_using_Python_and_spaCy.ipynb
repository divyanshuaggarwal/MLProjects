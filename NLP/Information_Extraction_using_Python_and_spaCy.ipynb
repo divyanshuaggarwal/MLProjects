{
  "nbformat": 4,
  "nbformat_minor": 0,
  "metadata": {
    "colab": {
      "name": "Information Extraction using Python and spaCy.ipynb",
      "provenance": [],
      "authorship_tag": "ABX9TyP3fW4lCP9j1sTlrP/GOnGu",
      "include_colab_link": true
    },
    "kernelspec": {
      "name": "python3",
      "display_name": "Python 3"
    },
    "accelerator": "GPU"
  },
  "cells": [
    {
      "cell_type": "markdown",
      "metadata": {
        "id": "view-in-github",
        "colab_type": "text"
      },
      "source": [
        "<a href=\"https://colab.research.google.com/github/divyanshuaggarwal/MyProjects/blob/master/Information_Extraction_using_Python_and_spaCy.ipynb\" target=\"_parent\"><img src=\"https://colab.research.google.com/assets/colab-badge.svg\" alt=\"Open In Colab\"/></a>"
      ]
    },
    {
      "cell_type": "markdown",
      "metadata": {
        "id": "1bSGUSo3zad2",
        "colab_type": "text"
      },
      "source": [
        "# Information Extraction using Python and spaCy"
      ]
    },
    {
      "cell_type": "markdown",
      "metadata": {
        "id": "4Oo8-wR6z0AB",
        "colab_type": "text"
      },
      "source": [
        "##  spaCy’s Rule-Based Matching"
      ]
    },
    {
      "cell_type": "code",
      "metadata": {
        "id": "HeQwhZN9yVFr",
        "colab_type": "code",
        "colab": {}
      },
      "source": [
        "import re \n",
        "import string \n",
        "import nltk \n",
        "import spacy \n",
        "import pandas as pd \n",
        "import numpy as np \n",
        "import math \n",
        "from tqdm import tqdm \n",
        "\n",
        "from spacy.matcher import Matcher \n",
        "from spacy.tokens import Span \n",
        "from spacy import displacy \n",
        "\n",
        "pd.set_option('display.max_colwidth', 200)"
      ],
      "execution_count": 0,
      "outputs": []
    },
    {
      "cell_type": "code",
      "metadata": {
        "id": "fxwnfncayXb0",
        "colab_type": "code",
        "colab": {}
      },
      "source": [
        "# load spaCy model\n",
        "nlp = spacy.load(\"en_core_web_sm\")"
      ],
      "execution_count": 0,
      "outputs": []
    },
    {
      "cell_type": "markdown",
      "metadata": {
        "id": "O4JCDQh4z5R8",
        "colab_type": "text"
      },
      "source": [
        "### Pattern: X such as Y"
      ]
    },
    {
      "cell_type": "code",
      "metadata": {
        "id": "4-tEFDmWyZBb",
        "colab_type": "code",
        "colab": {}
      },
      "source": [
        "# sample text \n",
        "text = \"GDP in developing countries such as Vietnam will continue growing at a high rate.\" \n",
        "\n",
        "# create a spaCy object \n",
        "doc = nlp(text)"
      ],
      "execution_count": 0,
      "outputs": []
    },
    {
      "cell_type": "code",
      "metadata": {
        "id": "HwY-VivTyeef",
        "colab_type": "code",
        "colab": {
          "base_uri": "https://localhost:8080/",
          "height": 272
        },
        "outputId": "48994456-1590-4483-d727-6fc8c81d72d8"
      },
      "source": [
        "# print token, dependency, POS tag \n",
        "for tok in doc: \n",
        "  print(tok.text, \"-->\",tok.dep_,\"-->\", tok.pos_)"
      ],
      "execution_count": 4,
      "outputs": [
        {
          "output_type": "stream",
          "text": [
            "GDP --> nsubj --> NOUN\n",
            "in --> prep --> ADP\n",
            "developing --> amod --> VERB\n",
            "countries --> pobj --> NOUN\n",
            "such --> amod --> ADJ\n",
            "as --> prep --> SCONJ\n",
            "Vietnam --> pobj --> PROPN\n",
            "will --> aux --> VERB\n",
            "continue --> ROOT --> VERB\n",
            "growing --> xcomp --> VERB\n",
            "at --> prep --> ADP\n",
            "a --> det --> DET\n",
            "high --> amod --> ADJ\n",
            "rate --> pobj --> NOUN\n",
            ". --> punct --> PUNCT\n"
          ],
          "name": "stdout"
        }
      ]
    },
    {
      "cell_type": "code",
      "metadata": {
        "id": "Rpt1BKVZygEG",
        "colab_type": "code",
        "colab": {
          "base_uri": "https://localhost:8080/",
          "height": 34
        },
        "outputId": "44898e30-959e-4646-9613-e24feca39482"
      },
      "source": [
        "#define the pattern \n",
        "pattern = [{'POS':'NOUN'}, \n",
        "           {'LOWER': 'such'}, \n",
        "           {'LOWER': 'as'}, \n",
        "           {'POS': 'PROPN'} ]#proper noun"
      ],
      "execution_count": 5,
      "outputs": [
        {
          "output_type": "stream",
          "text": [
            "ERROR! Session/line number was not unique in database. History logging moved to new session 59\n"
          ],
          "name": "stdout"
        }
      ]
    },
    {
      "cell_type": "code",
      "metadata": {
        "id": "7uyWiyV3yh7v",
        "colab_type": "code",
        "colab": {
          "base_uri": "https://localhost:8080/",
          "height": 34
        },
        "outputId": "fe3f07d0-847a-4183-e204-7f643aaf6c36"
      },
      "source": [
        "# Matcher class object \n",
        "matcher = Matcher(nlp.vocab) \n",
        "matcher.add(\"matching_1\", None, pattern) \n",
        "\n",
        "matches = matcher(doc) \n",
        "span = doc[matches[0][1]:matches[0][2]] \n",
        "\n",
        "print(span.text)"
      ],
      "execution_count": 6,
      "outputs": [
        {
          "output_type": "stream",
          "text": [
            "countries such as Vietnam\n"
          ],
          "name": "stdout"
        }
      ]
    },
    {
      "cell_type": "code",
      "metadata": {
        "id": "7XjJeqQDypYo",
        "colab_type": "code",
        "colab": {
          "base_uri": "https://localhost:8080/",
          "height": 34
        },
        "outputId": "24745aee-036e-4cfc-a480-b0185bee5075"
      },
      "source": [
        "# Matcher class object\n",
        "matcher = Matcher(nlp.vocab)\n",
        "\n",
        "#define the pattern\n",
        "pattern = [{'DEP':'amod', 'OP':\"?\"}, # adjectival modifier\n",
        "           {'POS':'NOUN'},\n",
        "           {'LOWER': 'such'},\n",
        "           {'LOWER': 'as'},\n",
        "           {'POS': 'PROPN'}]\n",
        "\n",
        "matcher.add(\"matching_1\", None, pattern)\n",
        "matches = matcher(doc)\n",
        "\n",
        "span = doc[matches[0][1]:matches[0][2]]\n",
        "print(span.text)"
      ],
      "execution_count": 7,
      "outputs": [
        {
          "output_type": "stream",
          "text": [
            "developing countries such as Vietnam\n"
          ],
          "name": "stdout"
        }
      ]
    },
    {
      "cell_type": "markdown",
      "metadata": {
        "id": "kbn06kbD0B7e",
        "colab_type": "text"
      },
      "source": [
        "### Pattern: X and/or Y"
      ]
    },
    {
      "cell_type": "code",
      "metadata": {
        "id": "g-7smJVnysR5",
        "colab_type": "code",
        "colab": {
          "base_uri": "https://localhost:8080/",
          "height": 238
        },
        "outputId": "a55e9e2a-1b21-467e-9e18-db8cdbbaee5d"
      },
      "source": [
        "doc = nlp(\"Here is how you can keep your car and other vehicles clean.\") \n",
        "\n",
        "# print dependency tags and POS tags\n",
        "for tok in doc: \n",
        "  print(tok.text, \"-->\",tok.dep_, \"-->\",tok.pos_)"
      ],
      "execution_count": 8,
      "outputs": [
        {
          "output_type": "stream",
          "text": [
            "Here --> advmod --> ADV\n",
            "is --> ROOT --> AUX\n",
            "how --> advmod --> ADV\n",
            "you --> nsubj --> PRON\n",
            "can --> aux --> VERB\n",
            "keep --> ccomp --> VERB\n",
            "your --> poss --> DET\n",
            "car --> dobj --> NOUN\n",
            "and --> cc --> CCONJ\n",
            "other --> amod --> ADJ\n",
            "vehicles --> conj --> NOUN\n",
            "clean --> oprd --> ADJ\n",
            ". --> punct --> PUNCT\n"
          ],
          "name": "stdout"
        }
      ]
    },
    {
      "cell_type": "code",
      "metadata": {
        "id": "h31G8JIzyuCI",
        "colab_type": "code",
        "colab": {
          "base_uri": "https://localhost:8080/",
          "height": 34
        },
        "outputId": "47746858-d883-4587-ed8a-2e052afcf5c0"
      },
      "source": [
        "# Matcher class object \n",
        "matcher = Matcher(nlp.vocab) \n",
        "\n",
        "#define the pattern \n",
        "pattern = [{'DEP':'amod', 'OP':\"?\"}, \n",
        "           {'POS':'NOUN'}, \n",
        "           {'LOWER': 'and', 'OP':\"?\"}, \n",
        "           {'LOWER': 'or', 'OP':\"?\"}, \n",
        "           {'LOWER': 'other'}, \n",
        "           {'POS': 'NOUN'}] \n",
        "           \n",
        "matcher.add(\"matching_1\", None, pattern) \n",
        "\n",
        "matches = matcher(doc) \n",
        "span = doc[matches[0][1]:matches[0][2]] \n",
        "print(span.text)"
      ],
      "execution_count": 9,
      "outputs": [
        {
          "output_type": "stream",
          "text": [
            "car and other vehicles\n"
          ],
          "name": "stdout"
        }
      ]
    },
    {
      "cell_type": "code",
      "metadata": {
        "id": "6Vx_QCbiywaD",
        "colab_type": "code",
        "colab": {
          "base_uri": "https://localhost:8080/",
          "height": 34
        },
        "outputId": "e1070519-9ace-43ec-9842-3e483d1855c4"
      },
      "source": [
        "# Matcher class object \n",
        "matcher = Matcher(nlp.vocab) \n",
        "\n",
        "#define the pattern \n",
        "pattern = [{'DEP':'amod', 'OP':\"?\"}, \n",
        "           {'POS':'NOUN'}, \n",
        "           {'LOWER': 'and', 'OP':\"?\"}, \n",
        "           {'LOWER': 'or', 'OP':\"?\"}, \n",
        "           {'LOWER': 'other'}, \n",
        "           {'POS': 'NOUN'}] \n",
        "           \n",
        "matcher.add(\"matching_1\", None, pattern) \n",
        "\n",
        "matches = matcher(doc) \n",
        "span = doc[matches[0][1]:matches[0][2]] \n",
        "print(span.text)"
      ],
      "execution_count": 10,
      "outputs": [
        {
          "output_type": "stream",
          "text": [
            "car and other vehicles\n"
          ],
          "name": "stdout"
        }
      ]
    },
    {
      "cell_type": "markdown",
      "metadata": {
        "id": "1HS6uTbj0GRY",
        "colab_type": "text"
      },
      "source": [
        "### Pattern: X, including Y"
      ]
    },
    {
      "cell_type": "code",
      "metadata": {
        "id": "lQwot2kqyyWK",
        "colab_type": "code",
        "colab": {
          "base_uri": "https://localhost:8080/",
          "height": 221
        },
        "outputId": "5868ca82-94ef-46d2-c56c-1c540644ce49"
      },
      "source": [
        "doc = nlp(\"Eight people, including two children, were injured in the explosion\") \n",
        "\n",
        "for tok in doc: \n",
        "  print(tok.text, \"-->\",tok.dep_, \"-->\",tok.pos_)"
      ],
      "execution_count": 11,
      "outputs": [
        {
          "output_type": "stream",
          "text": [
            "Eight --> nummod --> NUM\n",
            "people --> nsubjpass --> NOUN\n",
            ", --> punct --> PUNCT\n",
            "including --> prep --> VERB\n",
            "two --> nummod --> NUM\n",
            "children --> pobj --> NOUN\n",
            ", --> punct --> PUNCT\n",
            "were --> auxpass --> AUX\n",
            "injured --> ROOT --> VERB\n",
            "in --> prep --> ADP\n",
            "the --> det --> DET\n",
            "explosion --> pobj --> NOUN\n"
          ],
          "name": "stdout"
        }
      ]
    },
    {
      "cell_type": "code",
      "metadata": {
        "id": "FzWS_svmyz_S",
        "colab_type": "code",
        "colab": {
          "base_uri": "https://localhost:8080/",
          "height": 34
        },
        "outputId": "5c455628-b800-4735-ceee-e3dd191e3305"
      },
      "source": [
        "# Matcher class object \n",
        "matcher = Matcher(nlp.vocab) \n",
        "\n",
        "#define the pattern \n",
        "pattern = [{'DEP':'nummod','OP':\"?\"}, # numeric modifier \n",
        "           {'DEP':'amod','OP':\"?\"}, # adjectival modifier \n",
        "           {'POS':'NOUN'}, \n",
        "           {'IS_PUNCT': True}, \n",
        "           {'LOWER': 'including'}, \n",
        "           {'DEP':'nummod','OP':\"?\"}, \n",
        "           {'DEP':'amod','OP':\"?\"}, \n",
        "           {'POS':'NOUN'}] \n",
        "                               \n",
        "matcher.add(\"matching_1\", None, pattern) \n",
        "\n",
        "matches = matcher(doc) \n",
        "span = doc[matches[0][1]:matches[0][2]] \n",
        "print(span.text)"
      ],
      "execution_count": 12,
      "outputs": [
        {
          "output_type": "stream",
          "text": [
            "Eight people, including two children\n"
          ],
          "name": "stdout"
        }
      ]
    },
    {
      "cell_type": "markdown",
      "metadata": {
        "id": "GchTnNui0LJF",
        "colab_type": "text"
      },
      "source": [
        "### Pattern: X, especially Y\n"
      ]
    },
    {
      "cell_type": "code",
      "metadata": {
        "id": "UvXSgsjuy2Jj",
        "colab_type": "code",
        "colab": {
          "base_uri": "https://localhost:8080/",
          "height": 204
        },
        "outputId": "d6d8e9cf-fd0f-4b5f-e542-70bd4b1b5a20"
      },
      "source": [
        "doc = nlp(\"A healthy eating pattern includes fruits, especially whole fruits.\") \n",
        "\n",
        "for tok in doc: \n",
        "  print(tok.text, tok.dep_, tok.pos_)"
      ],
      "execution_count": 13,
      "outputs": [
        {
          "output_type": "stream",
          "text": [
            "A det DET\n",
            "healthy amod ADJ\n",
            "eating amod VERB\n",
            "pattern nsubj NOUN\n",
            "includes ROOT VERB\n",
            "fruits dobj NOUN\n",
            ", punct PUNCT\n",
            "especially advmod ADV\n",
            "whole amod ADJ\n",
            "fruits appos NOUN\n",
            ". punct PUNCT\n"
          ],
          "name": "stdout"
        }
      ]
    },
    {
      "cell_type": "code",
      "metadata": {
        "id": "QnjZTKRmy3kS",
        "colab_type": "code",
        "colab": {
          "base_uri": "https://localhost:8080/",
          "height": 34
        },
        "outputId": "66e9be29-1f31-4cfc-9efc-6a1b1914dbc0"
      },
      "source": [
        "# Matcher class object \n",
        "matcher = Matcher(nlp.vocab)\n",
        "\n",
        "#define the pattern \n",
        "pattern = [{'DEP':'nummod','OP':\"?\"}, \n",
        "           {'DEP':'amod','OP':\"?\"}, \n",
        "           {'POS':'NOUN'}, \n",
        "           {'IS_PUNCT':True}, \n",
        "           {'LOWER': 'especially'}, \n",
        "           {'DEP':'nummod','OP':\"?\"}, \n",
        "           {'DEP':'amod','OP':\"?\"}, \n",
        "           {'POS':'NOUN'}] \n",
        "           \n",
        "matcher.add(\"matching_1\", None, pattern) \n",
        "\n",
        "matches = matcher(doc) \n",
        "span = doc[matches[0][1]:matches[0][2]] \n",
        "print(span.text)"
      ],
      "execution_count": 14,
      "outputs": [
        {
          "output_type": "stream",
          "text": [
            "fruits, especially whole fruits\n"
          ],
          "name": "stdout"
        }
      ]
    },
    {
      "cell_type": "markdown",
      "metadata": {
        "id": "jmDebP5HzpBP",
        "colab_type": "text"
      },
      "source": [
        "## Subtree Matching for Relation Extraction"
      ]
    },
    {
      "cell_type": "code",
      "metadata": {
        "id": "DODhqse6y5rK",
        "colab_type": "code",
        "colab": {
          "base_uri": "https://localhost:8080/",
          "height": 421
        },
        "outputId": "d19f504e-3ed2-40f5-f6fc-5b9e3f791f46"
      },
      "source": [
        "text = \"Tableau was recently acquired by Salesforce.\" \n",
        "\n",
        "# Plot the dependency graph \n",
        "doc = nlp(text) \n",
        "displacy.render(doc, style='dep',jupyter=True)"
      ],
      "execution_count": 15,
      "outputs": [
        {
          "output_type": "display_data",
          "data": {
            "text/html": [
              "<span class=\"tex2jax_ignore\"><svg xmlns=\"http://www.w3.org/2000/svg\" xmlns:xlink=\"http://www.w3.org/1999/xlink\" xml:lang=\"en\" id=\"12167bbf3403418f9d92de156e0f0c6f-0\" class=\"displacy\" width=\"1100\" height=\"399.5\" direction=\"ltr\" style=\"max-width: none; height: 399.5px; color: #000000; background: #ffffff; font-family: Arial; direction: ltr\">\n",
              "<text class=\"displacy-token\" fill=\"currentColor\" text-anchor=\"middle\" y=\"309.5\">\n",
              "    <tspan class=\"displacy-word\" fill=\"currentColor\" x=\"50\">Tableau</tspan>\n",
              "    <tspan class=\"displacy-tag\" dy=\"2em\" fill=\"currentColor\" x=\"50\">PROPN</tspan>\n",
              "</text>\n",
              "\n",
              "<text class=\"displacy-token\" fill=\"currentColor\" text-anchor=\"middle\" y=\"309.5\">\n",
              "    <tspan class=\"displacy-word\" fill=\"currentColor\" x=\"225\">was</tspan>\n",
              "    <tspan class=\"displacy-tag\" dy=\"2em\" fill=\"currentColor\" x=\"225\">AUX</tspan>\n",
              "</text>\n",
              "\n",
              "<text class=\"displacy-token\" fill=\"currentColor\" text-anchor=\"middle\" y=\"309.5\">\n",
              "    <tspan class=\"displacy-word\" fill=\"currentColor\" x=\"400\">recently</tspan>\n",
              "    <tspan class=\"displacy-tag\" dy=\"2em\" fill=\"currentColor\" x=\"400\">ADV</tspan>\n",
              "</text>\n",
              "\n",
              "<text class=\"displacy-token\" fill=\"currentColor\" text-anchor=\"middle\" y=\"309.5\">\n",
              "    <tspan class=\"displacy-word\" fill=\"currentColor\" x=\"575\">acquired</tspan>\n",
              "    <tspan class=\"displacy-tag\" dy=\"2em\" fill=\"currentColor\" x=\"575\">VERB</tspan>\n",
              "</text>\n",
              "\n",
              "<text class=\"displacy-token\" fill=\"currentColor\" text-anchor=\"middle\" y=\"309.5\">\n",
              "    <tspan class=\"displacy-word\" fill=\"currentColor\" x=\"750\">by</tspan>\n",
              "    <tspan class=\"displacy-tag\" dy=\"2em\" fill=\"currentColor\" x=\"750\">ADP</tspan>\n",
              "</text>\n",
              "\n",
              "<text class=\"displacy-token\" fill=\"currentColor\" text-anchor=\"middle\" y=\"309.5\">\n",
              "    <tspan class=\"displacy-word\" fill=\"currentColor\" x=\"925\">Salesforce.</tspan>\n",
              "    <tspan class=\"displacy-tag\" dy=\"2em\" fill=\"currentColor\" x=\"925\">PROPN</tspan>\n",
              "</text>\n",
              "\n",
              "<g class=\"displacy-arrow\">\n",
              "    <path class=\"displacy-arc\" id=\"arrow-12167bbf3403418f9d92de156e0f0c6f-0-0\" stroke-width=\"2px\" d=\"M70,264.5 C70,2.0 575.0,2.0 575.0,264.5\" fill=\"none\" stroke=\"currentColor\"/>\n",
              "    <text dy=\"1.25em\" style=\"font-size: 0.8em; letter-spacing: 1px\">\n",
              "        <textPath xlink:href=\"#arrow-12167bbf3403418f9d92de156e0f0c6f-0-0\" class=\"displacy-label\" startOffset=\"50%\" side=\"left\" fill=\"currentColor\" text-anchor=\"middle\">nsubjpass</textPath>\n",
              "    </text>\n",
              "    <path class=\"displacy-arrowhead\" d=\"M70,266.5 L62,254.5 78,254.5\" fill=\"currentColor\"/>\n",
              "</g>\n",
              "\n",
              "<g class=\"displacy-arrow\">\n",
              "    <path class=\"displacy-arc\" id=\"arrow-12167bbf3403418f9d92de156e0f0c6f-0-1\" stroke-width=\"2px\" d=\"M245,264.5 C245,89.5 570.0,89.5 570.0,264.5\" fill=\"none\" stroke=\"currentColor\"/>\n",
              "    <text dy=\"1.25em\" style=\"font-size: 0.8em; letter-spacing: 1px\">\n",
              "        <textPath xlink:href=\"#arrow-12167bbf3403418f9d92de156e0f0c6f-0-1\" class=\"displacy-label\" startOffset=\"50%\" side=\"left\" fill=\"currentColor\" text-anchor=\"middle\">auxpass</textPath>\n",
              "    </text>\n",
              "    <path class=\"displacy-arrowhead\" d=\"M245,266.5 L237,254.5 253,254.5\" fill=\"currentColor\"/>\n",
              "</g>\n",
              "\n",
              "<g class=\"displacy-arrow\">\n",
              "    <path class=\"displacy-arc\" id=\"arrow-12167bbf3403418f9d92de156e0f0c6f-0-2\" stroke-width=\"2px\" d=\"M420,264.5 C420,177.0 565.0,177.0 565.0,264.5\" fill=\"none\" stroke=\"currentColor\"/>\n",
              "    <text dy=\"1.25em\" style=\"font-size: 0.8em; letter-spacing: 1px\">\n",
              "        <textPath xlink:href=\"#arrow-12167bbf3403418f9d92de156e0f0c6f-0-2\" class=\"displacy-label\" startOffset=\"50%\" side=\"left\" fill=\"currentColor\" text-anchor=\"middle\">advmod</textPath>\n",
              "    </text>\n",
              "    <path class=\"displacy-arrowhead\" d=\"M420,266.5 L412,254.5 428,254.5\" fill=\"currentColor\"/>\n",
              "</g>\n",
              "\n",
              "<g class=\"displacy-arrow\">\n",
              "    <path class=\"displacy-arc\" id=\"arrow-12167bbf3403418f9d92de156e0f0c6f-0-3\" stroke-width=\"2px\" d=\"M595,264.5 C595,177.0 740.0,177.0 740.0,264.5\" fill=\"none\" stroke=\"currentColor\"/>\n",
              "    <text dy=\"1.25em\" style=\"font-size: 0.8em; letter-spacing: 1px\">\n",
              "        <textPath xlink:href=\"#arrow-12167bbf3403418f9d92de156e0f0c6f-0-3\" class=\"displacy-label\" startOffset=\"50%\" side=\"left\" fill=\"currentColor\" text-anchor=\"middle\">agent</textPath>\n",
              "    </text>\n",
              "    <path class=\"displacy-arrowhead\" d=\"M740.0,266.5 L748.0,254.5 732.0,254.5\" fill=\"currentColor\"/>\n",
              "</g>\n",
              "\n",
              "<g class=\"displacy-arrow\">\n",
              "    <path class=\"displacy-arc\" id=\"arrow-12167bbf3403418f9d92de156e0f0c6f-0-4\" stroke-width=\"2px\" d=\"M770,264.5 C770,177.0 915.0,177.0 915.0,264.5\" fill=\"none\" stroke=\"currentColor\"/>\n",
              "    <text dy=\"1.25em\" style=\"font-size: 0.8em; letter-spacing: 1px\">\n",
              "        <textPath xlink:href=\"#arrow-12167bbf3403418f9d92de156e0f0c6f-0-4\" class=\"displacy-label\" startOffset=\"50%\" side=\"left\" fill=\"currentColor\" text-anchor=\"middle\">pobj</textPath>\n",
              "    </text>\n",
              "    <path class=\"displacy-arrowhead\" d=\"M915.0,266.5 L923.0,254.5 907.0,254.5\" fill=\"currentColor\"/>\n",
              "</g>\n",
              "</svg></span>"
            ],
            "text/plain": [
              "<IPython.core.display.HTML object>"
            ]
          },
          "metadata": {
            "tags": []
          }
        }
      ]
    },
    {
      "cell_type": "code",
      "metadata": {
        "id": "ORA1ffMLy72Q",
        "colab_type": "code",
        "colab": {
          "base_uri": "https://localhost:8080/",
          "height": 136
        },
        "outputId": "70cac8f6-dbd9-4416-9f04-8e28b7575e00"
      },
      "source": [
        "text = \"Tableau was recently acquired by Salesforce.\" \n",
        "doc = nlp(text) \n",
        "\n",
        "for tok in doc: \n",
        "  print(tok.text,\"-->\",tok.dep_,\"-->\",tok.pos_)"
      ],
      "execution_count": 16,
      "outputs": [
        {
          "output_type": "stream",
          "text": [
            "Tableau --> nsubjpass --> PROPN\n",
            "was --> auxpass --> AUX\n",
            "recently --> advmod --> ADV\n",
            "acquired --> ROOT --> VERB\n",
            "by --> agent --> ADP\n",
            "Salesforce --> pobj --> PROPN\n",
            ". --> punct --> PUNCT\n"
          ],
          "name": "stdout"
        }
      ]
    },
    {
      "cell_type": "code",
      "metadata": {
        "id": "iG9P8utjy-Yy",
        "colab_type": "code",
        "colab": {}
      },
      "source": [
        "def subtree_matcher(doc): \n",
        "  x = '' \n",
        "  y = '' \n",
        "  \n",
        "  # iterate through all the tokens in the input sentence \n",
        "  for i,tok in enumerate(doc): \n",
        "    # extract subject \n",
        "    if tok.dep_.find(\"subjpass\") == True: \n",
        "      y = tok.text \n",
        "      \n",
        "    # extract object \n",
        "    if tok.dep_.endswith(\"obj\") == True: \n",
        "      x = tok.text \n",
        "      \n",
        "  return x,y"
      ],
      "execution_count": 0,
      "outputs": []
    },
    {
      "cell_type": "code",
      "metadata": {
        "id": "kZsjNh_3y_5Y",
        "colab_type": "code",
        "colab": {
          "base_uri": "https://localhost:8080/",
          "height": 34
        },
        "outputId": "92b577d2-4ddc-440b-886c-1a555c8f8bbd"
      },
      "source": [
        "text_2 = \"Careem, a ride hailing major in middle east, was acquired by Uber.\" \n",
        "\n",
        "doc_2 = nlp(text_2) \n",
        "subtree_matcher(doc_2)"
      ],
      "execution_count": 18,
      "outputs": [
        {
          "output_type": "execute_result",
          "data": {
            "text/plain": [
              "('Uber', 'Careem')"
            ]
          },
          "metadata": {
            "tags": []
          },
          "execution_count": 18
        }
      ]
    },
    {
      "cell_type": "code",
      "metadata": {
        "id": "GneN5wyozBR-",
        "colab_type": "code",
        "colab": {
          "base_uri": "https://localhost:8080/",
          "height": 34
        },
        "outputId": "96f18fb3-d259-4249-b0a2-3eae13730406"
      },
      "source": [
        "text_3 = \"Salesforce recently acquired Tableau.\" \n",
        "doc_3 = nlp(text_3) \n",
        "subtree_matcher(doc_3)"
      ],
      "execution_count": 19,
      "outputs": [
        {
          "output_type": "execute_result",
          "data": {
            "text/plain": [
              "('Tableau', '')"
            ]
          },
          "metadata": {
            "tags": []
          },
          "execution_count": 19
        }
      ]
    },
    {
      "cell_type": "code",
      "metadata": {
        "id": "y15_2pvlzDVX",
        "colab_type": "code",
        "colab": {
          "base_uri": "https://localhost:8080/",
          "height": 102
        },
        "outputId": "e3098608-8cdb-4d95-ffb5-c1071f98080e"
      },
      "source": [
        "for tok in doc_3:    \n",
        "  print(tok.text, \"-->\",tok.dep_, \"-->\",tok.pos_)"
      ],
      "execution_count": 20,
      "outputs": [
        {
          "output_type": "stream",
          "text": [
            "Salesforce --> nsubj --> NOUN\n",
            "recently --> advmod --> ADV\n",
            "acquired --> ROOT --> VERB\n",
            "Tableau --> dobj --> PROPN\n",
            ". --> punct --> PUNCT\n"
          ],
          "name": "stdout"
        }
      ]
    },
    {
      "cell_type": "code",
      "metadata": {
        "id": "WQtbwGyLzE2X",
        "colab_type": "code",
        "colab": {}
      },
      "source": [
        "def new_subtree_matcher(doc):\n",
        "  subjpass = 0\n",
        "\n",
        "  for i,tok in enumerate(doc):\n",
        "    # find dependency tag that contains the text \"subjpass\"    \n",
        "    if tok.dep_.find(\"subjpass\") == True:\n",
        "      subjpass = 1\n",
        "\n",
        "  x = ''\n",
        "  y = ''\n",
        "\n",
        "  # if subjpass == 1 then sentence is passive\n",
        "  if subjpass == 1:\n",
        "    for i,tok in enumerate(doc):\n",
        "      if tok.dep_.find(\"subjpass\") == True:\n",
        "        y = tok.text\n",
        "\n",
        "      if tok.dep_.endswith(\"obj\") == True:\n",
        "        x = tok.text\n",
        "  \n",
        "  # if subjpass == 0 then sentence is not passive\n",
        "  else:\n",
        "    for i,tok in enumerate(doc):\n",
        "      if tok.dep_.endswith(\"subj\") == True:\n",
        "        x = tok.text\n",
        "\n",
        "      if tok.dep_.endswith(\"obj\") == True:\n",
        "        y = tok.text\n",
        "\n",
        "  return x,y"
      ],
      "execution_count": 0,
      "outputs": []
    },
    {
      "cell_type": "code",
      "metadata": {
        "id": "d1IeB1vTzIH5",
        "colab_type": "code",
        "colab": {
          "base_uri": "https://localhost:8080/",
          "height": 34
        },
        "outputId": "b3c4e88f-771a-4b3b-b8bb-987293220b9d"
      },
      "source": [
        "subtree_matcher(doc_3)"
      ],
      "execution_count": 28,
      "outputs": [
        {
          "output_type": "execute_result",
          "data": {
            "text/plain": [
              "('Salesforce', 'Tableau')"
            ]
          },
          "metadata": {
            "tags": []
          },
          "execution_count": 28
        }
      ]
    },
    {
      "cell_type": "code",
      "metadata": {
        "id": "Ssh2EdwJzKp8",
        "colab_type": "code",
        "colab": {
          "base_uri": "https://localhost:8080/",
          "height": 34
        },
        "outputId": "8bd3b457-37e4-4fe0-bd62-28db2462d252"
      },
      "source": [
        "new_subtree_matcher(nlp(\"Tableau was recently acquired by Salesforce.\"))"
      ],
      "execution_count": 29,
      "outputs": [
        {
          "output_type": "execute_result",
          "data": {
            "text/plain": [
              "('Salesforce', 'Tableau')"
            ]
          },
          "metadata": {
            "tags": []
          },
          "execution_count": 29
        }
      ]
    },
    {
      "cell_type": "code",
      "metadata": {
        "id": "6jyFTGhlzN3p",
        "colab_type": "code",
        "colab": {}
      },
      "source": [
        ""
      ],
      "execution_count": 0,
      "outputs": []
    }
  ]
}