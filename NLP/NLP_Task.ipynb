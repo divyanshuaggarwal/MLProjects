{
 "cells": [
  {
   "cell_type": "markdown",
   "metadata": {},
   "source": [
    "# NLP Task"
   ]
  },
  {
   "cell_type": "markdown",
   "metadata": {},
   "source": [
    "<p>The Task is: <br></br>\n",
    "<a href= \"https://competitions.codalab.org/competitions/19955#learn_the_details-data-specifications\">SemEval 2019 Task 9 - SubTask A - Suggestion Mining from Online Reviews and Forums</a>\n",
    "</p>"
   ]
  },
  {
   "cell_type": "markdown",
   "metadata": {},
   "source": [
    "# Exploratory Data Analysis\n"
   ]
  },
  {
   "cell_type": "code",
   "execution_count": 1,
   "metadata": {},
   "outputs": [],
   "source": [
    "import nltk"
   ]
  },
  {
   "cell_type": "code",
   "execution_count": 2,
   "metadata": {},
   "outputs": [],
   "source": [
    "import numpy as np\n",
    "import pandas as pd"
   ]
  },
  {
   "cell_type": "code",
   "execution_count": 3,
   "metadata": {},
   "outputs": [],
   "source": [
    "import matplotlib.pyplot as plt\n",
    "import seaborn as sns\n",
    "import os, gc, time, warnings\n",
    "%matplotlib inline"
   ]
  },
  {
   "cell_type": "code",
   "execution_count": 4,
   "metadata": {},
   "outputs": [],
   "source": [
    "train= pd.read_csv(\"V1.4_Training.csv\",encoding = \"latin-1\")\n",
    "dev= pd.read_csv(\"SubtaskA_Trial_Test_Labeled.csv\",encoding = \"latin-1\")\n",
    "test = pd.read_csv(\"SubtaskA_EvaluationData.csv\", encoding = 'latin-1')"
   ]
  },
  {
   "cell_type": "code",
   "execution_count": 5,
   "metadata": {},
   "outputs": [
    {
     "data": {
      "text/html": [
       "<div>\n",
       "<style scoped>\n",
       "    .dataframe tbody tr th:only-of-type {\n",
       "        vertical-align: middle;\n",
       "    }\n",
       "\n",
       "    .dataframe tbody tr th {\n",
       "        vertical-align: top;\n",
       "    }\n",
       "\n",
       "    .dataframe thead th {\n",
       "        text-align: right;\n",
       "    }\n",
       "</style>\n",
       "<table border=\"1\" class=\"dataframe\">\n",
       "  <thead>\n",
       "    <tr style=\"text-align: right;\">\n",
       "      <th></th>\n",
       "      <th>id</th>\n",
       "      <th>sentence</th>\n",
       "      <th>label</th>\n",
       "    </tr>\n",
       "  </thead>\n",
       "  <tbody>\n",
       "    <tr>\n",
       "      <th>0</th>\n",
       "      <td>663_3</td>\n",
       "      <td>\"Please enable removing language code from the...</td>\n",
       "      <td>1</td>\n",
       "    </tr>\n",
       "    <tr>\n",
       "      <th>1</th>\n",
       "      <td>663_4</td>\n",
       "      <td>\"Note: in your .csproj file, there is a Suppor...</td>\n",
       "      <td>0</td>\n",
       "    </tr>\n",
       "    <tr>\n",
       "      <th>2</th>\n",
       "      <td>664_1</td>\n",
       "      <td>\"Wich means the new version not fully replaced...</td>\n",
       "      <td>0</td>\n",
       "    </tr>\n",
       "    <tr>\n",
       "      <th>3</th>\n",
       "      <td>664_2</td>\n",
       "      <td>\"Some of my users will still receive the old x...</td>\n",
       "      <td>0</td>\n",
       "    </tr>\n",
       "    <tr>\n",
       "      <th>4</th>\n",
       "      <td>664_3</td>\n",
       "      <td>\"The store randomly gives the old xap or the n...</td>\n",
       "      <td>0</td>\n",
       "    </tr>\n",
       "  </tbody>\n",
       "</table>\n",
       "</div>"
      ],
      "text/plain": [
       "      id                                           sentence  label\n",
       "0  663_3  \"Please enable removing language code from the...      1\n",
       "1  663_4  \"Note: in your .csproj file, there is a Suppor...      0\n",
       "2  664_1  \"Wich means the new version not fully replaced...      0\n",
       "3  664_2  \"Some of my users will still receive the old x...      0\n",
       "4  664_3  \"The store randomly gives the old xap or the n...      0"
      ]
     },
     "execution_count": 5,
     "metadata": {},
     "output_type": "execute_result"
    }
   ],
   "source": [
    "train.head()"
   ]
  },
  {
   "cell_type": "code",
   "execution_count": 6,
   "metadata": {},
   "outputs": [
    {
     "data": {
      "text/html": [
       "<div>\n",
       "<style scoped>\n",
       "    .dataframe tbody tr th:only-of-type {\n",
       "        vertical-align: middle;\n",
       "    }\n",
       "\n",
       "    .dataframe tbody tr th {\n",
       "        vertical-align: top;\n",
       "    }\n",
       "\n",
       "    .dataframe thead th {\n",
       "        text-align: right;\n",
       "    }\n",
       "</style>\n",
       "<table border=\"1\" class=\"dataframe\">\n",
       "  <thead>\n",
       "    <tr style=\"text-align: right;\">\n",
       "      <th></th>\n",
       "      <th>id</th>\n",
       "      <th>sentence</th>\n",
       "      <th>label</th>\n",
       "    </tr>\n",
       "  </thead>\n",
       "  <tbody>\n",
       "    <tr>\n",
       "      <th>0</th>\n",
       "      <td>663_3</td>\n",
       "      <td>\"Please enable removing language code from the...</td>\n",
       "      <td>1</td>\n",
       "    </tr>\n",
       "    <tr>\n",
       "      <th>1</th>\n",
       "      <td>663_4</td>\n",
       "      <td>\"Note: in your .csproj file, there is a Suppor...</td>\n",
       "      <td>0</td>\n",
       "    </tr>\n",
       "    <tr>\n",
       "      <th>2</th>\n",
       "      <td>664_1</td>\n",
       "      <td>\"Wich means the new version not fully replaced...</td>\n",
       "      <td>0</td>\n",
       "    </tr>\n",
       "    <tr>\n",
       "      <th>3</th>\n",
       "      <td>664_2</td>\n",
       "      <td>\"Some of my users will still receive the old x...</td>\n",
       "      <td>0</td>\n",
       "    </tr>\n",
       "    <tr>\n",
       "      <th>4</th>\n",
       "      <td>664_3</td>\n",
       "      <td>\"The store randomly gives the old xap or the n...</td>\n",
       "      <td>0</td>\n",
       "    </tr>\n",
       "  </tbody>\n",
       "</table>\n",
       "</div>"
      ],
      "text/plain": [
       "      id                                           sentence  label\n",
       "0  663_3  \"Please enable removing language code from the...      1\n",
       "1  663_4  \"Note: in your .csproj file, there is a Suppor...      0\n",
       "2  664_1  \"Wich means the new version not fully replaced...      0\n",
       "3  664_2  \"Some of my users will still receive the old x...      0\n",
       "4  664_3  \"The store randomly gives the old xap or the n...      0"
      ]
     },
     "execution_count": 6,
     "metadata": {},
     "output_type": "execute_result"
    }
   ],
   "source": [
    "train.head()"
   ]
  },
  {
   "cell_type": "code",
   "execution_count": 7,
   "metadata": {},
   "outputs": [
    {
     "data": {
      "text/html": [
       "<div>\n",
       "<style scoped>\n",
       "    .dataframe tbody tr th:only-of-type {\n",
       "        vertical-align: middle;\n",
       "    }\n",
       "\n",
       "    .dataframe tbody tr th {\n",
       "        vertical-align: top;\n",
       "    }\n",
       "\n",
       "    .dataframe thead th {\n",
       "        text-align: right;\n",
       "    }\n",
       "</style>\n",
       "<table border=\"1\" class=\"dataframe\">\n",
       "  <thead>\n",
       "    <tr style=\"text-align: right;\">\n",
       "      <th></th>\n",
       "      <th>id</th>\n",
       "      <th>sentence</th>\n",
       "      <th>label</th>\n",
       "    </tr>\n",
       "  </thead>\n",
       "  <tbody>\n",
       "    <tr>\n",
       "      <th>8495</th>\n",
       "      <td>2839</td>\n",
       "      <td>The following will reliably throw some flavor ...</td>\n",
       "      <td>0</td>\n",
       "    </tr>\n",
       "    <tr>\n",
       "      <th>8496</th>\n",
       "      <td>2840</td>\n",
       "      <td>This will reliably result in a BSOD if zero by...</td>\n",
       "      <td>0</td>\n",
       "    </tr>\n",
       "    <tr>\n",
       "      <th>8497</th>\n",
       "      <td>2842</td>\n",
       "      <td>As of now it's only possible to set the Calend...</td>\n",
       "      <td>0</td>\n",
       "    </tr>\n",
       "    <tr>\n",
       "      <th>8498</th>\n",
       "      <td>2843</td>\n",
       "      <td>It's not possible to set the Hijri adjustment ...</td>\n",
       "      <td>0</td>\n",
       "    </tr>\n",
       "    <tr>\n",
       "      <th>8499</th>\n",
       "      <td>2844</td>\n",
       "      <td>The Windows 10 Calender app show cases this fe...</td>\n",
       "      <td>0</td>\n",
       "    </tr>\n",
       "  </tbody>\n",
       "</table>\n",
       "</div>"
      ],
      "text/plain": [
       "        id                                           sentence  label\n",
       "8495  2839  The following will reliably throw some flavor ...      0\n",
       "8496  2840  This will reliably result in a BSOD if zero by...      0\n",
       "8497  2842  As of now it's only possible to set the Calend...      0\n",
       "8498  2843  It's not possible to set the Hijri adjustment ...      0\n",
       "8499  2844  The Windows 10 Calender app show cases this fe...      0"
      ]
     },
     "execution_count": 7,
     "metadata": {},
     "output_type": "execute_result"
    }
   ],
   "source": [
    "train.tail()"
   ]
  },
  {
   "cell_type": "code",
   "execution_count": 8,
   "metadata": {},
   "outputs": [
    {
     "data": {
      "text/html": [
       "<div>\n",
       "<style scoped>\n",
       "    .dataframe tbody tr th:only-of-type {\n",
       "        vertical-align: middle;\n",
       "    }\n",
       "\n",
       "    .dataframe tbody tr th {\n",
       "        vertical-align: top;\n",
       "    }\n",
       "\n",
       "    .dataframe thead th {\n",
       "        text-align: right;\n",
       "    }\n",
       "</style>\n",
       "<table border=\"1\" class=\"dataframe\">\n",
       "  <thead>\n",
       "    <tr style=\"text-align: right;\">\n",
       "      <th></th>\n",
       "      <th>id</th>\n",
       "      <th>sentence</th>\n",
       "      <th>label</th>\n",
       "    </tr>\n",
       "  </thead>\n",
       "  <tbody>\n",
       "    <tr>\n",
       "      <th>0</th>\n",
       "      <td>1310_1</td>\n",
       "      <td>I'm not asking Microsoft to Gives permission l...</td>\n",
       "      <td>1</td>\n",
       "    </tr>\n",
       "    <tr>\n",
       "      <th>1</th>\n",
       "      <td>1312_1</td>\n",
       "      <td>somewhere between Android and iPhone.</td>\n",
       "      <td>0</td>\n",
       "    </tr>\n",
       "    <tr>\n",
       "      <th>2</th>\n",
       "      <td>1313_1</td>\n",
       "      <td>And in the Windows Store you can flag the App ...</td>\n",
       "      <td>0</td>\n",
       "    </tr>\n",
       "    <tr>\n",
       "      <th>3</th>\n",
       "      <td>1313_2</td>\n",
       "      <td>Many thanks Sameh Hi, As we know, there is a l...</td>\n",
       "      <td>0</td>\n",
       "    </tr>\n",
       "    <tr>\n",
       "      <th>4</th>\n",
       "      <td>1313_3</td>\n",
       "      <td>The idea is that we can develop a regular app ...</td>\n",
       "      <td>1</td>\n",
       "    </tr>\n",
       "  </tbody>\n",
       "</table>\n",
       "</div>"
      ],
      "text/plain": [
       "       id                                           sentence  label\n",
       "0  1310_1  I'm not asking Microsoft to Gives permission l...      1\n",
       "1  1312_1              somewhere between Android and iPhone.      0\n",
       "2  1313_1  And in the Windows Store you can flag the App ...      0\n",
       "3  1313_2  Many thanks Sameh Hi, As we know, there is a l...      0\n",
       "4  1313_3  The idea is that we can develop a regular app ...      1"
      ]
     },
     "execution_count": 8,
     "metadata": {},
     "output_type": "execute_result"
    }
   ],
   "source": [
    "dev.head()"
   ]
  },
  {
   "cell_type": "code",
   "execution_count": 9,
   "metadata": {},
   "outputs": [
    {
     "data": {
      "text/html": [
       "<div>\n",
       "<style scoped>\n",
       "    .dataframe tbody tr th:only-of-type {\n",
       "        vertical-align: middle;\n",
       "    }\n",
       "\n",
       "    .dataframe tbody tr th {\n",
       "        vertical-align: top;\n",
       "    }\n",
       "\n",
       "    .dataframe thead th {\n",
       "        text-align: right;\n",
       "    }\n",
       "</style>\n",
       "<table border=\"1\" class=\"dataframe\">\n",
       "  <thead>\n",
       "    <tr style=\"text-align: right;\">\n",
       "      <th></th>\n",
       "      <th>Id</th>\n",
       "      <th>sentence</th>\n",
       "      <th>label</th>\n",
       "    </tr>\n",
       "  </thead>\n",
       "  <tbody>\n",
       "    <tr>\n",
       "      <th>0</th>\n",
       "      <td>9566</td>\n",
       "      <td>This would enable live traffic aware apps.</td>\n",
       "      <td>X</td>\n",
       "    </tr>\n",
       "    <tr>\n",
       "      <th>1</th>\n",
       "      <td>9569</td>\n",
       "      <td>Please try other formatting like bold italics ...</td>\n",
       "      <td>X</td>\n",
       "    </tr>\n",
       "    <tr>\n",
       "      <th>2</th>\n",
       "      <td>9576</td>\n",
       "      <td>Since computers were invented to save time I s...</td>\n",
       "      <td>X</td>\n",
       "    </tr>\n",
       "    <tr>\n",
       "      <th>3</th>\n",
       "      <td>9577</td>\n",
       "      <td>Allow rearranging if the user wants to change ...</td>\n",
       "      <td>X</td>\n",
       "    </tr>\n",
       "    <tr>\n",
       "      <th>4</th>\n",
       "      <td>9579</td>\n",
       "      <td>Add SIMD instructions for better use of ARM NE...</td>\n",
       "      <td>X</td>\n",
       "    </tr>\n",
       "  </tbody>\n",
       "</table>\n",
       "</div>"
      ],
      "text/plain": [
       "     Id                                           sentence label\n",
       "0  9566         This would enable live traffic aware apps.     X\n",
       "1  9569  Please try other formatting like bold italics ...     X\n",
       "2  9576  Since computers were invented to save time I s...     X\n",
       "3  9577  Allow rearranging if the user wants to change ...     X\n",
       "4  9579  Add SIMD instructions for better use of ARM NE...     X"
      ]
     },
     "execution_count": 9,
     "metadata": {},
     "output_type": "execute_result"
    }
   ],
   "source": [
    "test.head()"
   ]
  },
  {
   "cell_type": "code",
   "execution_count": 10,
   "metadata": {},
   "outputs": [
    {
     "name": "stdout",
     "output_type": "stream",
     "text": [
      "<class 'pandas.core.frame.DataFrame'>\n",
      "RangeIndex: 8500 entries, 0 to 8499\n",
      "Data columns (total 3 columns):\n",
      "id          8500 non-null object\n",
      "sentence    8500 non-null object\n",
      "label       8500 non-null int64\n",
      "dtypes: int64(1), object(2)\n",
      "memory usage: 199.3+ KB\n"
     ]
    }
   ],
   "source": [
    "train.info()"
   ]
  },
  {
   "cell_type": "code",
   "execution_count": 11,
   "metadata": {},
   "outputs": [
    {
     "name": "stdout",
     "output_type": "stream",
     "text": [
      "Total sentences : 8500\n",
      "Total suggestions : 2085\n",
      "Total non_suggestions : 6415\n"
     ]
    }
   ],
   "source": [
    "suggestion_count = (train['label'].values == 1).astype(int).sum()\n",
    "non_suggestion_count = (train['label'].values == 0).astype(int).sum()\n",
    "print(\"Total sentences : \" + str(train.shape[0]))\n",
    "print(\"Total suggestions : \" + str(suggestion_count))\n",
    "print(\"Total non_suggestions : \" + str(non_suggestion_count))"
   ]
  },
  {
   "cell_type": "code",
   "execution_count": 12,
   "metadata": {},
   "outputs": [
    {
     "name": "stdout",
     "output_type": "stream",
     "text": [
      "<class 'pandas.core.frame.DataFrame'>\n",
      "RangeIndex: 12830 entries, 0 to 12829\n",
      "Data columns (total 3 columns):\n",
      "id          12830 non-null object\n",
      "sentence    12830 non-null object\n",
      "label       12830 non-null int64\n",
      "dtypes: int64(1), object(2)\n",
      "memory usage: 300.8+ KB\n"
     ]
    }
   ],
   "source": [
    "suggestions = train[train['label'].values == 1]\n",
    "\n",
    "while suggestion_count < non_suggestion_count:\n",
    "    random_suggestion = suggestions.sample()\n",
    "    train = train.append(random_suggestion, ignore_index = True)\n",
    "    suggestion_count = suggestion_count + 1\n",
    "\n",
    "train.info()"
   ]
  },
  {
   "cell_type": "code",
   "execution_count": 13,
   "metadata": {},
   "outputs": [
    {
     "name": "stdout",
     "output_type": "stream",
     "text": [
      "<class 'pandas.core.frame.DataFrame'>\n",
      "RangeIndex: 592 entries, 0 to 591\n",
      "Data columns (total 3 columns):\n",
      "id          592 non-null object\n",
      "sentence    592 non-null object\n",
      "label       592 non-null int64\n",
      "dtypes: int64(1), object(2)\n",
      "memory usage: 14.0+ KB\n"
     ]
    }
   ],
   "source": [
    "\n",
    "dev.info()"
   ]
  },
  {
   "cell_type": "code",
   "execution_count": 14,
   "metadata": {},
   "outputs": [
    {
     "name": "stdout",
     "output_type": "stream",
     "text": [
      "Total sentences : 592\n",
      "Total suggestions : 296\n",
      "Total non_suggestions : 296\n"
     ]
    }
   ],
   "source": [
    "# class-imbalance in development data\n",
    "\n",
    "suggestion_count = (dev['label'].values == 1).astype(int).sum()\n",
    "non_suggestion_count = (dev['label'].values == 0).astype(int).sum()\n",
    "print(\"Total sentences : \" + str(dev.shape[0]))\n",
    "print(\"Total suggestions : \" + str(suggestion_count))\n",
    "print(\"Total non_suggestions : \" + str(non_suggestion_count))"
   ]
  },
  {
   "cell_type": "code",
   "execution_count": 15,
   "metadata": {},
   "outputs": [],
   "source": [
    "train_data= train[\"sentence\"]"
   ]
  },
  {
   "cell_type": "code",
   "execution_count": 16,
   "metadata": {},
   "outputs": [],
   "source": [
    "train_target= train[\"label\"]"
   ]
  },
  {
   "cell_type": "code",
   "execution_count": 17,
   "metadata": {},
   "outputs": [
    {
     "name": "stdout",
     "output_type": "stream",
     "text": [
      "0\n"
     ]
    },
    {
     "data": {
      "text/plain": [
       "'\"The store randomly gives the old xap or the new xap version of my app.\"'"
      ]
     },
     "execution_count": 17,
     "metadata": {},
     "output_type": "execute_result"
    }
   ],
   "source": [
    "print(train_target[4])\n",
    "train_data[4]"
   ]
  },
  {
   "cell_type": "code",
   "execution_count": 18,
   "metadata": {},
   "outputs": [],
   "source": [
    "dev_data= dev[\"sentence\"]\n",
    "dev_target = dev[\"label\"]"
   ]
  },
  {
   "cell_type": "code",
   "execution_count": 19,
   "metadata": {},
   "outputs": [
    {
     "data": {
      "text/plain": [
       "'This would enable live traffic aware apps.'"
      ]
     },
     "execution_count": 19,
     "metadata": {},
     "output_type": "execute_result"
    }
   ],
   "source": [
    "test_data_orig= test[\"sentence\"]\n",
    "test_data_orig[0]"
   ]
  },
  {
   "cell_type": "markdown",
   "metadata": {},
   "source": [
    "# Tokenization"
   ]
  },
  {
   "cell_type": "code",
   "execution_count": 20,
   "metadata": {},
   "outputs": [
    {
     "name": "stdout",
     "output_type": "stream",
     "text": [
      "[nltk_data] Downloading package punkt to\n",
      "[nltk_data]     /Users/divyanshuaggarwal/nltk_data...\n",
      "[nltk_data]   Package punkt is already up-to-date!\n"
     ]
    },
    {
     "data": {
      "text/plain": [
       "['the',\n",
       " 'idea',\n",
       " 'is',\n",
       " 'that',\n",
       " 'we',\n",
       " 'can',\n",
       " 'develop',\n",
       " 'a',\n",
       " 'regular',\n",
       " 'app',\n",
       " 'and',\n",
       " 'we',\n",
       " 'request',\n",
       " 'our',\n",
       " 'permissions',\n",
       " 'in',\n",
       " 'the',\n",
       " 'manifest',\n",
       " ',',\n",
       " 'or',\n",
       " 'the',\n",
       " 'app',\n",
       " 'can',\n",
       " 'ask',\n",
       " 'for',\n",
       " 'trust_æ_',\n",
       " 'more']"
      ]
     },
     "execution_count": 20,
     "metadata": {},
     "output_type": "execute_result"
    }
   ],
   "source": [
    "import nltk\n",
    "nltk.download('punkt')\n",
    "from nltk.tokenize import word_tokenize\n",
    "word_tokenize(train_data[4].lower())\n",
    "word_tokenize(dev_data[4].lower())"
   ]
  },
  {
   "cell_type": "code",
   "execution_count": 21,
   "metadata": {},
   "outputs": [
    {
     "data": {
      "text/plain": [
       "(['``',\n",
       "  'it',\n",
       "  'should',\n",
       "  'be',\n",
       "  'an',\n",
       "  'option',\n",
       "  'to',\n",
       "  'remove',\n",
       "  'the',\n",
       "  '``',\n",
       "  'ru',\n",
       "  \"''\",\n",
       "  'language',\n",
       "  'code',\n",
       "  'from',\n",
       "  'my',\n",
       "  'app',\n",
       "  \"'language\",\n",
       "  'history',\n",
       "  \"'\",\n",
       "  'or',\n",
       "  'an',\n",
       "  'option',\n",
       "  'to',\n",
       "  'completly',\n",
       "  'replace',\n",
       "  ':',\n",
       "  'fully',\n",
       "  'replace',\n",
       "  'the',\n",
       "  'prevoius',\n",
       "  '(',\n",
       "  'es',\n",
       "  ')',\n",
       "  'xap',\n",
       "  '(',\n",
       "  's',\n",
       "  ')',\n",
       "  '.',\n",
       "  \"''\"],\n",
       " 1)"
      ]
     },
     "execution_count": 21,
     "metadata": {},
     "output_type": "execute_result"
    }
   ],
   "source": [
    "train_documents = []\n",
    "for i in range(len(train_data)):\n",
    "    train_documents.append((word_tokenize(train_data[i].lower()) ,train_target[i]))\n",
    "train_documents[8]    "
   ]
  },
  {
   "cell_type": "code",
   "execution_count": 22,
   "metadata": {},
   "outputs": [
    {
     "data": {
      "text/plain": [
       "(['i',\n",
       "  \"'m\",\n",
       "  'not',\n",
       "  'asking',\n",
       "  'microsoft',\n",
       "  'to',\n",
       "  'gives',\n",
       "  'permission',\n",
       "  'like',\n",
       "  'android',\n",
       "  'so',\n",
       "  'any',\n",
       "  'app',\n",
       "  'can',\n",
       "  'take',\n",
       "  'my',\n",
       "  'data',\n",
       "  ',',\n",
       "  'but',\n",
       "  'do',\n",
       "  \"n't\",\n",
       "  'keep',\n",
       "  'it',\n",
       "  'restricted',\n",
       "  'like',\n",
       "  'iphone',\n",
       "  '.'],\n",
       " 1)"
      ]
     },
     "execution_count": 22,
     "metadata": {},
     "output_type": "execute_result"
    }
   ],
   "source": [
    "dev_documents = []\n",
    "for i in range(len(dev_data)):\n",
    "    dev_documents.append((word_tokenize(dev_data[i].lower()),train_target[i]))\n",
    "dev_documents[0] "
   ]
  },
  {
   "cell_type": "code",
   "execution_count": 23,
   "metadata": {},
   "outputs": [
    {
     "data": {
      "text/plain": [
       "['this', 'would', 'enable', 'live', 'traffic', 'aware', 'apps', '.']"
      ]
     },
     "execution_count": 23,
     "metadata": {},
     "output_type": "execute_result"
    }
   ],
   "source": [
    "test_documents = []\n",
    "for i in range(len(test_data_orig)):\n",
    "    test_documents.append((word_tokenize(test_data_orig[i].lower())))\n",
    "test_documents[0] "
   ]
  },
  {
   "cell_type": "code",
   "execution_count": 24,
   "metadata": {},
   "outputs": [
    {
     "data": {
      "text/plain": [
       "(['``',\n",
       "  'appointments',\n",
       "  'have',\n",
       "  'a',\n",
       "  'remoteid',\n",
       "  'but',\n",
       "  'calendars',\n",
       "  'do',\n",
       "  \"n't\",\n",
       "  '.',\n",
       "  \"''\"],\n",
       " 0)"
      ]
     },
     "execution_count": 24,
     "metadata": {},
     "output_type": "execute_result"
    }
   ],
   "source": [
    "train_documents[70]"
   ]
  },
  {
   "cell_type": "markdown",
   "metadata": {},
   "source": [
    "# Stemming and Lemmatization"
   ]
  },
  {
   "cell_type": "code",
   "execution_count": 25,
   "metadata": {},
   "outputs": [],
   "source": [
    "from nltk.stem import WordNetLemmatizer\n",
    "lemmatizer = WordNetLemmatizer()"
   ]
  },
  {
   "cell_type": "code",
   "execution_count": 26,
   "metadata": {},
   "outputs": [],
   "source": [
    "from nltk.corpus import wordnet\n",
    "def get_simple_pos(tag):\n",
    "    \n",
    "    if tag.startswith('J'):\n",
    "        return wordnet.ADJ\n",
    "    elif tag.startswith('V'):\n",
    "        return wordnet.VERB\n",
    "    elif tag.startswith('N'):\n",
    "        return wordnet.NOUN\n",
    "    elif tag.startswith('R'):\n",
    "        return wordnet.ADV\n",
    "    else:\n",
    "        return wordnet.NOUN"
   ]
  },
  {
   "cell_type": "code",
   "execution_count": 27,
   "metadata": {},
   "outputs": [
    {
     "name": "stdout",
     "output_type": "stream",
     "text": [
      "[nltk_data] Downloading package averaged_perceptron_tagger to\n",
      "[nltk_data]     /Users/divyanshuaggarwal/nltk_data...\n",
      "[nltk_data]   Package averaged_perceptron_tagger is already up-to-\n",
      "[nltk_data]       date!\n"
     ]
    },
    {
     "data": {
      "text/plain": [
       "[('better', 'RBR')]"
      ]
     },
     "execution_count": 27,
     "metadata": {},
     "output_type": "execute_result"
    }
   ],
   "source": [
    "from nltk import pos_tag\n",
    "nltk.download('averaged_perceptron_tagger')\n",
    "w = \"better\"\n",
    "pos_tag([w])"
   ]
  },
  {
   "cell_type": "code",
   "execution_count": 28,
   "metadata": {},
   "outputs": [
    {
     "name": "stdout",
     "output_type": "stream",
     "text": [
      "[nltk_data] Downloading package wordnet to\n",
      "[nltk_data]     /Users/divyanshuaggarwal/nltk_data...\n",
      "[nltk_data]   Package wordnet is already up-to-date!\n",
      "[nltk_data] Downloading package stopwords to\n",
      "[nltk_data]     /Users/divyanshuaggarwal/nltk_data...\n",
      "[nltk_data]   Package stopwords is already up-to-date!\n"
     ]
    },
    {
     "data": {
      "text/plain": [
       "({'!',\n",
       "  '\"',\n",
       "  '#',\n",
       "  '$',\n",
       "  '%',\n",
       "  '&',\n",
       "  \"'\",\n",
       "  '(',\n",
       "  ')',\n",
       "  '*',\n",
       "  '+',\n",
       "  ',',\n",
       "  '-',\n",
       "  '.',\n",
       "  '/',\n",
       "  ':',\n",
       "  ';',\n",
       "  '<',\n",
       "  '=',\n",
       "  '>',\n",
       "  '?',\n",
       "  '@',\n",
       "  '[',\n",
       "  '\\\\',\n",
       "  ']',\n",
       "  '^',\n",
       "  '_',\n",
       "  '`',\n",
       "  'a',\n",
       "  'about',\n",
       "  'above',\n",
       "  'after',\n",
       "  'again',\n",
       "  'against',\n",
       "  'ain',\n",
       "  'all',\n",
       "  'am',\n",
       "  'an',\n",
       "  'and',\n",
       "  'any',\n",
       "  'are',\n",
       "  'aren',\n",
       "  \"aren't\",\n",
       "  'as',\n",
       "  'at',\n",
       "  'be',\n",
       "  'because',\n",
       "  'been',\n",
       "  'before',\n",
       "  'being',\n",
       "  'below',\n",
       "  'between',\n",
       "  'both',\n",
       "  'but',\n",
       "  'by',\n",
       "  'can',\n",
       "  'couldn',\n",
       "  \"couldn't\",\n",
       "  'd',\n",
       "  'did',\n",
       "  'didn',\n",
       "  \"didn't\",\n",
       "  'do',\n",
       "  'does',\n",
       "  'doesn',\n",
       "  \"doesn't\",\n",
       "  'doing',\n",
       "  'don',\n",
       "  \"don't\",\n",
       "  'down',\n",
       "  'during',\n",
       "  'each',\n",
       "  'few',\n",
       "  'for',\n",
       "  'from',\n",
       "  'further',\n",
       "  'had',\n",
       "  'hadn',\n",
       "  \"hadn't\",\n",
       "  'has',\n",
       "  'hasn',\n",
       "  \"hasn't\",\n",
       "  'have',\n",
       "  'haven',\n",
       "  \"haven't\",\n",
       "  'having',\n",
       "  'he',\n",
       "  'her',\n",
       "  'here',\n",
       "  'hers',\n",
       "  'herself',\n",
       "  'him',\n",
       "  'himself',\n",
       "  'his',\n",
       "  'how',\n",
       "  'i',\n",
       "  'if',\n",
       "  'in',\n",
       "  'into',\n",
       "  'is',\n",
       "  'isn',\n",
       "  \"isn't\",\n",
       "  'it',\n",
       "  \"it's\",\n",
       "  'its',\n",
       "  'itself',\n",
       "  'just',\n",
       "  'll',\n",
       "  'm',\n",
       "  'ma',\n",
       "  'me',\n",
       "  'mightn',\n",
       "  \"mightn't\",\n",
       "  'more',\n",
       "  'most',\n",
       "  'mustn',\n",
       "  \"mustn't\",\n",
       "  'my',\n",
       "  'myself',\n",
       "  'needn',\n",
       "  \"needn't\",\n",
       "  'no',\n",
       "  'nor',\n",
       "  'not',\n",
       "  'now',\n",
       "  'o',\n",
       "  'of',\n",
       "  'off',\n",
       "  'on',\n",
       "  'once',\n",
       "  'only',\n",
       "  'or',\n",
       "  'other',\n",
       "  'our',\n",
       "  'ours',\n",
       "  'ourselves',\n",
       "  'out',\n",
       "  'over',\n",
       "  'own',\n",
       "  're',\n",
       "  's',\n",
       "  'same',\n",
       "  'shan',\n",
       "  \"shan't\",\n",
       "  'she',\n",
       "  \"she's\",\n",
       "  'should',\n",
       "  \"should've\",\n",
       "  'shouldn',\n",
       "  \"shouldn't\",\n",
       "  'so',\n",
       "  'some',\n",
       "  'such',\n",
       "  't',\n",
       "  'than',\n",
       "  'that',\n",
       "  \"that'll\",\n",
       "  'the',\n",
       "  'their',\n",
       "  'theirs',\n",
       "  'them',\n",
       "  'themselves',\n",
       "  'then',\n",
       "  'there',\n",
       "  'these',\n",
       "  'they',\n",
       "  'this',\n",
       "  'those',\n",
       "  'through',\n",
       "  'to',\n",
       "  'too',\n",
       "  'under',\n",
       "  'until',\n",
       "  'up',\n",
       "  've',\n",
       "  'very',\n",
       "  'was',\n",
       "  'wasn',\n",
       "  \"wasn't\",\n",
       "  'we',\n",
       "  'were',\n",
       "  'weren',\n",
       "  \"weren't\",\n",
       "  'what',\n",
       "  'when',\n",
       "  'where',\n",
       "  'which',\n",
       "  'while',\n",
       "  'who',\n",
       "  'whom',\n",
       "  'why',\n",
       "  'will',\n",
       "  'with',\n",
       "  'won',\n",
       "  \"won't\",\n",
       "  'wouldn',\n",
       "  \"wouldn't\",\n",
       "  'y',\n",
       "  'you',\n",
       "  \"you'd\",\n",
       "  \"you'll\",\n",
       "  \"you're\",\n",
       "  \"you've\",\n",
       "  'your',\n",
       "  'yours',\n",
       "  'yourself',\n",
       "  'yourselves',\n",
       "  '{',\n",
       "  '|',\n",
       "  '}',\n",
       "  '~'},\n",
       " '!\"#$%&\\'()*+,-./:;<=>?@[\\\\]^_`{|}~')"
      ]
     },
     "execution_count": 28,
     "metadata": {},
     "output_type": "execute_result"
    }
   ],
   "source": [
    "from nltk.corpus import stopwords\n",
    "import string\n",
    "nltk.download('wordnet')\n",
    "nltk.download('stopwords')\n",
    "stops = set(stopwords.words('english'))\n",
    "punctuations = list(string.punctuation)\n",
    "stops.update(punctuations)\n",
    "stops, string.punctuation"
   ]
  },
  {
   "cell_type": "markdown",
   "metadata": {},
   "source": [
    "# Review Cleaning"
   ]
  },
  {
   "cell_type": "code",
   "execution_count": 29,
   "metadata": {},
   "outputs": [],
   "source": [
    "def clean_review(words):\n",
    "    output_words = []\n",
    "    for w in words:\n",
    "        if w.lower() not in stops:\n",
    "            pos = pos_tag([w])\n",
    "            clean_word = lemmatizer.lemmatize(w, pos = get_simple_pos(pos[0][1]))\n",
    "            output_words.append(clean_word.lower())\n",
    "    return output_words"
   ]
  },
  {
   "cell_type": "code",
   "execution_count": 30,
   "metadata": {},
   "outputs": [],
   "source": [
    "train_documents = [(clean_review(document), category) for document, category in train_documents]\n",
    "dev_documents = [(clean_review(document), category) for document, category in dev_documents]"
   ]
  },
  {
   "cell_type": "code",
   "execution_count": 31,
   "metadata": {},
   "outputs": [
    {
     "data": {
      "text/plain": [
       "(['``',\n",
       "  'please',\n",
       "  'enable',\n",
       "  'remove',\n",
       "  'language',\n",
       "  'code',\n",
       "  'dev',\n",
       "  'center',\n",
       "  '``',\n",
       "  'language',\n",
       "  'history',\n",
       "  \"''\",\n",
       "  'example',\n",
       "  'ever',\n",
       "  'select',\n",
       "  '``',\n",
       "  'ru',\n",
       "  \"''\",\n",
       "  '``',\n",
       "  'ru-ru',\n",
       "  \"''\",\n",
       "  'laguages',\n",
       "  'publish',\n",
       "  'xap',\n",
       "  'store',\n",
       "  'cause',\n",
       "  'tile',\n",
       "  'localization',\n",
       "  'show',\n",
       "  'en-us',\n",
       "  'default',\n",
       "  'tile',\n",
       "  'localization',\n",
       "  'bad',\n",
       "  \"''\"],\n",
       " 1)"
      ]
     },
     "execution_count": 31,
     "metadata": {},
     "output_type": "execute_result"
    }
   ],
   "source": [
    "train_documents[0]"
   ]
  },
  {
   "cell_type": "code",
   "execution_count": 32,
   "metadata": {},
   "outputs": [
    {
     "data": {
      "text/plain": [
       "([\"'m\",\n",
       "  'ask',\n",
       "  'microsoft',\n",
       "  'give',\n",
       "  'permission',\n",
       "  'like',\n",
       "  'android',\n",
       "  'app',\n",
       "  'take',\n",
       "  'data',\n",
       "  \"n't\",\n",
       "  'keep',\n",
       "  'restrict',\n",
       "  'like',\n",
       "  'iphone'],\n",
       " 1)"
      ]
     },
     "execution_count": 32,
     "metadata": {},
     "output_type": "execute_result"
    }
   ],
   "source": [
    "dev_documents[0]"
   ]
  },
  {
   "cell_type": "code",
   "execution_count": 33,
   "metadata": {},
   "outputs": [
    {
     "data": {
      "text/plain": [
       "12830"
      ]
     },
     "execution_count": 33,
     "metadata": {},
     "output_type": "execute_result"
    }
   ],
   "source": [
    "len(train_documents)"
   ]
  },
  {
   "cell_type": "code",
   "execution_count": 34,
   "metadata": {},
   "outputs": [
    {
     "data": {
      "text/plain": [
       "592"
      ]
     },
     "execution_count": 34,
     "metadata": {},
     "output_type": "execute_result"
    }
   ],
   "source": [
    "len(dev_documents)"
   ]
  },
  {
   "cell_type": "code",
   "execution_count": 35,
   "metadata": {},
   "outputs": [
    {
     "data": {
      "text/plain": [
       "833"
      ]
     },
     "execution_count": 35,
     "metadata": {},
     "output_type": "execute_result"
    }
   ],
   "source": [
    "len(test_documents)"
   ]
  },
  {
   "cell_type": "code",
   "execution_count": 36,
   "metadata": {},
   "outputs": [],
   "source": [
    "training_documents_orig = train_documents\n",
    "testing_documents_orig= test_documents\n",
    "dev_documents_orig= dev_documents\n"
   ]
  },
  {
   "cell_type": "code",
   "execution_count": 37,
   "metadata": {},
   "outputs": [
    {
     "data": {
      "text/plain": [
       "['``',\n",
       " 'please',\n",
       " 'enable',\n",
       " 'remove',\n",
       " 'language',\n",
       " 'code',\n",
       " 'dev',\n",
       " 'center',\n",
       " '``',\n",
       " 'language',\n",
       " 'history',\n",
       " \"''\",\n",
       " 'example',\n",
       " 'ever',\n",
       " 'select',\n",
       " '``',\n",
       " 'ru',\n",
       " \"''\",\n",
       " '``',\n",
       " 'ru-ru',\n",
       " \"''\",\n",
       " 'laguages',\n",
       " 'publish',\n",
       " 'xap',\n",
       " 'store',\n",
       " 'cause',\n",
       " 'tile',\n",
       " 'localization',\n",
       " 'show',\n",
       " 'en-us',\n",
       " 'default',\n",
       " 'tile',\n",
       " 'localization',\n",
       " 'bad',\n",
       " \"''\"]"
      ]
     },
     "execution_count": 37,
     "metadata": {},
     "output_type": "execute_result"
    }
   ],
   "source": [
    "train_documents[0][0]"
   ]
  },
  {
   "cell_type": "code",
   "execution_count": 38,
   "metadata": {},
   "outputs": [],
   "source": [
    "all_words_train = []\n",
    "for doc in train_documents:\n",
    "    all_words_train += doc[0]"
   ]
  },
  {
   "cell_type": "code",
   "execution_count": 39,
   "metadata": {},
   "outputs": [
    {
     "data": {
      "text/plain": [
       "159996"
      ]
     },
     "execution_count": 39,
     "metadata": {},
     "output_type": "execute_result"
    }
   ],
   "source": [
    "len(all_words_train)"
   ]
  },
  {
   "cell_type": "code",
   "execution_count": 40,
   "metadata": {},
   "outputs": [],
   "source": [
    "all_words_dev = []\n",
    "for doc in dev_documents:\n",
    "    all_words_dev += doc[0]"
   ]
  },
  {
   "cell_type": "code",
   "execution_count": 41,
   "metadata": {},
   "outputs": [
    {
     "data": {
      "text/plain": [
       "6171"
      ]
     },
     "execution_count": 41,
     "metadata": {},
     "output_type": "execute_result"
    }
   ],
   "source": [
    "len(all_words_dev)"
   ]
  },
  {
   "cell_type": "code",
   "execution_count": 42,
   "metadata": {},
   "outputs": [],
   "source": [
    "all_words_orig_train = []\n",
    "for doc in training_documents_orig:\n",
    "    all_words_orig_train += doc[0]"
   ]
  },
  {
   "cell_type": "code",
   "execution_count": 43,
   "metadata": {},
   "outputs": [],
   "source": [
    "all_words_orig_dev = []\n",
    "for doc in dev_documents_orig:\n",
    "    all_words_orig_dev += doc[0]"
   ]
  },
  {
   "cell_type": "code",
   "execution_count": 44,
   "metadata": {},
   "outputs": [
    {
     "data": {
      "text/plain": [
       "166167"
      ]
     },
     "execution_count": 44,
     "metadata": {},
     "output_type": "execute_result"
    }
   ],
   "source": [
    "all_words = all_words_train + all_words_dev\n",
    "len(all_words)"
   ]
  },
  {
   "cell_type": "code",
   "execution_count": 45,
   "metadata": {},
   "outputs": [
    {
     "data": {
      "text/plain": [
       "166167"
      ]
     },
     "execution_count": 45,
     "metadata": {},
     "output_type": "execute_result"
    }
   ],
   "source": [
    "len(all_words)"
   ]
  },
  {
   "cell_type": "code",
   "execution_count": 46,
   "metadata": {},
   "outputs": [],
   "source": [
    "all_words = all_words_train + all_words_dev\n",
    "import nltk\n",
    "freq = nltk.FreqDist(all_words)\n",
    "\n",
    "common = freq.most_common(3000)\n",
    "features = [i[0] for i in common]"
   ]
  },
  {
   "cell_type": "code",
   "execution_count": 47,
   "metadata": {},
   "outputs": [
    {
     "data": {
      "text/plain": [
       "FreqDist({\"''\": 12486, '``': 11396, 'app': 2220, 'would': 2172, 'window': 1589, 'use': 1512, 'like': 1442, 'add': 1228, 'please': 1152, 'user': 1149, ...})"
      ]
     },
     "execution_count": 47,
     "metadata": {},
     "output_type": "execute_result"
    }
   ],
   "source": [
    "freq"
   ]
  },
  {
   "cell_type": "code",
   "execution_count": 48,
   "metadata": {},
   "outputs": [],
   "source": [
    "del freq[\"''\"]\n",
    "del freq['``']"
   ]
  },
  {
   "cell_type": "markdown",
   "metadata": {},
   "source": [
    "# Visualisation of Some Frequently Occuring Words"
   ]
  },
  {
   "cell_type": "code",
   "execution_count": 49,
   "metadata": {},
   "outputs": [
    {
     "data": {
      "image/png": "[encoded data removed]",
      "text/plain": [
       "<Figure size 1152x360 with 1 Axes>"
      ]
     },
     "metadata": {
      "needs_background": "light"
     },
     "output_type": "display_data"
    }
   ],
   "source": [
    "d = pd.DataFrame({'word': list(freq.keys()),\n",
    "                  'Count': list(freq.values())})\n",
    "# selecting top 10 most frequent hashtags     \n",
    "d = d.nlargest(columns=\"Count\", n = 10) \n",
    "plt.figure(figsize=(16,5))\n",
    "ax = sns.barplot(data=d, x= \"word\", y = \"Count\")\n",
    "ax.set(ylabel = 'Count')\n",
    "plt.title(\"Frequency of most common words \")\n",
    "plt.show()"
   ]
  },
  {
   "cell_type": "code",
   "execution_count": 50,
   "metadata": {},
   "outputs": [],
   "source": [
    "all_words_orig = all_words_orig_train + all_words_orig_dev\n",
    "import nltk\n",
    "freq = nltk.FreqDist(all_words_orig)\n",
    "common = freq.most_common(3000)\n",
    "features_orig = [i[0] for i in common]"
   ]
  },
  {
   "cell_type": "code",
   "execution_count": 51,
   "metadata": {},
   "outputs": [],
   "source": [
    "\n",
    "bow = {}\n",
    "\n",
    "for j in training_documents_orig:\n",
    "    if j[1] == 0:\n",
    "        for i in j[0]: \n",
    "            if i in bow.keys():\n",
    "                bow[i] += 1\n",
    "            else:\n",
    "                bow[i] = 1\n",
    "           \n"
   ]
  },
  {
   "cell_type": "code",
   "execution_count": 52,
   "metadata": {},
   "outputs": [
    {
     "data": {
      "text/plain": [
       "8058"
      ]
     },
     "execution_count": 52,
     "metadata": {},
     "output_type": "execute_result"
    }
   ],
   "source": [
    "len(bow)"
   ]
  },
  {
   "cell_type": "code",
   "execution_count": 53,
   "metadata": {},
   "outputs": [],
   "source": [
    "del bow[\"''\"]\n",
    "del bow['``']\n",
    "del bow[\"n't\"]\n",
    "del bow[\"'s\"]"
   ]
  },
  {
   "cell_type": "code",
   "execution_count": 54,
   "metadata": {},
   "outputs": [
    {
     "data": {
      "image/png": "[encoded data removed]",
      "text/plain": [
       "<Figure size 1152x360 with 1 Axes>"
      ]
     },
     "metadata": {
      "needs_background": "light"
     },
     "output_type": "display_data"
    }
   ],
   "source": [
    "d = pd.DataFrame({'word': list(bow.keys()),\n",
    "                  'Count': list(bow.values())})\n",
    "# selecting top 10 most frequent hashtags     \n",
    "d = d.nlargest(columns=\"Count\", n = 10) \n",
    "plt.figure(figsize=(16,5))\n",
    "ax = sns.barplot(data=d, x= \"word\", y = \"Count\")\n",
    "ax.set(ylabel = 'Count')\n",
    "plt.title(\"Frequency of most common words in non-suggestions\")\n",
    "plt.show()"
   ]
  },
  {
   "cell_type": "code",
   "execution_count": 55,
   "metadata": {},
   "outputs": [],
   "source": [
    "bow = {}\n",
    "\n",
    "for j in training_documents_orig:\n",
    "    if j[1] == 1:\n",
    "        for i in j[0]: \n",
    "            if i in bow.keys():\n",
    "                bow[i] += 1\n",
    "            else:\n",
    "                bow[i] = 1"
   ]
  },
  {
   "cell_type": "code",
   "execution_count": 56,
   "metadata": {},
   "outputs": [
    {
     "data": {
      "text/plain": [
       "4026"
      ]
     },
     "execution_count": 56,
     "metadata": {},
     "output_type": "execute_result"
    }
   ],
   "source": [
    "len(bow)"
   ]
  },
  {
   "cell_type": "code",
   "execution_count": 57,
   "metadata": {},
   "outputs": [],
   "source": [
    "del bow[\"''\"]\n",
    "del bow['``']\n",
    "del bow[\"n't\"]\n",
    "del bow[\"'s\"]"
   ]
  },
  {
   "cell_type": "code",
   "execution_count": 58,
   "metadata": {},
   "outputs": [
    {
     "data": {
      "image/png": "[encoded data removed]",
      "text/plain": [
       "<Figure size 1152x360 with 1 Axes>"
      ]
     },
     "metadata": {
      "needs_background": "light"
     },
     "output_type": "display_data"
    }
   ],
   "source": [
    "d = pd.DataFrame({'word': list(bow.keys()),\n",
    "                  'Count': list(bow.values())})\n",
    "# selecting top 10 most frequent hashtags     \n",
    "d = d.nlargest(columns=\"Count\", n = 10) \n",
    "plt.figure(figsize=(16,5))\n",
    "ax = sns.barplot(data=d, x= \"word\", y = \"Count\")\n",
    "ax.set(ylabel = 'Count')\n",
    "plt.title(\"Frequency of most common words in suggestions\")\n",
    "plt.show()"
   ]
  },
  {
   "cell_type": "markdown",
   "metadata": {},
   "source": [
    "<p>It is clear from the above 3 graphs that app,would,window are the most occuring words. <br>\n",
    "    However words like would ,please ,add ,allow ,make ,could occur more frequently in suggestions as compared to non-sugestions.\n",
    "\n",
    "</p>"
   ]
  },
  {
   "cell_type": "code",
   "execution_count": 59,
   "metadata": {},
   "outputs": [
    {
     "name": "stderr",
     "output_type": "stream",
     "text": [
      "/usr/local/anaconda3/lib/python3.7/site-packages/pandas/core/indexing.py:189: SettingWithCopyWarning: \n",
      "A value is trying to be set on a copy of a slice from a DataFrame\n",
      "\n",
      "See the caveats in the documentation: http://pandas.pydata.org/pandas-docs/stable/indexing.html#indexing-view-versus-copy\n",
      "  self._setitem_with_indexer(indexer, value)\n"
     ]
    },
    {
     "data": {
      "image/png": "[encoded data removed]",
      "text/plain": [
       "<Figure size 864x432 with 1 Axes>"
      ]
     },
     "metadata": {
      "needs_background": "light"
     },
     "output_type": "display_data"
    }
   ],
   "source": [
    "df = pd.concat([train, dev])\n",
    "df['count_word'] = df['sentence'].apply(lambda x : len(x.split()))\n",
    "\n",
    "plt.figure(figsize = (12, 6))\n",
    "plt.suptitle(\"Sentence length\", fontsize = 15)\n",
    "count_word = df['count_word'].astype(int)\n",
    "df['count_word'].loc[df['count_word'] > 100] = 100\n",
    "plt.plot()\n",
    "sns.boxplot(y = 'count_word', x = 'label', data = df)\n",
    "plt.xlabel('Suggestion or non-suggestion', fontsize = 12)\n",
    "plt.ylabel('sentence length', fontsize = 12)\n",
    "plt.title(\"Number of sentences with a given word length\", fontsize = 12)\n",
    "plt.show()\n"
   ]
  },
  {
   "cell_type": "markdown",
   "metadata": {},
   "source": [
    "<p>Here We can see that Suggestions on an average are slightly longer than non-suggestions</p>"
   ]
  },
  {
   "cell_type": "code",
   "execution_count": 60,
   "metadata": {},
   "outputs": [
    {
     "name": "stderr",
     "output_type": "stream",
     "text": [
      "/usr/local/anaconda3/lib/python3.7/site-packages/pandas/core/indexing.py:189: SettingWithCopyWarning: \n",
      "A value is trying to be set on a copy of a slice from a DataFrame\n",
      "\n",
      "See the caveats in the documentation: http://pandas.pydata.org/pandas-docs/stable/indexing.html#indexing-view-versus-copy\n",
      "  self._setitem_with_indexer(indexer, value)\n"
     ]
    },
    {
     "data": {
      "image/png": "[encoded data removed]",
      "text/plain": [
       "<Figure size 864x432 with 1 Axes>"
      ]
     },
     "metadata": {
      "needs_background": "light"
     },
     "output_type": "display_data"
    }
   ],
   "source": [
    "# plot of mean word length against label\n",
    "\n",
    "df = pd.concat([train, dev])\n",
    "df['mean_word_len'] = df['sentence'].apply(lambda x : np.mean([len(word) for word in x.split()]))\n",
    "\n",
    "plt.figure(figsize = (12, 6))\n",
    "plt.suptitle(\"Mean word length in a sentence.\", fontsize = 15)\n",
    "mean_word_len = df['mean_word_len'].astype(int)\n",
    "df['mean_word_len'].loc[df['mean_word_len'] > 10] = 10\n",
    "plt.plot()\n",
    "sns.boxplot(y = 'mean_word_len', x = 'label', data = df)\n",
    "plt.xlabel('Suggestion or non-suggestion', fontsize = 12)\n",
    "plt.ylabel('Mean word length in sentence', fontsize = 12)\n",
    "plt.title(\"Number of sentences with a given mean word length\", fontsize = 12)\n",
    "plt.show()"
   ]
  },
  {
   "cell_type": "markdown",
   "metadata": {},
   "source": [
    "\n",
    "<p>Word length has little to no impact on whether the sentence is a suggestion or not.</p>"
   ]
  },
  {
   "cell_type": "markdown",
   "metadata": {},
   "source": [
    "# Feature Extraction"
   ]
  },
  {
   "cell_type": "code",
   "execution_count": 61,
   "metadata": {},
   "outputs": [
    {
     "data": {
      "text/plain": [
       "3000"
      ]
     },
     "execution_count": 61,
     "metadata": {},
     "output_type": "execute_result"
    }
   ],
   "source": [
    "len(features)"
   ]
  },
  {
   "cell_type": "code",
   "execution_count": 62,
   "metadata": {},
   "outputs": [
    {
     "data": {
      "text/plain": [
       "3000"
      ]
     },
     "execution_count": 62,
     "metadata": {},
     "output_type": "execute_result"
    }
   ],
   "source": [
    "len(features_orig)"
   ]
  },
  {
   "cell_type": "code",
   "execution_count": 63,
   "metadata": {},
   "outputs": [],
   "source": [
    "def get_feature_dict(words):\n",
    "    current_features = {}\n",
    "    words_set = set(words)\n",
    "    for w in features:\n",
    "        current_features[w] = w in words_set\n",
    "    return current_features"
   ]
  },
  {
   "cell_type": "code",
   "execution_count": 64,
   "metadata": {},
   "outputs": [
    {
     "data": {
      "text/plain": [
       "3000"
      ]
     },
     "execution_count": 64,
     "metadata": {},
     "output_type": "execute_result"
    }
   ],
   "source": [
    "output = get_feature_dict(train_documents[0][0])\n",
    "len(output)"
   ]
  },
  {
   "cell_type": "code",
   "execution_count": 65,
   "metadata": {},
   "outputs": [],
   "source": [
    "training_data = [(get_feature_dict(doc), category) for doc, category in train_documents]\n",
    "dev_data = [(get_feature_dict(doc), category) for doc, category in dev_documents]\n",
    "test_data_orig= test[\"sentence\"]"
   ]
  },
  {
   "cell_type": "code",
   "execution_count": 66,
   "metadata": {},
   "outputs": [],
   "source": [
    "training_data_orig = [(get_feature_dict(doc), category) for doc, category in training_documents_orig]\n",
    "dev_data_orig = [(get_feature_dict(doc)) for doc,category in dev_documents_orig]\n",
    "testing_data_orig = [(get_feature_dict(doc)) for doc in test_data_orig]"
   ]
  },
  {
   "cell_type": "markdown",
   "metadata": {},
   "source": [
    "# Applying SKlearn Models"
   ]
  },
  {
   "cell_type": "code",
   "execution_count": 67,
   "metadata": {},
   "outputs": [],
   "source": [
    "from nltk import NaiveBayesClassifier"
   ]
  },
  {
   "cell_type": "code",
   "execution_count": 68,
   "metadata": {},
   "outputs": [],
   "source": [
    "classfierNB = NaiveBayesClassifier.train(training_data)"
   ]
  },
  {
   "cell_type": "code",
   "execution_count": 69,
   "metadata": {},
   "outputs": [
    {
     "name": "stdout",
     "output_type": "stream",
     "text": [
      "0\n"
     ]
    }
   ],
   "source": [
    "print(classfierNB.classify(dev_data[2][0]))"
   ]
  },
  {
   "cell_type": "code",
   "execution_count": 70,
   "metadata": {},
   "outputs": [
    {
     "name": "stdout",
     "output_type": "stream",
     "text": [
      "0\n"
     ]
    }
   ],
   "source": [
    "print(classfierNB.classify(dev_data_orig[2]))"
   ]
  },
  {
   "cell_type": "code",
   "execution_count": 71,
   "metadata": {},
   "outputs": [
    {
     "data": {
      "text/plain": [
       "0.5608108108108109"
      ]
     },
     "execution_count": 71,
     "metadata": {},
     "output_type": "execute_result"
    }
   ],
   "source": [
    "nltk.classify.accuracy(classfierNB, dev_data)"
   ]
  },
  {
   "cell_type": "code",
   "execution_count": 72,
   "metadata": {},
   "outputs": [
    {
     "data": {
      "text/plain": [
       "0"
      ]
     },
     "execution_count": 72,
     "metadata": {},
     "output_type": "execute_result"
    }
   ],
   "source": [
    "classfierNB.classify(dev_data[0][0])"
   ]
  },
  {
   "cell_type": "code",
   "execution_count": 73,
   "metadata": {},
   "outputs": [],
   "source": [
    "from sklearn.svm import SVC\n",
    "from nltk.classify.scikitlearn import SklearnClassifier"
   ]
  },
  {
   "cell_type": "code",
   "execution_count": 74,
   "metadata": {},
   "outputs": [],
   "source": [
    "svc = SVC()\n",
    "classifier_sklearn_SVC = SklearnClassifier(svc)"
   ]
  },
  {
   "cell_type": "code",
   "execution_count": 75,
   "metadata": {},
   "outputs": [
    {
     "data": {
      "text/plain": [
       "<SklearnClassifier(SVC(C=1.0, cache_size=200, class_weight=None, coef0=0.0,\n",
       "  decision_function_shape='ovr', degree=3, gamma='auto', kernel='rbf',\n",
       "  max_iter=-1, probability=False, random_state=None, shrinking=True,\n",
       "  tol=0.001, verbose=False))>"
      ]
     },
     "execution_count": 75,
     "metadata": {},
     "output_type": "execute_result"
    }
   ],
   "source": [
    "classifier_sklearn_SVC.train(training_data)"
   ]
  },
  {
   "cell_type": "code",
   "execution_count": 76,
   "metadata": {},
   "outputs": [
    {
     "data": {
      "text/plain": [
       "0.6824324324324325"
      ]
     },
     "execution_count": 76,
     "metadata": {},
     "output_type": "execute_result"
    }
   ],
   "source": [
    "nltk.classify.accuracy(classifier_sklearn_SVC, dev_data)"
   ]
  },
  {
   "cell_type": "code",
   "execution_count": 77,
   "metadata": {},
   "outputs": [],
   "source": [
    "from sklearn.neural_network import MLPClassifier"
   ]
  },
  {
   "cell_type": "code",
   "execution_count": 78,
   "metadata": {},
   "outputs": [],
   "source": [
    "clf = MLPClassifier(hidden_layer_sizes=(5,5,5,5))\n",
    "classifier_sklearn_NN= SklearnClassifier(clf)"
   ]
  },
  {
   "cell_type": "code",
   "execution_count": 79,
   "metadata": {},
   "outputs": [
    {
     "data": {
      "text/plain": [
       "<SklearnClassifier(MLPClassifier(activation='relu', alpha=0.0001, batch_size='auto', beta_1=0.9,\n",
       "       beta_2=0.999, early_stopping=False, epsilon=1e-08,\n",
       "       hidden_layer_sizes=(5, 5, 5, 5), learning_rate='constant',\n",
       "       learning_rate_init=0.001, max_iter=200, momentum=0.9,\n",
       "       nesterovs_momentum=True, power_t=0.5, random_state=None,\n",
       "       shuffle=True, solver='adam', tol=0.0001, validation_fraction=0.1,\n",
       "       verbose=False, warm_start=False))>"
      ]
     },
     "execution_count": 79,
     "metadata": {},
     "output_type": "execute_result"
    }
   ],
   "source": [
    "classifier_sklearn_NN.train(training_data)"
   ]
  },
  {
   "cell_type": "code",
   "execution_count": 80,
   "metadata": {},
   "outputs": [
    {
     "data": {
      "text/plain": [
       "0.5405405405405406"
      ]
     },
     "execution_count": 80,
     "metadata": {},
     "output_type": "execute_result"
    }
   ],
   "source": [
    "nltk.classify.accuracy(classifier_sklearn_NN, dev_data)"
   ]
  },
  {
   "cell_type": "code",
   "execution_count": 81,
   "metadata": {},
   "outputs": [
    {
     "name": "stderr",
     "output_type": "stream",
     "text": [
      "/usr/local/anaconda3/lib/python3.7/site-packages/sklearn/ensemble/weight_boosting.py:29: DeprecationWarning: numpy.core.umath_tests is an internal NumPy module and should not be imported. It will be removed in a future NumPy release.\n",
      "  from numpy.core.umath_tests import inner1d\n"
     ]
    }
   ],
   "source": [
    "from sklearn.ensemble import RandomForestClassifier"
   ]
  },
  {
   "cell_type": "code",
   "execution_count": 82,
   "metadata": {},
   "outputs": [],
   "source": [
    "rfc = RandomForestClassifier()\n",
    "classifier_sklearn_rfc = SklearnClassifier(rfc)"
   ]
  },
  {
   "cell_type": "code",
   "execution_count": 83,
   "metadata": {},
   "outputs": [
    {
     "data": {
      "text/plain": [
       "<SklearnClassifier(RandomForestClassifier(bootstrap=True, class_weight=None, criterion='gini',\n",
       "            max_depth=None, max_features='auto', max_leaf_nodes=None,\n",
       "            min_impurity_decrease=0.0, min_impurity_split=None,\n",
       "            min_samples_leaf=1, min_samples_split=2,\n",
       "            min_weight_fraction_leaf=0.0, n_estimators=10, n_jobs=1,\n",
       "            oob_score=False, random_state=None, verbose=0,\n",
       "            warm_start=False))>"
      ]
     },
     "execution_count": 83,
     "metadata": {},
     "output_type": "execute_result"
    }
   ],
   "source": [
    "classifier_sklearn_rfc.train(training_data)"
   ]
  },
  {
   "cell_type": "code",
   "execution_count": 84,
   "metadata": {},
   "outputs": [
    {
     "data": {
      "text/plain": [
       "0.6452702702702703"
      ]
     },
     "execution_count": 84,
     "metadata": {},
     "output_type": "execute_result"
    }
   ],
   "source": [
    "nltk.classify.accuracy(classifier_sklearn_rfc, dev_data)"
   ]
  },
  {
   "cell_type": "code",
   "execution_count": 85,
   "metadata": {},
   "outputs": [
    {
     "data": {
      "text/plain": [
       "0"
      ]
     },
     "execution_count": 85,
     "metadata": {},
     "output_type": "execute_result"
    }
   ],
   "source": [
    "classifier_sklearn_rfc.classify(dev_data[8][0])"
   ]
  },
  {
   "cell_type": "code",
   "execution_count": 86,
   "metadata": {},
   "outputs": [],
   "source": [
    "predictions=[]\n",
    "for i in range(len(testing_data_orig)):\n",
    "    predictions.append(classifier_sklearn_SVC.classify(testing_data_orig[i]))"
   ]
  },
  {
   "cell_type": "code",
   "execution_count": 87,
   "metadata": {},
   "outputs": [
    {
     "data": {
      "text/plain": [
       "{0}"
      ]
     },
     "execution_count": 87,
     "metadata": {},
     "output_type": "execute_result"
    }
   ],
   "source": [
    "set(predictions)"
   ]
  },
  {
   "cell_type": "markdown",
   "metadata": {},
   "source": [
    "<p>SVM had the best accuracy score but it predicted all the classes as 0. </p>"
   ]
  },
  {
   "cell_type": "markdown",
   "metadata": {},
   "source": [
    "# Using A Deep Learning Model\n"
   ]
  },
  {
   "cell_type": "code",
   "execution_count": 88,
   "metadata": {},
   "outputs": [],
   "source": [
    "import numpy as np\n",
    "import pandas as pd\n",
    "from nltk.tokenize import word_tokenize"
   ]
  },
  {
   "cell_type": "code",
   "execution_count": 89,
   "metadata": {},
   "outputs": [],
   "source": [
    "train= pd.read_csv(\"V1.4_Training.csv\",encoding = \"latin-1\")\n",
    "dev= pd.read_csv(\"SubtaskA_Trial_Test_Labeled.csv\",encoding = \"latin-1\")\n",
    "test = pd.read_csv(\"SubtaskA_EvaluationData.csv\", encoding = 'latin-1')"
   ]
  },
  {
   "cell_type": "code",
   "execution_count": 90,
   "metadata": {},
   "outputs": [
    {
     "name": "stdout",
     "output_type": "stream",
     "text": [
      "0       \"Please enable removing language code from the...\n",
      "1       \"Note: in your .csproj file, there is a Suppor...\n",
      "2       \"Wich means the new version not fully replaced...\n",
      "3       \"Some of my users will still receive the old x...\n",
      "4       \"The store randomly gives the old xap or the n...\n",
      "5       \"My app has a WP7 version and a WP8 version XA...\n",
      "6       \"The wp7 xap works only on WP7 and the wp8 xap...\n",
      "7       \"Sometimes the Store gives the wrong wp7 xap v...\n",
      "8       \"It should be an option to remove the \"ru\" lan...\n",
      "9       \"Currently if you ever mistakenly selected a \"...\n",
      "10      \"): the store will randomly deliver the old/wr...\n",
      "11      \"I write a lot support ticket on this, but no ...\n",
      "12      \"The engineering team can solve this issue if ...\n",
      "13      \"Provide a workaround for removing the \"ru\" la...\n",
      "14      \"Or add and implement an AppResLib.dll.xxxx.mu...\n",
      "15      \"Wich means the new version not fully replaced...\n",
      "16      \"When I driving my car and need to make call a...\n",
      "17      \"But if I press power button and unlock device...\n",
      "18                      \"This in driving mode activated.\"\n",
      "19      \"Also in italian translation, after reading sm...\n",
      "20         \"If I say \"fatto\" vocal command unrecognized!\"\n",
      "21      \"Other little bugs: with my lumia 820 before f...\n",
      "22                            \"Don't recognize commands.\"\n",
      "23      \"But my old wp7 work fine using same bt sony c...\n",
      "24      \"Other little bugs: with my lumia 820 before f...\n",
      "25                               \"Outlook color schemes.\"\n",
      "26          \"Settings, current live tile Size , and More\"\n",
      "27      \"Open the network + settings and tap on call s...\n",
      "28            \"Hit the power button to go to sleep mode.\"\n",
      "29      \"Wait for 15-20 minutes and switch on the mobi...\n",
      "                              ...                        \n",
      "8470      Each number represents the shadow in each side.\n",
      "8471    In 99 percent of cases I receive MeasureOverri...\n",
      "8472               Which means that something went wrong.\n",
      "8473    No stacktrace and guess yourself is what WinRT...\n",
      "8474     I am using RichTextBox for editing the rtf text.\n",
      "8475    Initially if I have rtf text in first line and...\n",
      "8476    If the device is connected to a network speech...\n",
      "8477    Even the official Microsoft UWP sample accuses...\n",
      "8478    For large teams just having one team member be...\n",
      "8479    The API is fine but where I'm running into tro...\n",
      "8480    (Event registration order doesn't seem to make...\n",
      "8481            This makes for problems with things like:\n",
      "8482    (The SplitView captures the first BackRequeste...\n",
      "8483    A Flyout with custom picker UI that uses BackR...\n",
      "8484    I'm a developer trying to make a Discord app f...\n",
      "8485    It is a significant limitation to not have an ...\n",
      "8486    I've tried to use the Microsoft.ConnectedDevic...\n",
      "8487    1. a type of Horizontal one row ListView/GridV...\n",
      "8488    Only Horizontal Scrolling available because it...\n",
      "8489    When the user will press button for next items...\n",
      "8490    Example : Best example is the youtube homepage...\n",
      "8491    Scrolling/Navigation Buttons on right side nex...\n",
      "8492    Next/Previous Behaviour : the available screen...\n",
      "8493    I haven't found any possible way to do that so...\n",
      "8494    The SerialDevice implementation appears to be ...\n",
      "8495    The following will reliably throw some flavor ...\n",
      "8496    This will reliably result in a BSOD if zero by...\n",
      "8497    As of now it's only possible to set the Calend...\n",
      "8498    It's not possible to set the Hijri adjustment ...\n",
      "8499    The Windows 10 Calender app show cases this fe...\n",
      "Name: sentence, Length: 8500, dtype: object\n"
     ]
    }
   ],
   "source": [
    "print(train['sentence'])"
   ]
  },
  {
   "cell_type": "code",
   "execution_count": 91,
   "metadata": {},
   "outputs": [],
   "source": [
    "suggestion_count = (train['label'].values == 1).astype(int).sum()\n",
    "non_suggestion_count = (train['label'].values == 0).astype(int).sum()\n",
    "suggestions = train[train['label'].values == 1]\n",
    "\n",
    "while suggestion_count < non_suggestion_count:\n",
    "    random_suggestion = suggestions.sample()\n",
    "    train = train.append(random_suggestion, ignore_index = True)\n",
    "    suggestion_count = suggestion_count + 1"
   ]
  },
  {
   "cell_type": "markdown",
   "metadata": {},
   "source": [
    "<h2>Tokenization </h2>"
   ]
  },
  {
   "cell_type": "code",
   "execution_count": 92,
   "metadata": {},
   "outputs": [
    {
     "name": "stderr",
     "output_type": "stream",
     "text": [
      "Using TensorFlow backend.\n"
     ]
    }
   ],
   "source": [
    "from keras.preprocessing.text import Tokenizer\n"
   ]
  },
  {
   "cell_type": "code",
   "execution_count": 93,
   "metadata": {},
   "outputs": [],
   "source": [
    "tokenizer_train = Tokenizer(num_words = 10000)"
   ]
  },
  {
   "cell_type": "code",
   "execution_count": 94,
   "metadata": {},
   "outputs": [],
   "source": [
    "tokenizer_test = Tokenizer(num_words = 10000)"
   ]
  },
  {
   "cell_type": "code",
   "execution_count": 95,
   "metadata": {},
   "outputs": [],
   "source": [
    "tokenizer_train.fit_on_texts(train['sentence'])"
   ]
  },
  {
   "cell_type": "code",
   "execution_count": 96,
   "metadata": {},
   "outputs": [],
   "source": [
    "tokenizer_test.fit_on_texts(dev['sentence'])"
   ]
  },
  {
   "cell_type": "code",
   "execution_count": 97,
   "metadata": {},
   "outputs": [],
   "source": [
    "sequences_train = tokenizer_train.texts_to_sequences(train['sentence'])"
   ]
  },
  {
   "cell_type": "code",
   "execution_count": 98,
   "metadata": {},
   "outputs": [],
   "source": [
    "sequences_test = tokenizer_test.texts_to_sequences(dev['sentence'])"
   ]
  },
  {
   "cell_type": "code",
   "execution_count": 99,
   "metadata": {},
   "outputs": [],
   "source": [
    "oec_result_train = tokenizer_train.texts_to_matrix(train['sentence'],mode = 'binary')\n",
    "word_index_train = tokenizer_train.word_index"
   ]
  },
  {
   "cell_type": "code",
   "execution_count": 100,
   "metadata": {},
   "outputs": [],
   "source": [
    "oec_result_test = tokenizer_test.texts_to_matrix(dev['sentence'],mode = 'binary')\n",
    "word_index_test = tokenizer_test.word_index"
   ]
  },
  {
   "cell_type": "code",
   "execution_count": 101,
   "metadata": {},
   "outputs": [
    {
     "name": "stdout",
     "output_type": "stream",
     "text": [
      "Found 10001 unique token.\n"
     ]
    }
   ],
   "source": [
    "print(\"Found %s unique token.\" %len(word_index_train))"
   ]
  },
  {
   "cell_type": "code",
   "execution_count": 102,
   "metadata": {},
   "outputs": [
    {
     "name": "stdout",
     "output_type": "stream",
     "text": [
      "Found 2227 unique token.\n"
     ]
    }
   ],
   "source": [
    "print(\"Found %s unique token.\" %len(word_index_test))"
   ]
  },
  {
   "cell_type": "code",
   "execution_count": 103,
   "metadata": {},
   "outputs": [
    {
     "data": {
      "text/plain": [
       "10001"
      ]
     },
     "execution_count": 103,
     "metadata": {},
     "output_type": "execute_result"
    }
   ],
   "source": [
    "len(word_index_train)"
   ]
  },
  {
   "cell_type": "code",
   "execution_count": 104,
   "metadata": {},
   "outputs": [
    {
     "data": {
      "text/plain": [
       "2227"
      ]
     },
     "execution_count": 104,
     "metadata": {},
     "output_type": "execute_result"
    }
   ],
   "source": [
    "len(word_index_test)"
   ]
  },
  {
   "cell_type": "code",
   "execution_count": 105,
   "metadata": {},
   "outputs": [
    {
     "data": {
      "text/plain": [
       "array([[0., 1., 1., ..., 0., 0., 0.],\n",
       "       [0., 1., 0., ..., 0., 0., 0.],\n",
       "       [0., 1., 0., ..., 0., 0., 0.],\n",
       "       ...,\n",
       "       [0., 1., 0., ..., 0., 0., 0.],\n",
       "       [0., 1., 0., ..., 0., 0., 0.],\n",
       "       [0., 0., 1., ..., 0., 0., 0.]])"
      ]
     },
     "execution_count": 105,
     "metadata": {},
     "output_type": "execute_result"
    }
   ],
   "source": [
    "oec_result_train"
   ]
  },
  {
   "cell_type": "code",
   "execution_count": 106,
   "metadata": {},
   "outputs": [
    {
     "data": {
      "text/plain": [
       "(12830, 10000)"
      ]
     },
     "execution_count": 106,
     "metadata": {},
     "output_type": "execute_result"
    }
   ],
   "source": [
    "oec_result_train.shape"
   ]
  },
  {
   "cell_type": "code",
   "execution_count": 107,
   "metadata": {},
   "outputs": [
    {
     "data": {
      "text/plain": [
       "(12830,)"
      ]
     },
     "execution_count": 107,
     "metadata": {},
     "output_type": "execute_result"
    }
   ],
   "source": [
    "np.array(sequences_train).shape\n"
   ]
  },
  {
   "cell_type": "code",
   "execution_count": 108,
   "metadata": {},
   "outputs": [],
   "source": [
    "sequences_train = np.array(sequences_train)"
   ]
  },
  {
   "cell_type": "code",
   "execution_count": 109,
   "metadata": {},
   "outputs": [],
   "source": [
    "sequences_test = np.array(sequences_test)"
   ]
  },
  {
   "cell_type": "code",
   "execution_count": 110,
   "metadata": {},
   "outputs": [
    {
     "data": {
      "text/plain": [
       "(12830,)"
      ]
     },
     "execution_count": 110,
     "metadata": {},
     "output_type": "execute_result"
    }
   ],
   "source": [
    "sequences_train.shape"
   ]
  },
  {
   "cell_type": "code",
   "execution_count": 111,
   "metadata": {},
   "outputs": [
    {
     "data": {
      "text/plain": [
       "0        1\n",
       "1        0\n",
       "2        0\n",
       "3        0\n",
       "4        0\n",
       "5        0\n",
       "6        0\n",
       "7        0\n",
       "8        1\n",
       "9        0\n",
       "10       0\n",
       "11       0\n",
       "12       0\n",
       "13       1\n",
       "14       1\n",
       "15       0\n",
       "16       0\n",
       "17       0\n",
       "18       0\n",
       "19       0\n",
       "20       0\n",
       "21       0\n",
       "22       0\n",
       "23       0\n",
       "24       0\n",
       "25       0\n",
       "26       0\n",
       "27       0\n",
       "28       0\n",
       "29       0\n",
       "        ..\n",
       "12800    1\n",
       "12801    1\n",
       "12802    1\n",
       "12803    1\n",
       "12804    1\n",
       "12805    1\n",
       "12806    1\n",
       "12807    1\n",
       "12808    1\n",
       "12809    1\n",
       "12810    1\n",
       "12811    1\n",
       "12812    1\n",
       "12813    1\n",
       "12814    1\n",
       "12815    1\n",
       "12816    1\n",
       "12817    1\n",
       "12818    1\n",
       "12819    1\n",
       "12820    1\n",
       "12821    1\n",
       "12822    1\n",
       "12823    1\n",
       "12824    1\n",
       "12825    1\n",
       "12826    1\n",
       "12827    1\n",
       "12828    1\n",
       "12829    1\n",
       "Name: label, Length: 12830, dtype: int64"
      ]
     },
     "execution_count": 111,
     "metadata": {},
     "output_type": "execute_result"
    }
   ],
   "source": [
    "train['label']"
   ]
  },
  {
   "cell_type": "code",
   "execution_count": 112,
   "metadata": {},
   "outputs": [
    {
     "data": {
      "text/plain": [
       "[9966,\n",
       " 8,\n",
       " 380,\n",
       " 3569,\n",
       " 1,\n",
       " 159,\n",
       " 675,\n",
       " 247,\n",
       " 508,\n",
       " 553,\n",
       " 1679,\n",
       " 31,\n",
       " 111,\n",
       " 8,\n",
       " 87,\n",
       " 78,\n",
       " 957,\n",
       " 189,\n",
       " 80,\n",
       " 247,\n",
       " 8,\n",
       " 384,\n",
       " 2,\n",
       " 539,\n",
       " 34,\n",
       " 1634,\n",
       " 13,\n",
       " 2,\n",
       " 51,\n",
       " 31,\n",
       " 74,\n",
       " 1535,\n",
       " 25,\n",
       " 12]"
      ]
     },
     "execution_count": 112,
     "metadata": {},
     "output_type": "execute_result"
    }
   ],
   "source": [
    "sequences_train.max()"
   ]
  },
  {
   "cell_type": "markdown",
   "metadata": {},
   "source": [
    "<p>Max does not exceed the 1000 num_words limit</p>"
   ]
  },
  {
   "cell_type": "code",
   "execution_count": 113,
   "metadata": {},
   "outputs": [
    {
     "data": {
      "text/plain": [
       "[2207, 4, 2208, 13, 6, 72]"
      ]
     },
     "execution_count": 113,
     "metadata": {},
     "output_type": "execute_result"
    }
   ],
   "source": [
    "np.amax(sequences_test)"
   ]
  },
  {
   "cell_type": "code",
   "execution_count": 114,
   "metadata": {},
   "outputs": [],
   "source": [
    "import numpy as np\n",
    "\n",
    "def vectorize_sequences(sequences, dimension=10000):\n",
    "    # Create an all-zero matrix of shape (len(sequences), dimension)\n",
    "    results = np.zeros((len(sequences), dimension))\n",
    "    for i, sequence in enumerate(sequences):\n",
    "        results[i, sequence] = 1.  # set specific indices of results[i] to 1s\n",
    "    return results\n",
    "\n",
    "# Our vectorized training data\n",
    "x_train = vectorize_sequences(sequences_train)\n",
    "# Our vectorized test data\n",
    "x_test = vectorize_sequences(sequences_test)"
   ]
  },
  {
   "cell_type": "code",
   "execution_count": 115,
   "metadata": {},
   "outputs": [
    {
     "data": {
      "text/plain": [
       "(12830, 10000)"
      ]
     },
     "execution_count": 115,
     "metadata": {},
     "output_type": "execute_result"
    }
   ],
   "source": [
    "x_train.shape"
   ]
  },
  {
   "cell_type": "markdown",
   "metadata": {},
   "source": [
    "<h2>Building the Model </h2>"
   ]
  },
  {
   "cell_type": "code",
   "execution_count": 116,
   "metadata": {},
   "outputs": [
    {
     "name": "stdout",
     "output_type": "stream",
     "text": [
      "WARNING:tensorflow:From /usr/local/anaconda3/lib/python3.7/site-packages/tensorflow/python/framework/op_def_library.py:263: colocate_with (from tensorflow.python.framework.ops) is deprecated and will be removed in a future version.\n",
      "Instructions for updating:\n",
      "Colocations handled automatically by placer.\n"
     ]
    }
   ],
   "source": [
    "from keras import models\n",
    "from keras import layers\n",
    "\n",
    "model = models.Sequential()\n",
    "model.add(layers.Dense(16, activation='relu', input_shape=(10000,)))\n",
    "model.add(layers.Dense(32, activation='relu'))\n",
    "model.add(layers.Dense(64, activation='relu'))\n",
    "model.add(layers.Dense(128, activation='relu'))\n",
    "model.add(layers.Dense(64, activation='relu'))\n",
    "model.add(layers.Dense(32, activation='relu'))\n",
    "model.add(layers.Dense(16, activation='relu'))\n",
    "model.add(layers.Dense(1, activation='sigmoid'))"
   ]
  },
  {
   "cell_type": "code",
   "execution_count": 117,
   "metadata": {},
   "outputs": [],
   "source": [
    "from keras import losses\n",
    "from keras import metrics\n",
    "\n",
    "model.compile(optimizer='rmsprop',\n",
    "              loss='binary_crossentropy',\n",
    "              metrics=['accuracy'])"
   ]
  },
  {
   "cell_type": "code",
   "execution_count": 118,
   "metadata": {},
   "outputs": [],
   "source": [
    "y_train = np.asarray(train['label']).astype('float32')\n",
    "y_test = np.asarray(dev['label']).astype('float32')"
   ]
  },
  {
   "cell_type": "code",
   "execution_count": 119,
   "metadata": {},
   "outputs": [
    {
     "data": {
      "text/plain": [
       "(12830, 10000)"
      ]
     },
     "execution_count": 119,
     "metadata": {},
     "output_type": "execute_result"
    }
   ],
   "source": [
    "x_train.shape"
   ]
  },
  {
   "cell_type": "code",
   "execution_count": 120,
   "metadata": {},
   "outputs": [
    {
     "name": "stdout",
     "output_type": "stream",
     "text": [
      "WARNING:tensorflow:From /usr/local/anaconda3/lib/python3.7/site-packages/tensorflow/python/ops/math_ops.py:3066: to_int32 (from tensorflow.python.ops.math_ops) is deprecated and will be removed in a future version.\n",
      "Instructions for updating:\n",
      "Use tf.cast instead.\n",
      "Train on 12830 samples, validate on 592 samples\n",
      "Epoch 1/35\n",
      "12830/12830 [==============================] - 2s 186us/step - loss: 0.5491 - acc: 0.7581 - val_loss: 0.8481 - val_acc: 0.5929\n",
      "Epoch 2/35\n",
      "12830/12830 [==============================] - 2s 140us/step - loss: 0.2500 - acc: 0.9103 - val_loss: 1.1730 - val_acc: 0.5608\n",
      "Epoch 3/35\n",
      "12830/12830 [==============================] - 2s 123us/step - loss: 0.1639 - acc: 0.9431 - val_loss: 1.4100 - val_acc: 0.5693\n",
      "Epoch 4/35\n",
      "12830/12830 [==============================] - 2s 119us/step - loss: 0.1086 - acc: 0.9647 - val_loss: 1.7069 - val_acc: 0.5524\n",
      "Epoch 5/35\n",
      "12830/12830 [==============================] - 1s 115us/step - loss: 0.0823 - acc: 0.9752 - val_loss: 2.2101 - val_acc: 0.5541\n",
      "Epoch 6/35\n",
      "12830/12830 [==============================] - 2s 142us/step - loss: 0.0552 - acc: 0.9838 - val_loss: 2.0092 - val_acc: 0.5338\n",
      "Epoch 7/35\n",
      "12830/12830 [==============================] - 1s 116us/step - loss: 0.0456 - acc: 0.9864 - val_loss: 2.3428 - val_acc: 0.5473\n",
      "Epoch 8/35\n",
      "12830/12830 [==============================] - 1s 111us/step - loss: 0.0392 - acc: 0.9889 - val_loss: 2.5078 - val_acc: 0.5524\n",
      "Epoch 9/35\n",
      "12830/12830 [==============================] - 1s 110us/step - loss: 0.0355 - acc: 0.9892 - val_loss: 2.4234 - val_acc: 0.5372\n",
      "Epoch 10/35\n",
      "12830/12830 [==============================] - 1s 107us/step - loss: 0.0253 - acc: 0.9928 - val_loss: 2.8635 - val_acc: 0.5490\n",
      "Epoch 11/35\n",
      "12830/12830 [==============================] - 1s 108us/step - loss: 0.0244 - acc: 0.9924 - val_loss: 3.0262 - val_acc: 0.5507\n",
      "Epoch 12/35\n",
      "12830/12830 [==============================] - 1s 109us/step - loss: 0.0235 - acc: 0.9929 - val_loss: 2.9702 - val_acc: 0.5287\n",
      "Epoch 13/35\n",
      "12830/12830 [==============================] - 1s 106us/step - loss: 0.0198 - acc: 0.9935 - val_loss: 3.3083 - val_acc: 0.5338\n",
      "Epoch 14/35\n",
      "12830/12830 [==============================] - 1s 107us/step - loss: 0.0188 - acc: 0.9938 - val_loss: 3.4674 - val_acc: 0.5456\n",
      "Epoch 15/35\n",
      "12830/12830 [==============================] - 1s 107us/step - loss: 0.0179 - acc: 0.9945 - val_loss: 3.4108 - val_acc: 0.5524\n",
      "Epoch 16/35\n",
      "12830/12830 [==============================] - 1s 106us/step - loss: 0.0151 - acc: 0.9947 - val_loss: 3.8093 - val_acc: 0.5777\n",
      "Epoch 17/35\n",
      "12830/12830 [==============================] - 1s 106us/step - loss: 0.0137 - acc: 0.9954 - val_loss: 4.2967 - val_acc: 0.5405\n",
      "Epoch 18/35\n",
      "12830/12830 [==============================] - 1s 108us/step - loss: 0.0136 - acc: 0.9945 - val_loss: 4.1020 - val_acc: 0.5541\n",
      "Epoch 19/35\n",
      "12830/12830 [==============================] - 1s 108us/step - loss: 0.0130 - acc: 0.9952 - val_loss: 4.0578 - val_acc: 0.5439\n",
      "Epoch 20/35\n",
      "12830/12830 [==============================] - 1s 108us/step - loss: 0.0141 - acc: 0.9947 - val_loss: 4.0763 - val_acc: 0.5507\n",
      "Epoch 21/35\n",
      "12830/12830 [==============================] - 1s 109us/step - loss: 0.0125 - acc: 0.9950 - val_loss: 4.3919 - val_acc: 0.5389\n",
      "Epoch 22/35\n",
      "12830/12830 [==============================] - 2s 128us/step - loss: 0.0119 - acc: 0.9956 - val_loss: 4.6910 - val_acc: 0.5422\n",
      "Epoch 23/35\n",
      "12830/12830 [==============================] - 2s 136us/step - loss: 0.0114 - acc: 0.9959 - val_loss: 4.7547 - val_acc: 0.5473\n",
      "Epoch 24/35\n",
      "12830/12830 [==============================] - 1s 116us/step - loss: 0.0113 - acc: 0.9957 - val_loss: 5.0797 - val_acc: 0.5507\n",
      "Epoch 25/35\n",
      "12830/12830 [==============================] - 2s 129us/step - loss: 0.0121 - acc: 0.9956 - val_loss: 5.0003 - val_acc: 0.5422\n",
      "Epoch 26/35\n",
      "12830/12830 [==============================] - 2s 125us/step - loss: 0.0101 - acc: 0.9959 - val_loss: 5.3863 - val_acc: 0.5439\n",
      "Epoch 27/35\n",
      "12830/12830 [==============================] - 2s 126us/step - loss: 0.0114 - acc: 0.9956 - val_loss: 4.8524 - val_acc: 0.5439\n",
      "Epoch 28/35\n",
      "12830/12830 [==============================] - 2s 121us/step - loss: 0.0108 - acc: 0.9959 - val_loss: 5.2324 - val_acc: 0.5490\n",
      "Epoch 29/35\n",
      "12830/12830 [==============================] - 2s 122us/step - loss: 0.0099 - acc: 0.9959 - val_loss: 5.1385 - val_acc: 0.5473\n",
      "Epoch 30/35\n",
      "12830/12830 [==============================] - 2s 120us/step - loss: 0.0113 - acc: 0.9956 - val_loss: 5.3384 - val_acc: 0.5507\n",
      "Epoch 31/35\n",
      "12830/12830 [==============================] - 2s 122us/step - loss: 0.0100 - acc: 0.9960 - val_loss: 4.9845 - val_acc: 0.5507\n",
      "Epoch 32/35\n",
      "12830/12830 [==============================] - 2s 120us/step - loss: 0.0109 - acc: 0.9959 - val_loss: 5.2090 - val_acc: 0.5507\n",
      "Epoch 33/35\n",
      "12830/12830 [==============================] - 2s 121us/step - loss: 0.0097 - acc: 0.9960 - val_loss: 5.1944 - val_acc: 0.5541\n",
      "Epoch 34/35\n",
      "12830/12830 [==============================] - 2s 125us/step - loss: 0.0099 - acc: 0.9960 - val_loss: 5.5612 - val_acc: 0.5490\n",
      "Epoch 35/35\n",
      "12830/12830 [==============================] - 2s 126us/step - loss: 0.0100 - acc: 0.9958 - val_loss: 5.1055 - val_acc: 0.5490\n"
     ]
    }
   ],
   "source": [
    "history = model.fit(x_train,\n",
    "                    y_train,\n",
    "                    epochs=35,\n",
    "                    batch_size=512,\n",
    "                    validation_data=(x_test, y_test))"
   ]
  },
  {
   "cell_type": "markdown",
   "metadata": {},
   "source": [
    "<h2>Visualisation of training and validation loss and training and validation accuracy.</h2>"
   ]
  },
  {
   "cell_type": "code",
   "execution_count": 121,
   "metadata": {},
   "outputs": [
    {
     "data": {
      "text/plain": [
       "dict_keys(['val_loss', 'val_acc', 'loss', 'acc'])"
      ]
     },
     "execution_count": 121,
     "metadata": {},
     "output_type": "execute_result"
    }
   ],
   "source": [
    "history_dict = history.history\n",
    "history_dict.keys()"
   ]
  },
  {
   "cell_type": "code",
   "execution_count": 122,
   "metadata": {},
   "outputs": [
    {
     "data": {
      "image/png": "[encoded data removed]",
      "text/plain": [
       "<Figure size 432x288 with 1 Axes>"
      ]
     },
     "metadata": {
      "needs_background": "light"
     },
     "output_type": "display_data"
    }
   ],
   "source": [
    "import matplotlib.pyplot as plt\n",
    "\n",
    "acc = history.history['acc']\n",
    "val_acc = history.history['val_acc']\n",
    "loss = history.history['loss']\n",
    "val_loss = history.history['val_loss']\n",
    "\n",
    "epochs = range(1, len(acc) + 1)\n",
    "\n",
    "plt.plot(epochs, loss, 'bo', label='Training loss')\n",
    "plt.plot(epochs, val_loss, 'b', label='Validation loss')\n",
    "plt.title('Training and validation loss')\n",
    "plt.xlabel('Epochs')\n",
    "plt.ylabel('Loss')\n",
    "plt.legend()\n",
    "\n",
    "plt.show()"
   ]
  },
  {
   "cell_type": "code",
   "execution_count": 123,
   "metadata": {},
   "outputs": [
    {
     "data": {
      "image/png": "[encoded data removed]",
      "text/plain": [
       "<Figure size 432x288 with 1 Axes>"
      ]
     },
     "metadata": {
      "needs_background": "light"
     },
     "output_type": "display_data"
    }
   ],
   "source": [
    "plt.clf()   # clear figure\n",
    "acc_values = history_dict['acc']\n",
    "val_acc_values = history_dict['val_acc']\n",
    "\n",
    "plt.plot(epochs, acc, 'bo', label='Training acc')\n",
    "plt.plot(epochs, val_acc, 'b', label='Validation acc')\n",
    "plt.title('Training and validation accuracy')\n",
    "plt.xlabel('Epochs')\n",
    "plt.ylabel('Loss')\n",
    "plt.legend()\n",
    "\n",
    "plt.show()"
   ]
  },
  {
   "cell_type": "markdown",
   "metadata": {},
   "source": [
    "# Deep Learning using Embedding\n"
   ]
  },
  {
   "cell_type": "code",
   "execution_count": 124,
   "metadata": {},
   "outputs": [],
   "source": [
    "import numpy as np\n",
    "import pandas as pd"
   ]
  },
  {
   "cell_type": "code",
   "execution_count": 125,
   "metadata": {},
   "outputs": [],
   "source": [
    "from keras.preprocessing.text import Tokenizer\n",
    "from keras.preprocessing.sequence import pad_sequences"
   ]
  },
  {
   "cell_type": "code",
   "execution_count": 126,
   "metadata": {},
   "outputs": [],
   "source": [
    "train= pd.read_csv(\"V1.4_Training.csv\",encoding = \"latin-1\")\n",
    "dev= pd.read_csv(\"SubtaskA_Trial_Test_Labeled.csv\",encoding = \"latin-1\")\n",
    "test = pd.read_csv(\"SubtaskA_EvaluationData.csv\", encoding = 'latin-1')"
   ]
  },
  {
   "cell_type": "code",
   "execution_count": 127,
   "metadata": {},
   "outputs": [
    {
     "data": {
      "text/html": [
       "<div>\n",
       "<style scoped>\n",
       "    .dataframe tbody tr th:only-of-type {\n",
       "        vertical-align: middle;\n",
       "    }\n",
       "\n",
       "    .dataframe tbody tr th {\n",
       "        vertical-align: top;\n",
       "    }\n",
       "\n",
       "    .dataframe thead th {\n",
       "        text-align: right;\n",
       "    }\n",
       "</style>\n",
       "<table border=\"1\" class=\"dataframe\">\n",
       "  <thead>\n",
       "    <tr style=\"text-align: right;\">\n",
       "      <th></th>\n",
       "      <th>id</th>\n",
       "      <th>sentence</th>\n",
       "      <th>label</th>\n",
       "    </tr>\n",
       "  </thead>\n",
       "  <tbody>\n",
       "    <tr>\n",
       "      <th>0</th>\n",
       "      <td>663_3</td>\n",
       "      <td>\"Please enable removing language code from the...</td>\n",
       "      <td>1</td>\n",
       "    </tr>\n",
       "    <tr>\n",
       "      <th>1</th>\n",
       "      <td>663_4</td>\n",
       "      <td>\"Note: in your .csproj file, there is a Suppor...</td>\n",
       "      <td>0</td>\n",
       "    </tr>\n",
       "    <tr>\n",
       "      <th>2</th>\n",
       "      <td>664_1</td>\n",
       "      <td>\"Wich means the new version not fully replaced...</td>\n",
       "      <td>0</td>\n",
       "    </tr>\n",
       "    <tr>\n",
       "      <th>3</th>\n",
       "      <td>664_2</td>\n",
       "      <td>\"Some of my users will still receive the old x...</td>\n",
       "      <td>0</td>\n",
       "    </tr>\n",
       "    <tr>\n",
       "      <th>4</th>\n",
       "      <td>664_3</td>\n",
       "      <td>\"The store randomly gives the old xap or the n...</td>\n",
       "      <td>0</td>\n",
       "    </tr>\n",
       "  </tbody>\n",
       "</table>\n",
       "</div>"
      ],
      "text/plain": [
       "      id                                           sentence  label\n",
       "0  663_3  \"Please enable removing language code from the...      1\n",
       "1  663_4  \"Note: in your .csproj file, there is a Suppor...      0\n",
       "2  664_1  \"Wich means the new version not fully replaced...      0\n",
       "3  664_2  \"Some of my users will still receive the old x...      0\n",
       "4  664_3  \"The store randomly gives the old xap or the n...      0"
      ]
     },
     "execution_count": 127,
     "metadata": {},
     "output_type": "execute_result"
    }
   ],
   "source": [
    "train.head()"
   ]
  },
  {
   "cell_type": "code",
   "execution_count": 128,
   "metadata": {},
   "outputs": [
    {
     "data": {
      "text/plain": [
       "(8500, 3)"
      ]
     },
     "execution_count": 128,
     "metadata": {},
     "output_type": "execute_result"
    }
   ],
   "source": [
    "train.shape"
   ]
  },
  {
   "cell_type": "code",
   "execution_count": 129,
   "metadata": {},
   "outputs": [
    {
     "data": {
      "text/html": [
       "<div>\n",
       "<style scoped>\n",
       "    .dataframe tbody tr th:only-of-type {\n",
       "        vertical-align: middle;\n",
       "    }\n",
       "\n",
       "    .dataframe tbody tr th {\n",
       "        vertical-align: top;\n",
       "    }\n",
       "\n",
       "    .dataframe thead th {\n",
       "        text-align: right;\n",
       "    }\n",
       "</style>\n",
       "<table border=\"1\" class=\"dataframe\">\n",
       "  <thead>\n",
       "    <tr style=\"text-align: right;\">\n",
       "      <th></th>\n",
       "      <th>id</th>\n",
       "      <th>sentence</th>\n",
       "      <th>label</th>\n",
       "    </tr>\n",
       "  </thead>\n",
       "  <tbody>\n",
       "    <tr>\n",
       "      <th>0</th>\n",
       "      <td>1310_1</td>\n",
       "      <td>I'm not asking Microsoft to Gives permission l...</td>\n",
       "      <td>1</td>\n",
       "    </tr>\n",
       "    <tr>\n",
       "      <th>1</th>\n",
       "      <td>1312_1</td>\n",
       "      <td>somewhere between Android and iPhone.</td>\n",
       "      <td>0</td>\n",
       "    </tr>\n",
       "    <tr>\n",
       "      <th>2</th>\n",
       "      <td>1313_1</td>\n",
       "      <td>And in the Windows Store you can flag the App ...</td>\n",
       "      <td>0</td>\n",
       "    </tr>\n",
       "    <tr>\n",
       "      <th>3</th>\n",
       "      <td>1313_2</td>\n",
       "      <td>Many thanks Sameh Hi, As we know, there is a l...</td>\n",
       "      <td>0</td>\n",
       "    </tr>\n",
       "    <tr>\n",
       "      <th>4</th>\n",
       "      <td>1313_3</td>\n",
       "      <td>The idea is that we can develop a regular app ...</td>\n",
       "      <td>1</td>\n",
       "    </tr>\n",
       "  </tbody>\n",
       "</table>\n",
       "</div>"
      ],
      "text/plain": [
       "       id                                           sentence  label\n",
       "0  1310_1  I'm not asking Microsoft to Gives permission l...      1\n",
       "1  1312_1              somewhere between Android and iPhone.      0\n",
       "2  1313_1  And in the Windows Store you can flag the App ...      0\n",
       "3  1313_2  Many thanks Sameh Hi, As we know, there is a l...      0\n",
       "4  1313_3  The idea is that we can develop a regular app ...      1"
      ]
     },
     "execution_count": 129,
     "metadata": {},
     "output_type": "execute_result"
    }
   ],
   "source": [
    "dev.head()"
   ]
  },
  {
   "cell_type": "code",
   "execution_count": 130,
   "metadata": {},
   "outputs": [
    {
     "data": {
      "text/plain": [
       "(592, 3)"
      ]
     },
     "execution_count": 130,
     "metadata": {},
     "output_type": "execute_result"
    }
   ],
   "source": [
    "dev.shape"
   ]
  },
  {
   "cell_type": "code",
   "execution_count": 131,
   "metadata": {},
   "outputs": [],
   "source": [
    "suggestion_count = (train['label'].values == 1).astype(int).sum()\n",
    "non_suggestion_count = (train['label'].values == 0).astype(int).sum()\n",
    "suggestions = train[train['label'].values == 1]\n",
    "\n",
    "while suggestion_count < non_suggestion_count:\n",
    "    random_suggestion = suggestions.sample()\n",
    "    train = train.append(random_suggestion, ignore_index = True)\n",
    "    suggestion_count = suggestion_count + 1"
   ]
  },
  {
   "cell_type": "code",
   "execution_count": 132,
   "metadata": {},
   "outputs": [],
   "source": [
    "maxlen = 100"
   ]
  },
  {
   "cell_type": "code",
   "execution_count": 133,
   "metadata": {},
   "outputs": [],
   "source": [
    "training_samples = 200"
   ]
  },
  {
   "cell_type": "code",
   "execution_count": 134,
   "metadata": {},
   "outputs": [],
   "source": [
    "validation_samples = 10000"
   ]
  },
  {
   "cell_type": "code",
   "execution_count": 135,
   "metadata": {},
   "outputs": [],
   "source": [
    "max_words = 10000"
   ]
  },
  {
   "cell_type": "code",
   "execution_count": 136,
   "metadata": {},
   "outputs": [],
   "source": [
    "tokenizer=Tokenizer(num_words = max_words)"
   ]
  },
  {
   "cell_type": "code",
   "execution_count": 137,
   "metadata": {},
   "outputs": [],
   "source": [
    "tokenizer.fit_on_texts(train['sentence'])"
   ]
  },
  {
   "cell_type": "code",
   "execution_count": 138,
   "metadata": {},
   "outputs": [],
   "source": [
    "sequences_train = tokenizer.texts_to_sequences(train['sentence'])"
   ]
  },
  {
   "cell_type": "code",
   "execution_count": 139,
   "metadata": {},
   "outputs": [
    {
     "data": {
      "text/plain": [
       "12830"
      ]
     },
     "execution_count": 139,
     "metadata": {},
     "output_type": "execute_result"
    }
   ],
   "source": [
    "len(sequences_train)"
   ]
  },
  {
   "cell_type": "code",
   "execution_count": 140,
   "metadata": {},
   "outputs": [],
   "source": [
    "sequences_dev = tokenizer.texts_to_sequences(dev['sentence'])"
   ]
  },
  {
   "cell_type": "code",
   "execution_count": 141,
   "metadata": {},
   "outputs": [
    {
     "data": {
      "text/plain": [
       "592"
      ]
     },
     "execution_count": 141,
     "metadata": {},
     "output_type": "execute_result"
    }
   ],
   "source": [
    "len(sequences_dev)"
   ]
  },
  {
   "cell_type": "code",
   "execution_count": 142,
   "metadata": {},
   "outputs": [],
   "source": [
    "word_index_train = tokenizer.word_index"
   ]
  },
  {
   "cell_type": "code",
   "execution_count": 143,
   "metadata": {},
   "outputs": [
    {
     "name": "stdout",
     "output_type": "stream",
     "text": [
      "Found 10001 unique tokens.\n"
     ]
    }
   ],
   "source": [
    "print(\"Found %s unique tokens.\"%len(word_index_train))"
   ]
  },
  {
   "cell_type": "code",
   "execution_count": 144,
   "metadata": {},
   "outputs": [],
   "source": [
    "train_data = pad_sequences(sequences_train,maxlen = maxlen)"
   ]
  },
  {
   "cell_type": "code",
   "execution_count": 145,
   "metadata": {},
   "outputs": [],
   "source": [
    "dev_data = pad_sequences(sequences_dev,maxlen = maxlen)"
   ]
  },
  {
   "cell_type": "code",
   "execution_count": 146,
   "metadata": {},
   "outputs": [],
   "source": [
    "train_labels = np.asarray(train['label'])"
   ]
  },
  {
   "cell_type": "code",
   "execution_count": 147,
   "metadata": {},
   "outputs": [],
   "source": [
    "dev_labels = np.asarray(dev['label'])"
   ]
  },
  {
   "cell_type": "code",
   "execution_count": 148,
   "metadata": {},
   "outputs": [
    {
     "name": "stdout",
     "output_type": "stream",
     "text": [
      "shape of train data tensor:  (12830, 100)\n"
     ]
    }
   ],
   "source": [
    "print('shape of train data tensor: ',train_data.shape)"
   ]
  },
  {
   "cell_type": "code",
   "execution_count": 149,
   "metadata": {},
   "outputs": [
    {
     "name": "stdout",
     "output_type": "stream",
     "text": [
      "shape of train labels tensor:  (12830,)\n"
     ]
    }
   ],
   "source": [
    "print('shape of train labels tensor: ',train_labels.shape)"
   ]
  },
  {
   "cell_type": "code",
   "execution_count": 150,
   "metadata": {},
   "outputs": [
    {
     "name": "stdout",
     "output_type": "stream",
     "text": [
      "shape of dev data tensor:  (592, 100)\n"
     ]
    }
   ],
   "source": [
    "print('shape of dev data tensor: ',dev_data.shape)"
   ]
  },
  {
   "cell_type": "code",
   "execution_count": 151,
   "metadata": {},
   "outputs": [
    {
     "name": "stdout",
     "output_type": "stream",
     "text": [
      "shape of dev labels tensor:  (592,)\n"
     ]
    }
   ],
   "source": [
    "print('shape of dev labels tensor: ',dev_labels.shape)"
   ]
  },
  {
   "cell_type": "markdown",
   "metadata": {},
   "source": [
    "<h2>Downloading a pretrained embedder</h2>"
   ]
  },
  {
   "cell_type": "code",
   "execution_count": 152,
   "metadata": {},
   "outputs": [],
   "source": [
    "glove_dir = 'glove.6B'"
   ]
  },
  {
   "cell_type": "code",
   "execution_count": 153,
   "metadata": {},
   "outputs": [],
   "source": [
    "embeddings_index = {}"
   ]
  },
  {
   "cell_type": "code",
   "execution_count": 154,
   "metadata": {},
   "outputs": [],
   "source": [
    "import os"
   ]
  },
  {
   "cell_type": "code",
   "execution_count": 155,
   "metadata": {},
   "outputs": [],
   "source": [
    "f = open(os.path.join(glove_dir,'glove.6B.100d.txt'))"
   ]
  },
  {
   "cell_type": "code",
   "execution_count": 156,
   "metadata": {},
   "outputs": [],
   "source": [
    "for line in f:\n",
    "    values = line.split()\n",
    "    word = values[0]\n",
    "    coefs = np.asarray(values[1:],dtype = 'float32')\n",
    "    embeddings_index[word] = coefs\n",
    "    \n",
    "f.close()"
   ]
  },
  {
   "cell_type": "code",
   "execution_count": 157,
   "metadata": {},
   "outputs": [
    {
     "name": "stdout",
     "output_type": "stream",
     "text": [
      "Found 400000 word vectors.\n"
     ]
    }
   ],
   "source": [
    "print('Found %s word vectors.' %len(embeddings_index))"
   ]
  },
  {
   "cell_type": "code",
   "execution_count": 158,
   "metadata": {},
   "outputs": [],
   "source": [
    "embedding_dim = 100"
   ]
  },
  {
   "cell_type": "code",
   "execution_count": 159,
   "metadata": {},
   "outputs": [],
   "source": [
    "embedding_matrix = np.zeros((max_words,embedding_dim))\n",
    "for word, i in word_index_train.items():\n",
    "    if i < max_words:\n",
    "        embedding_vector = embeddings_index.get(word)\n",
    "        if embedding_vector is not None:\n",
    "            embedding_matrix[i] = embedding_vector\n",
    "            "
   ]
  },
  {
   "cell_type": "code",
   "execution_count": 160,
   "metadata": {},
   "outputs": [
    {
     "data": {
      "text/plain": [
       "array([-1.89700007e-01,  5.00239991e-02,  1.90840006e-01, -4.91839983e-02,\n",
       "       -8.97369981e-02,  2.10060000e-01, -5.49520016e-01,  9.83769968e-02,\n",
       "       -2.01350003e-01,  3.42409998e-01, -9.26769972e-02,  1.60999998e-01,\n",
       "       -1.32679999e-01, -2.81599998e-01,  1.87370002e-01, -4.29589987e-01,\n",
       "        9.60389972e-01,  1.39719993e-01, -1.07809997e+00,  4.05180007e-01,\n",
       "        5.05389988e-01, -5.50639987e-01,  4.84400004e-01,  3.80439997e-01,\n",
       "       -2.90549989e-03, -3.49420011e-01, -9.96960029e-02, -7.83680022e-01,\n",
       "        1.03629994e+00, -2.31399998e-01, -4.71210003e-01,  5.71259975e-01,\n",
       "       -2.14540005e-01,  3.59580010e-01, -4.83190000e-01,  1.08749998e+00,\n",
       "        2.85239995e-01,  1.24470003e-01, -3.92480008e-02, -7.67320022e-02,\n",
       "       -7.63429999e-01, -3.24090004e-01, -5.74899971e-01, -1.08930004e+00,\n",
       "       -4.18110013e-01,  4.51200008e-01,  1.21119998e-01, -5.13670027e-01,\n",
       "       -1.33489996e-01, -1.13779998e+00, -2.87680000e-01,  1.67740002e-01,\n",
       "        5.58040023e-01,  1.53869998e+00,  1.88590009e-02, -2.97210002e+00,\n",
       "       -2.42160007e-01, -9.24950004e-01,  2.19919991e+00,  2.82339990e-01,\n",
       "       -3.47799987e-01,  5.16210020e-01, -4.33869988e-01,  3.68519992e-01,\n",
       "        7.45729983e-01,  7.21020028e-02,  2.79309988e-01,  9.25689995e-01,\n",
       "       -5.03359996e-02, -8.58560026e-01, -1.35800004e-01, -9.25509989e-01,\n",
       "       -3.39910001e-01, -1.03939998e+00, -6.72030002e-02, -2.13789999e-01,\n",
       "       -4.76900011e-01,  2.13770002e-01, -8.40080023e-01,  5.25359996e-02,\n",
       "        5.92980027e-01,  2.96039999e-01, -6.76440001e-01,  1.39160007e-01,\n",
       "       -1.55040002e+00, -2.07650006e-01,  7.22199976e-01,  5.20560026e-01,\n",
       "       -7.62209967e-02, -1.51940003e-01, -1.31339997e-01,  5.86169995e-02,\n",
       "       -3.18690002e-01, -6.14189982e-01, -6.23929977e-01, -4.15479988e-01,\n",
       "       -3.81750017e-02, -3.98039997e-01,  4.76469994e-01, -1.59830004e-01])"
      ]
     },
     "execution_count": 160,
     "metadata": {},
     "output_type": "execute_result"
    }
   ],
   "source": [
    "embedding_matrix[2]"
   ]
  },
  {
   "cell_type": "markdown",
   "metadata": {},
   "source": [
    "# Training the same model without a pretrained word embedding"
   ]
  },
  {
   "cell_type": "code",
   "execution_count": 161,
   "metadata": {},
   "outputs": [],
   "source": [
    "from keras.models import Sequential\n",
    "from keras.layers import Embedding, Flatten, Dense"
   ]
  },
  {
   "cell_type": "markdown",
   "metadata": {},
   "source": [
    "<h2> Building the model </h2>"
   ]
  },
  {
   "cell_type": "code",
   "execution_count": 162,
   "metadata": {},
   "outputs": [],
   "source": [
    "model = Sequential()"
   ]
  },
  {
   "cell_type": "code",
   "execution_count": 163,
   "metadata": {},
   "outputs": [],
   "source": [
    "model.add(Embedding(max_words, embedding_dim, input_length = maxlen))"
   ]
  },
  {
   "cell_type": "code",
   "execution_count": 164,
   "metadata": {},
   "outputs": [
    {
     "name": "stdout",
     "output_type": "stream",
     "text": [
      "_________________________________________________________________\n",
      "Layer (type)                 Output Shape              Param #   \n",
      "=================================================================\n",
      "embedding_1 (Embedding)      (None, 100, 100)          1000000   \n",
      "_________________________________________________________________\n",
      "flatten_1 (Flatten)          (None, 10000)             0         \n",
      "_________________________________________________________________\n",
      "dense_9 (Dense)              (None, 16)                160016    \n",
      "_________________________________________________________________\n",
      "dense_10 (Dense)             (None, 32)                544       \n",
      "_________________________________________________________________\n",
      "dense_11 (Dense)             (None, 64)                2112      \n",
      "_________________________________________________________________\n",
      "dense_12 (Dense)             (None, 128)               8320      \n",
      "_________________________________________________________________\n",
      "dense_13 (Dense)             (None, 64)                8256      \n",
      "_________________________________________________________________\n",
      "dense_14 (Dense)             (None, 32)                2080      \n",
      "_________________________________________________________________\n",
      "dense_15 (Dense)             (None, 16)                528       \n",
      "_________________________________________________________________\n",
      "dense_16 (Dense)             (None, 1)                 17        \n",
      "=================================================================\n",
      "Total params: 1,181,873\n",
      "Trainable params: 1,181,873\n",
      "Non-trainable params: 0\n",
      "_________________________________________________________________\n"
     ]
    }
   ],
   "source": [
    "model.add(Flatten())\n",
    "model.add(Dense(16,activation = \"relu\"))\n",
    "model.add(Dense(32,activation = \"relu\"))\n",
    "model.add(Dense(64,activation = \"relu\"))\n",
    "model.add(Dense(128,activation = \"relu\"))\n",
    "model.add(Dense(64,activation = \"relu\"))\n",
    "model.add(Dense(32,activation = \"relu\"))\n",
    "model.add(Dense(16,activation = \"relu\"))\n",
    "model.add(Dense(1,activation='sigmoid'))\n",
    "model.summary()"
   ]
  },
  {
   "cell_type": "markdown",
   "metadata": {},
   "source": [
    "<h2>Compilation</h2>"
   ]
  },
  {
   "cell_type": "code",
   "execution_count": 165,
   "metadata": {},
   "outputs": [],
   "source": [
    "model.compile(optimizer = 'rmsprop',\n",
    "             loss = 'binary_crossentropy',\n",
    "             metrics = ['acc'])"
   ]
  },
  {
   "cell_type": "markdown",
   "metadata": {},
   "source": [
    "<h2>Fitting</h2>"
   ]
  },
  {
   "cell_type": "code",
   "execution_count": 166,
   "metadata": {},
   "outputs": [
    {
     "name": "stdout",
     "output_type": "stream",
     "text": [
      "Train on 12830 samples, validate on 592 samples\n",
      "Epoch 1/30\n",
      "12830/12830 [==============================] - 2s 147us/step - loss: 0.5867 - acc: 0.6638 - val_loss: 0.5797 - val_acc: 0.7213\n",
      "Epoch 2/30\n",
      "12830/12830 [==============================] - 1s 92us/step - loss: 0.2384 - acc: 0.9118 - val_loss: 0.6196 - val_acc: 0.7348\n",
      "Epoch 3/30\n",
      "12830/12830 [==============================] - 1s 89us/step - loss: 0.1014 - acc: 0.9680 - val_loss: 1.0262 - val_acc: 0.7044\n",
      "Epoch 4/30\n",
      "12830/12830 [==============================] - 1s 97us/step - loss: 0.0470 - acc: 0.9875 - val_loss: 1.1412 - val_acc: 0.6672\n",
      "Epoch 5/30\n",
      "12830/12830 [==============================] - 1s 88us/step - loss: 0.0321 - acc: 0.9913 - val_loss: 1.7051 - val_acc: 0.6351\n",
      "Epoch 6/30\n",
      "12830/12830 [==============================] - 1s 88us/step - loss: 0.0235 - acc: 0.9924 - val_loss: 2.4566 - val_acc: 0.6334\n",
      "Epoch 7/30\n",
      "12830/12830 [==============================] - 1s 90us/step - loss: 0.0192 - acc: 0.9941 - val_loss: 1.9329 - val_acc: 0.6503\n",
      "Epoch 8/30\n",
      "12830/12830 [==============================] - 1s 84us/step - loss: 0.0159 - acc: 0.9952 - val_loss: 2.3343 - val_acc: 0.6571\n",
      "Epoch 9/30\n",
      "12830/12830 [==============================] - 1s 87us/step - loss: 0.0141 - acc: 0.9952 - val_loss: 1.7299 - val_acc: 0.6588\n",
      "Epoch 10/30\n",
      "12830/12830 [==============================] - 1s 98us/step - loss: 0.0146 - acc: 0.9949 - val_loss: 2.7705 - val_acc: 0.6757\n",
      "Epoch 11/30\n",
      "12830/12830 [==============================] - 1s 90us/step - loss: 0.0117 - acc: 0.9957 - val_loss: 2.8067 - val_acc: 0.6368\n",
      "Epoch 12/30\n",
      "12830/12830 [==============================] - 1s 95us/step - loss: 0.0128 - acc: 0.9950 - val_loss: 3.1043 - val_acc: 0.6436\n",
      "Epoch 13/30\n",
      "12830/12830 [==============================] - 1s 90us/step - loss: 0.0113 - acc: 0.9959 - val_loss: 3.5420 - val_acc: 0.6351\n",
      "Epoch 14/30\n",
      "12830/12830 [==============================] - 1s 88us/step - loss: 0.0119 - acc: 0.9957 - val_loss: 3.9838 - val_acc: 0.6334\n",
      "Epoch 15/30\n",
      "12830/12830 [==============================] - 1s 96us/step - loss: 0.0533 - acc: 0.9908 - val_loss: 3.9371 - val_acc: 0.6385\n",
      "Epoch 16/30\n",
      "12830/12830 [==============================] - 1s 93us/step - loss: 0.0132 - acc: 0.9955 - val_loss: 3.7039 - val_acc: 0.6233\n",
      "Epoch 17/30\n",
      "12830/12830 [==============================] - 1s 93us/step - loss: 0.0129 - acc: 0.9950 - val_loss: 4.0381 - val_acc: 0.6115\n",
      "Epoch 18/30\n",
      "12830/12830 [==============================] - 1s 93us/step - loss: 0.0105 - acc: 0.9959 - val_loss: 5.6312 - val_acc: 0.5845\n",
      "Epoch 19/30\n",
      "12830/12830 [==============================] - 1s 95us/step - loss: 0.0113 - acc: 0.9959 - val_loss: 5.3713 - val_acc: 0.5929\n",
      "Epoch 20/30\n",
      "12830/12830 [==============================] - 1s 88us/step - loss: 0.0158 - acc: 0.9946 - val_loss: 4.1066 - val_acc: 0.6030\n",
      "Epoch 21/30\n",
      "12830/12830 [==============================] - 1s 90us/step - loss: 0.0140 - acc: 0.9952 - val_loss: 5.3980 - val_acc: 0.5895\n",
      "Epoch 22/30\n",
      "12830/12830 [==============================] - 1s 90us/step - loss: 0.0113 - acc: 0.9960 - val_loss: 4.7342 - val_acc: 0.6149\n",
      "Epoch 23/30\n",
      "12830/12830 [==============================] - 1s 87us/step - loss: 0.0237 - acc: 0.9940 - val_loss: 5.1114 - val_acc: 0.6132\n",
      "Epoch 24/30\n",
      "12830/12830 [==============================] - 1s 90us/step - loss: 0.0102 - acc: 0.9959 - val_loss: 5.4359 - val_acc: 0.6132\n",
      "Epoch 25/30\n",
      "12830/12830 [==============================] - 1s 90us/step - loss: 0.0324 - acc: 0.9932 - val_loss: 4.7629 - val_acc: 0.6014\n",
      "Epoch 26/30\n",
      "12830/12830 [==============================] - 1s 87us/step - loss: 0.0257 - acc: 0.9941 - val_loss: 3.2013 - val_acc: 0.6554\n",
      "Epoch 27/30\n",
      "12830/12830 [==============================] - 1s 89us/step - loss: 0.0105 - acc: 0.9959 - val_loss: 4.7155 - val_acc: 0.6132\n",
      "Epoch 28/30\n",
      "12830/12830 [==============================] - 1s 89us/step - loss: 0.0428 - acc: 0.9926 - val_loss: 4.7773 - val_acc: 0.5963\n",
      "Epoch 29/30\n",
      "12830/12830 [==============================] - 1s 96us/step - loss: 0.0226 - acc: 0.9945 - val_loss: 3.3458 - val_acc: 0.6115\n",
      "Epoch 30/30\n",
      "12830/12830 [==============================] - 1s 88us/step - loss: 0.0103 - acc: 0.9957 - val_loss: 5.3539 - val_acc: 0.5828\n"
     ]
    }
   ],
   "source": [
    "history = model.fit(train_data,train_labels,\n",
    "                    epochs = 30, \n",
    "                    batch_size = 200,\n",
    "                    validation_data=(dev_data,dev_labels))\n",
    "model.save_weights('pre_trained_glove_model.h5')"
   ]
  },
  {
   "cell_type": "code",
   "execution_count": 167,
   "metadata": {
    "scrolled": true
   },
   "outputs": [
    {
     "data": {
      "image/png": "[encoded data removed]",
      "text/plain": [
       "<Figure size 432x288 with 1 Axes>"
      ]
     },
     "metadata": {
      "needs_background": "light"
     },
     "output_type": "display_data"
    },
    {
     "data": {
      "image/png": "[encoded data removed]",
      "text/plain": [
       "<Figure size 432x288 with 1 Axes>"
      ]
     },
     "metadata": {
      "needs_background": "light"
     },
     "output_type": "display_data"
    }
   ],
   "source": [
    "acc = history.history['acc']\n",
    "val_acc = history.history['val_acc']\n",
    "loss = history.history['loss']\n",
    "val_loss = history.history['val_loss']\n",
    "\n",
    "epochs = range(1,len(acc) + 1)\n",
    "\n",
    "plt.plot(epochs,acc,'bo',label = 'Training acc')\n",
    "plt.plot(epochs,val_acc,'b',label = 'Validation acc')\n",
    "plt.title('Training and Validation accuracy')\n",
    "plt.legend()\n",
    "\n",
    "plt.figure()\n",
    "\n",
    "plt.plot(epochs,loss,'bo',label = 'Training loss')\n",
    "plt.plot(epochs, val_loss, 'b',label = 'Validation loss')\n",
    "plt.title('Training and Validation loss')\n",
    "plt.legend()\n",
    "\n",
    "plt.show()"
   ]
  },
  {
   "cell_type": "markdown",
   "metadata": {},
   "source": [
    "# Training the same model with a pretrained word embedding"
   ]
  },
  {
   "cell_type": "code",
   "execution_count": 168,
   "metadata": {},
   "outputs": [],
   "source": [
    "from keras.models import Sequential\n",
    "from keras.layers import Embedding, Flatten, Dense"
   ]
  },
  {
   "cell_type": "code",
   "execution_count": 169,
   "metadata": {},
   "outputs": [],
   "source": [
    "model = Sequential()"
   ]
  },
  {
   "cell_type": "markdown",
   "metadata": {},
   "source": [
    "<h2>Creating a Model</h2>"
   ]
  },
  {
   "cell_type": "code",
   "execution_count": 170,
   "metadata": {},
   "outputs": [],
   "source": [
    "model.add(Embedding(max_words, embedding_dim, input_length = maxlen))"
   ]
  },
  {
   "cell_type": "code",
   "execution_count": 171,
   "metadata": {},
   "outputs": [
    {
     "name": "stdout",
     "output_type": "stream",
     "text": [
      "_________________________________________________________________\n",
      "Layer (type)                 Output Shape              Param #   \n",
      "=================================================================\n",
      "embedding_2 (Embedding)      (None, 100, 100)          1000000   \n",
      "_________________________________________________________________\n",
      "flatten_2 (Flatten)          (None, 10000)             0         \n",
      "_________________________________________________________________\n",
      "dense_17 (Dense)             (None, 16)                160016    \n",
      "_________________________________________________________________\n",
      "dense_18 (Dense)             (None, 32)                544       \n",
      "_________________________________________________________________\n",
      "dense_19 (Dense)             (None, 64)                2112      \n",
      "_________________________________________________________________\n",
      "dense_20 (Dense)             (None, 128)               8320      \n",
      "_________________________________________________________________\n",
      "dense_21 (Dense)             (None, 64)                8256      \n",
      "_________________________________________________________________\n",
      "dense_22 (Dense)             (None, 32)                2080      \n",
      "_________________________________________________________________\n",
      "dense_23 (Dense)             (None, 16)                528       \n",
      "_________________________________________________________________\n",
      "dense_24 (Dense)             (None, 1)                 17        \n",
      "=================================================================\n",
      "Total params: 1,181,873\n",
      "Trainable params: 1,181,873\n",
      "Non-trainable params: 0\n",
      "_________________________________________________________________\n"
     ]
    }
   ],
   "source": [
    "model.add(Flatten())\n",
    "model.add(Dense(16,activation = \"relu\"))\n",
    "model.add(Dense(32,activation = \"relu\"))\n",
    "model.add(Dense(64,activation = \"relu\"))\n",
    "model.add(Dense(128,activation = \"relu\"))\n",
    "model.add(Dense(64,activation = \"relu\"))\n",
    "model.add(Dense(32,activation = \"relu\"))\n",
    "model.add(Dense(16,activation = \"relu\"))\n",
    "model.add(Dense(1,activation='sigmoid'))\n",
    "model.summary()"
   ]
  },
  {
   "cell_type": "markdown",
   "metadata": {},
   "source": [
    "<h2> Adding the embedding layer</h2>"
   ]
  },
  {
   "cell_type": "code",
   "execution_count": 172,
   "metadata": {},
   "outputs": [
    {
     "data": {
      "text/plain": [
       "<keras.layers.embeddings.Embedding at 0x1a97d16ba8>"
      ]
     },
     "execution_count": 172,
     "metadata": {},
     "output_type": "execute_result"
    }
   ],
   "source": [
    "model.layers[0]"
   ]
  },
  {
   "cell_type": "code",
   "execution_count": 173,
   "metadata": {},
   "outputs": [],
   "source": [
    "model.layers[0].set_weights([embedding_matrix])\n",
    "model.layers[0].trainable = False"
   ]
  },
  {
   "cell_type": "code",
   "execution_count": 174,
   "metadata": {},
   "outputs": [
    {
     "data": {
      "text/plain": [
       "<keras.layers.embeddings.Embedding at 0x1a97d16ba8>"
      ]
     },
     "execution_count": 174,
     "metadata": {},
     "output_type": "execute_result"
    }
   ],
   "source": [
    "model.layers[0]"
   ]
  },
  {
   "cell_type": "code",
   "execution_count": 175,
   "metadata": {},
   "outputs": [
    {
     "name": "stdout",
     "output_type": "stream",
     "text": [
      "_________________________________________________________________\n",
      "Layer (type)                 Output Shape              Param #   \n",
      "=================================================================\n",
      "embedding_2 (Embedding)      (None, 100, 100)          1000000   \n",
      "_________________________________________________________________\n",
      "flatten_2 (Flatten)          (None, 10000)             0         \n",
      "_________________________________________________________________\n",
      "dense_17 (Dense)             (None, 16)                160016    \n",
      "_________________________________________________________________\n",
      "dense_18 (Dense)             (None, 32)                544       \n",
      "_________________________________________________________________\n",
      "dense_19 (Dense)             (None, 64)                2112      \n",
      "_________________________________________________________________\n",
      "dense_20 (Dense)             (None, 128)               8320      \n",
      "_________________________________________________________________\n",
      "dense_21 (Dense)             (None, 64)                8256      \n",
      "_________________________________________________________________\n",
      "dense_22 (Dense)             (None, 32)                2080      \n",
      "_________________________________________________________________\n",
      "dense_23 (Dense)             (None, 16)                528       \n",
      "_________________________________________________________________\n",
      "dense_24 (Dense)             (None, 1)                 17        \n",
      "=================================================================\n",
      "Total params: 1,181,873\n",
      "Trainable params: 181,873\n",
      "Non-trainable params: 1,000,000\n",
      "_________________________________________________________________\n"
     ]
    }
   ],
   "source": [
    "model.summary()"
   ]
  },
  {
   "cell_type": "markdown",
   "metadata": {},
   "source": [
    "<h2>Compilation</h2>"
   ]
  },
  {
   "cell_type": "code",
   "execution_count": 176,
   "metadata": {},
   "outputs": [],
   "source": [
    "model.compile(optimizer = 'rmsprop',\n",
    "             loss = 'binary_crossentropy',\n",
    "             metrics = ['acc'])"
   ]
  },
  {
   "cell_type": "markdown",
   "metadata": {},
   "source": [
    "<h2> Fitting </h2>"
   ]
  },
  {
   "cell_type": "code",
   "execution_count": 177,
   "metadata": {},
   "outputs": [
    {
     "name": "stdout",
     "output_type": "stream",
     "text": [
      "Train on 12830 samples, validate on 592 samples\n",
      "Epoch 1/30\n",
      "12830/12830 [==============================] - 1s 76us/step - loss: 0.6239 - acc: 0.6481 - val_loss: 1.0258 - val_acc: 0.5608\n",
      "Epoch 2/30\n",
      "12830/12830 [==============================] - 0s 32us/step - loss: 0.4871 - acc: 0.7679 - val_loss: 0.8130 - val_acc: 0.6199\n",
      "Epoch 3/30\n",
      "12830/12830 [==============================] - 0s 29us/step - loss: 0.3972 - acc: 0.8200 - val_loss: 0.8502 - val_acc: 0.6453\n",
      "Epoch 4/30\n",
      "12830/12830 [==============================] - 0s 30us/step - loss: 0.3277 - acc: 0.8599 - val_loss: 0.8448 - val_acc: 0.6740\n",
      "Epoch 5/30\n",
      "12830/12830 [==============================] - 0s 36us/step - loss: 0.2739 - acc: 0.8804 - val_loss: 0.8443 - val_acc: 0.6436\n",
      "Epoch 6/30\n",
      "12830/12830 [==============================] - 0s 30us/step - loss: 0.2262 - acc: 0.9070 - val_loss: 1.3020 - val_acc: 0.6199\n",
      "Epoch 7/30\n",
      "12830/12830 [==============================] - 0s 31us/step - loss: 0.1751 - acc: 0.9314 - val_loss: 1.3104 - val_acc: 0.6503\n",
      "Epoch 8/30\n",
      "12830/12830 [==============================] - 0s 30us/step - loss: 0.1615 - acc: 0.9386 - val_loss: 1.5324 - val_acc: 0.6047\n",
      "Epoch 9/30\n",
      "12830/12830 [==============================] - 0s 31us/step - loss: 0.1319 - acc: 0.9500 - val_loss: 1.3682 - val_acc: 0.6132\n",
      "Epoch 10/30\n",
      "12830/12830 [==============================] - 0s 28us/step - loss: 0.1062 - acc: 0.9622 - val_loss: 1.1531 - val_acc: 0.6520\n",
      "Epoch 11/30\n",
      "12830/12830 [==============================] - 0s 30us/step - loss: 0.0920 - acc: 0.9687 - val_loss: 1.7398 - val_acc: 0.6588\n",
      "Epoch 12/30\n",
      "12830/12830 [==============================] - 0s 29us/step - loss: 0.0898 - acc: 0.9702 - val_loss: 1.4849 - val_acc: 0.6486\n",
      "Epoch 13/30\n",
      "12830/12830 [==============================] - 0s 28us/step - loss: 0.0675 - acc: 0.9790 - val_loss: 1.6411 - val_acc: 0.6655\n",
      "Epoch 14/30\n",
      "12830/12830 [==============================] - 0s 29us/step - loss: 0.0755 - acc: 0.9767 - val_loss: 2.2473 - val_acc: 0.6453\n",
      "Epoch 15/30\n",
      "12830/12830 [==============================] - 0s 31us/step - loss: 0.0712 - acc: 0.9793 - val_loss: 2.2460 - val_acc: 0.6368\n",
      "Epoch 16/30\n",
      "12830/12830 [==============================] - 0s 29us/step - loss: 0.0506 - acc: 0.9844 - val_loss: 1.7194 - val_acc: 0.6301\n",
      "Epoch 17/30\n",
      "12830/12830 [==============================] - 0s 29us/step - loss: 0.0580 - acc: 0.9822 - val_loss: 2.0322 - val_acc: 0.6605\n",
      "Epoch 18/30\n",
      "12830/12830 [==============================] - 0s 37us/step - loss: 0.0497 - acc: 0.9846 - val_loss: 1.9404 - val_acc: 0.6453\n",
      "Epoch 19/30\n",
      "12830/12830 [==============================] - 0s 28us/step - loss: 0.0632 - acc: 0.9816 - val_loss: 1.5459 - val_acc: 0.6368\n",
      "Epoch 20/30\n",
      "12830/12830 [==============================] - 0s 32us/step - loss: 0.0447 - acc: 0.9864 - val_loss: 1.8928 - val_acc: 0.6351\n",
      "Epoch 21/30\n",
      "12830/12830 [==============================] - 0s 30us/step - loss: 0.0401 - acc: 0.9885 - val_loss: 2.0894 - val_acc: 0.6588\n",
      "Epoch 22/30\n",
      "12830/12830 [==============================] - 0s 30us/step - loss: 0.0500 - acc: 0.9864 - val_loss: 2.3729 - val_acc: 0.6436\n",
      "Epoch 23/30\n",
      "12830/12830 [==============================] - 0s 32us/step - loss: 0.0349 - acc: 0.9900 - val_loss: 2.1410 - val_acc: 0.6537\n",
      "Epoch 24/30\n",
      "12830/12830 [==============================] - 0s 28us/step - loss: 0.0427 - acc: 0.9880 - val_loss: 2.3041 - val_acc: 0.6554\n",
      "Epoch 25/30\n",
      "12830/12830 [==============================] - 0s 33us/step - loss: 0.0297 - acc: 0.9917 - val_loss: 2.3069 - val_acc: 0.6385\n",
      "Epoch 26/30\n",
      "12830/12830 [==============================] - 0s 30us/step - loss: 0.0301 - acc: 0.9913 - val_loss: 2.2870 - val_acc: 0.6368\n",
      "Epoch 27/30\n",
      "12830/12830 [==============================] - 0s 29us/step - loss: 0.0346 - acc: 0.9903 - val_loss: 2.2516 - val_acc: 0.6757\n",
      "Epoch 28/30\n",
      "12830/12830 [==============================] - 0s 32us/step - loss: 0.0372 - acc: 0.9889 - val_loss: 3.4438 - val_acc: 0.5963\n",
      "Epoch 29/30\n",
      "12830/12830 [==============================] - 0s 27us/step - loss: 0.0295 - acc: 0.9916 - val_loss: 2.7611 - val_acc: 0.6318\n",
      "Epoch 30/30\n",
      "12830/12830 [==============================] - 0s 31us/step - loss: 0.0315 - acc: 0.9903 - val_loss: 2.8353 - val_acc: 0.6470\n"
     ]
    }
   ],
   "source": [
    "history = model.fit(train_data,train_labels,\n",
    "                    epochs = 30, \n",
    "                    batch_size = 200,\n",
    "                    validation_data=(dev_data,dev_labels))\n",
    "model.save_weights('pre_trained_glove_model.h5')"
   ]
  },
  {
   "cell_type": "markdown",
   "metadata": {},
   "source": [
    "<p>we have achieved a better accuracy after using a pretrained word embedding</p>"
   ]
  },
  {
   "cell_type": "markdown",
   "metadata": {},
   "source": [
    "<h2>Visualisation of training and validation loss and training and validation accuracy.</h2>"
   ]
  },
  {
   "cell_type": "code",
   "execution_count": 178,
   "metadata": {
    "scrolled": true
   },
   "outputs": [
    {
     "data": {
      "image/png": "[encoded data removed]",
      "text/plain": [
       "<Figure size 432x288 with 1 Axes>"
      ]
     },
     "metadata": {
      "needs_background": "light"
     },
     "output_type": "display_data"
    },
    {
     "data": {
      "image/png": "[encoded data removed]",
      "text/plain": [
       "<Figure size 432x288 with 1 Axes>"
      ]
     },
     "metadata": {
      "needs_background": "light"
     },
     "output_type": "display_data"
    }
   ],
   "source": [
    "acc = history.history['acc']\n",
    "val_acc = history.history['val_acc']\n",
    "loss = history.history['loss']\n",
    "val_loss = history.history['val_loss']\n",
    "\n",
    "epochs = range(1,len(acc) + 1)\n",
    "\n",
    "plt.plot(epochs,acc,'bo',label = 'Training acc')\n",
    "plt.plot(epochs,val_acc,'b',label = 'Validation acc')\n",
    "plt.title('Training and Validation accuracy')\n",
    "plt.legend()\n",
    "\n",
    "plt.figure()\n",
    "\n",
    "plt.plot(epochs,loss,'bo',label = 'Training loss')\n",
    "plt.plot(epochs, val_loss, 'b',label = 'Validation loss')\n",
    "plt.title('Training and Validation loss')\n",
    "plt.legend()\n",
    "\n",
    "plt.show()"
   ]
  },
  {
   "cell_type": "code",
   "execution_count": 179,
   "metadata": {},
   "outputs": [
    {
     "data": {
      "text/html": [
       "<div>\n",
       "<style scoped>\n",
       "    .dataframe tbody tr th:only-of-type {\n",
       "        vertical-align: middle;\n",
       "    }\n",
       "\n",
       "    .dataframe tbody tr th {\n",
       "        vertical-align: top;\n",
       "    }\n",
       "\n",
       "    .dataframe thead th {\n",
       "        text-align: right;\n",
       "    }\n",
       "</style>\n",
       "<table border=\"1\" class=\"dataframe\">\n",
       "  <thead>\n",
       "    <tr style=\"text-align: right;\">\n",
       "      <th></th>\n",
       "      <th>Id</th>\n",
       "      <th>sentence</th>\n",
       "      <th>label</th>\n",
       "    </tr>\n",
       "  </thead>\n",
       "  <tbody>\n",
       "    <tr>\n",
       "      <th>0</th>\n",
       "      <td>9566</td>\n",
       "      <td>This would enable live traffic aware apps.</td>\n",
       "      <td>X</td>\n",
       "    </tr>\n",
       "    <tr>\n",
       "      <th>1</th>\n",
       "      <td>9569</td>\n",
       "      <td>Please try other formatting like bold italics ...</td>\n",
       "      <td>X</td>\n",
       "    </tr>\n",
       "    <tr>\n",
       "      <th>2</th>\n",
       "      <td>9576</td>\n",
       "      <td>Since computers were invented to save time I s...</td>\n",
       "      <td>X</td>\n",
       "    </tr>\n",
       "    <tr>\n",
       "      <th>3</th>\n",
       "      <td>9577</td>\n",
       "      <td>Allow rearranging if the user wants to change ...</td>\n",
       "      <td>X</td>\n",
       "    </tr>\n",
       "    <tr>\n",
       "      <th>4</th>\n",
       "      <td>9579</td>\n",
       "      <td>Add SIMD instructions for better use of ARM NE...</td>\n",
       "      <td>X</td>\n",
       "    </tr>\n",
       "  </tbody>\n",
       "</table>\n",
       "</div>"
      ],
      "text/plain": [
       "     Id                                           sentence label\n",
       "0  9566         This would enable live traffic aware apps.     X\n",
       "1  9569  Please try other formatting like bold italics ...     X\n",
       "2  9576  Since computers were invented to save time I s...     X\n",
       "3  9577  Allow rearranging if the user wants to change ...     X\n",
       "4  9579  Add SIMD instructions for better use of ARM NE...     X"
      ]
     },
     "execution_count": 179,
     "metadata": {},
     "output_type": "execute_result"
    }
   ],
   "source": [
    "test.head()"
   ]
  },
  {
   "cell_type": "code",
   "execution_count": 180,
   "metadata": {},
   "outputs": [
    {
     "data": {
      "text/plain": [
       "(833, 3)"
      ]
     },
     "execution_count": 180,
     "metadata": {},
     "output_type": "execute_result"
    }
   ],
   "source": [
    "test.shape"
   ]
  },
  {
   "cell_type": "code",
   "execution_count": 181,
   "metadata": {},
   "outputs": [],
   "source": [
    "sequences_test = tokenizer.texts_to_sequences(test['sentence'])"
   ]
  },
  {
   "cell_type": "code",
   "execution_count": 182,
   "metadata": {},
   "outputs": [],
   "source": [
    "test_data = pad_sequences(sequences_test,maxlen = maxlen)"
   ]
  },
  {
   "cell_type": "code",
   "execution_count": 183,
   "metadata": {
    "scrolled": false
   },
   "outputs": [
    {
     "data": {
      "text/plain": [
       "[16, 14, 275, 345, 3174, 2934, 29]"
      ]
     },
     "execution_count": 183,
     "metadata": {},
     "output_type": "execute_result"
    }
   ],
   "source": [
    "sequences_test[0]"
   ]
  },
  {
   "cell_type": "markdown",
   "metadata": {},
   "source": [
    "<h2>Prediction</h2>"
   ]
  },
  {
   "cell_type": "code",
   "execution_count": 184,
   "metadata": {},
   "outputs": [],
   "source": [
    "ypred = model.predict(test_data)"
   ]
  },
  {
   "cell_type": "code",
   "execution_count": 185,
   "metadata": {},
   "outputs": [
    {
     "data": {
      "text/plain": [
       "833"
      ]
     },
     "execution_count": 185,
     "metadata": {},
     "output_type": "execute_result"
    }
   ],
   "source": [
    "len(ypred)"
   ]
  },
  {
   "cell_type": "code",
   "execution_count": 186,
   "metadata": {},
   "outputs": [],
   "source": [
    "y = []\n",
    "for i in ypred:\n",
    "    if i < 0.5:\n",
    "        y.append(0)\n",
    "    else:\n",
    "        y.append(1)"
   ]
  },
  {
   "cell_type": "code",
   "execution_count": 187,
   "metadata": {},
   "outputs": [
    {
     "data": {
      "text/plain": [
       "{0, 1}"
      ]
     },
     "execution_count": 187,
     "metadata": {},
     "output_type": "execute_result"
    }
   ],
   "source": [
    "set(y)"
   ]
  },
  {
   "cell_type": "code",
   "execution_count": 188,
   "metadata": {},
   "outputs": [],
   "source": [
    "submission = pd.read_csv(\"SubtaskA_EvaluationData.csv\")\n",
    "submission.drop(['label'], axis = 1)\n",
    "submission['label'] = y\n",
    "submission.to_csv(\"Divyanshu_Aggarwal.csv\", index = False)"
   ]
  },
  {
   "cell_type": "code",
   "execution_count": 189,
   "metadata": {},
   "outputs": [
    {
     "data": {
      "text/html": [
       "<div>\n",
       "<style scoped>\n",
       "    .dataframe tbody tr th:only-of-type {\n",
       "        vertical-align: middle;\n",
       "    }\n",
       "\n",
       "    .dataframe tbody tr th {\n",
       "        vertical-align: top;\n",
       "    }\n",
       "\n",
       "    .dataframe thead th {\n",
       "        text-align: right;\n",
       "    }\n",
       "</style>\n",
       "<table border=\"1\" class=\"dataframe\">\n",
       "  <thead>\n",
       "    <tr style=\"text-align: right;\">\n",
       "      <th></th>\n",
       "      <th>Id</th>\n",
       "      <th>sentence</th>\n",
       "      <th>label</th>\n",
       "    </tr>\n",
       "  </thead>\n",
       "  <tbody>\n",
       "    <tr>\n",
       "      <th>0</th>\n",
       "      <td>9566</td>\n",
       "      <td>This would enable live traffic aware apps.</td>\n",
       "      <td>0</td>\n",
       "    </tr>\n",
       "    <tr>\n",
       "      <th>1</th>\n",
       "      <td>9569</td>\n",
       "      <td>Please try other formatting like bold italics ...</td>\n",
       "      <td>0</td>\n",
       "    </tr>\n",
       "    <tr>\n",
       "      <th>2</th>\n",
       "      <td>9576</td>\n",
       "      <td>Since computers were invented to save time I s...</td>\n",
       "      <td>0</td>\n",
       "    </tr>\n",
       "    <tr>\n",
       "      <th>3</th>\n",
       "      <td>9577</td>\n",
       "      <td>Allow rearranging if the user wants to change ...</td>\n",
       "      <td>0</td>\n",
       "    </tr>\n",
       "    <tr>\n",
       "      <th>4</th>\n",
       "      <td>9579</td>\n",
       "      <td>Add SIMD instructions for better use of ARM NE...</td>\n",
       "      <td>1</td>\n",
       "    </tr>\n",
       "  </tbody>\n",
       "</table>\n",
       "</div>"
      ],
      "text/plain": [
       "     Id                                           sentence  label\n",
       "0  9566         This would enable live traffic aware apps.      0\n",
       "1  9569  Please try other formatting like bold italics ...      0\n",
       "2  9576  Since computers were invented to save time I s...      0\n",
       "3  9577  Allow rearranging if the user wants to change ...      0\n",
       "4  9579  Add SIMD instructions for better use of ARM NE...      1"
      ]
     },
     "execution_count": 189,
     "metadata": {},
     "output_type": "execute_result"
    }
   ],
   "source": [
    "submission.head()"
   ]
  }
 ],
 "metadata": {
  "kernelspec": {
   "display_name": "Python 3",
   "language": "python",
   "name": "python3"
  },
  "language_info": {
   "codemirror_mode": {
    "name": "ipython",
    "version": 3
   },
   "file_extension": ".py",
   "mimetype": "text/x-python",
   "name": "python",
   "nbconvert_exporter": "python",
   "pygments_lexer": "ipython3",
   "version": "3.7.2"
  }
 },
 "nbformat": 4,
 "nbformat_minor": 2
}
